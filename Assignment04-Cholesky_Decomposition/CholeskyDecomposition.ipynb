{
 "cells": [
  {
   "cell_type": "code",
   "execution_count": 1,
   "id": "c533373e",
   "metadata": {},
   "outputs": [],
   "source": [
    "%run ../utils.ipynb"
   ]
  },
  {
   "cell_type": "code",
   "execution_count": 2,
   "id": "448be75d",
   "metadata": {},
   "outputs": [
    {
     "data": {
      "text/plain": [
       "array([[20.,  7.,  9.],\n",
       "       [ 7., 30.,  8.],\n",
       "       [ 9.,  8., 30.]])"
      ]
     },
     "execution_count": 2,
     "metadata": {},
     "output_type": "execute_result"
    }
   ],
   "source": [
    "matrix"
   ]
  },
  {
   "cell_type": "code",
   "execution_count": 4,
   "id": "56c20445",
   "metadata": {},
   "outputs": [],
   "source": [
    "# Check if the Matrix is positive-definite, if it is return it.\n",
    "# Retuns None if the matrix is not positive-definite \n",
    "def choleskyDecomposition(M):    \n",
    "    n, m = len(matrix), len(matrix[0])    \n",
    "    if (n != m):\n",
    "        return None\n",
    "    S = np.zeros((n,m))\n",
    "    for j in range(m):\n",
    "        s = 0        \n",
    "        for k in range(j):\n",
    "            s += S[j][k]**2\n",
    "        if (s >= M[j][j]):\n",
    "            return \"A Matriz não é positiva definida.\"\n",
    "        S[j][j] = np.sqrt(M[j][j] - s)\n",
    "        for i in range(j+1, n):\n",
    "            s = 0\n",
    "            for k in range(j):\n",
    "                s += S[i][k] * S[j][k]\n",
    "            S[i][j] = (M[i][j] - s) / S[j][j]\n",
    "            \n",
    "    return np.array(S)"
   ]
  },
  {
   "cell_type": "code",
   "execution_count": 5,
   "id": "fe002146",
   "metadata": {},
   "outputs": [],
   "source": [
    "S = choleskyDecomposition(matrix)"
   ]
  },
  {
   "cell_type": "code",
   "execution_count": 6,
   "id": "cd7f35d7",
   "metadata": {},
   "outputs": [
    {
     "data": {
      "text/plain": [
       "array([[4.47213595, 0.        , 0.        ],\n",
       "       [1.56524758, 5.24880939, 0.        ],\n",
       "       [2.01246118, 0.92401908, 5.00960964]])"
      ]
     },
     "execution_count": 6,
     "metadata": {},
     "output_type": "execute_result"
    }
   ],
   "source": [
    "S"
   ]
  },
  {
   "cell_type": "code",
   "execution_count": 7,
   "id": "1a0f2801",
   "metadata": {},
   "outputs": [
    {
     "data": {
      "text/plain": [
       "array([[20.,  7.,  9.],\n",
       "       [ 7., 30.,  8.],\n",
       "       [ 9.,  8., 30.]])"
      ]
     },
     "execution_count": 7,
     "metadata": {},
     "output_type": "execute_result"
    }
   ],
   "source": [
    "S @ S.T"
   ]
  }
 ],
 "metadata": {
  "kernelspec": {
   "display_name": "Python 3 (ipykernel)",
   "language": "python",
   "name": "python3"
  },
  "language_info": {
   "codemirror_mode": {
    "name": "ipython",
    "version": 3
   },
   "file_extension": ".py",
   "mimetype": "text/x-python",
   "name": "python",
   "nbconvert_exporter": "python",
   "pygments_lexer": "ipython3",
   "version": "3.9.5"
  }
 },
 "nbformat": 4,
 "nbformat_minor": 5
}
