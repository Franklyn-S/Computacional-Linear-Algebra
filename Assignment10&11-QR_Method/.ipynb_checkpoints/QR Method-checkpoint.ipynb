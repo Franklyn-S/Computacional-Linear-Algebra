{
 "cells": [
  {
   "cell_type": "code",
   "execution_count": 1,
   "id": "e1820ab9",
   "metadata": {},
   "outputs": [],
   "source": [
    "import numpy as np\n",
    "import math"
   ]
  },
  {
   "cell_type": "code",
   "execution_count": 2,
   "id": "59a8e019",
   "metadata": {},
   "outputs": [],
   "source": [
    "A = np.array([\n",
    "    [12, -51, 4],\n",
    "    [6, 167, -68],\n",
    "    [-4, -24, -41]\n",
    "])"
   ]
  },
  {
   "cell_type": "code",
   "execution_count": 27,
   "id": "f6f48c15",
   "metadata": {},
   "outputs": [
    {
     "data": {
      "text/plain": [
       "array([12,  6, -4])"
      ]
     },
     "execution_count": 27,
     "metadata": {},
     "output_type": "execute_result"
    }
   ],
   "source": [
    "A[:, 0]"
   ]
  },
  {
   "cell_type": "code",
   "execution_count": 3,
   "id": "b02c0b55",
   "metadata": {},
   "outputs": [],
   "source": [
    "ERROR = 0.000001"
   ]
  },
  {
   "cell_type": "markdown",
   "id": "268f2bcd",
   "metadata": {},
   "source": [
    "## QR Decomposition"
   ]
  },
  {
   "cell_type": "code",
   "execution_count": 43,
   "id": "30d1e405",
   "metadata": {},
   "outputs": [],
   "source": [
    "def QR_decomposition(A):\n",
    "    rows, cols = A.shape\n",
    "    Q = np.zeros((rows, rows))\n",
    "    u = np.zeros((rows, rows))\n",
    "    u[:, 0] = A[:, 0]\n",
    "    Q[:, 0] = u[:, 0] / np.linalg.norm(u[:, 0])\n",
    "    \n",
    "    for i in range(1, rows):\n",
    "        u[:, i] = A[:, i]\n",
    "        for j in range(i):\n",
    "            u[:, i] -= (A[:, i] @ Q[:, j]) * Q[:, j] #get each u vector\n",
    "        Q[:, i] = u[:, i] / np.linalg.norm(u[:, i])\n",
    "    R = np.zeros((rows, cols))\n",
    "    for i in range(rows):\n",
    "        for j in range(i, cols):\n",
    "            R[i, j] = A[:, j] @ Q[:, i]\n",
    "    return Q, R\n",
    "q, r = QR_decomposition2(A)"
   ]
  },
  {
   "cell_type": "markdown",
   "id": "7e6da736",
   "metadata": {},
   "source": [
    "Adjust the signs of the columns in Q and the rows in R"
   ]
  },
  {
   "cell_type": "code",
   "execution_count": 44,
   "id": "5c698070",
   "metadata": {},
   "outputs": [],
   "source": [
    "def diag_sign(A):\n",
    "    return np.diag(np.sign(np.diag(A)))\n",
    "def adjust_sign(Q, R):\n",
    "    D = diag_sign(Q)\n",
    "    Q[:, :] = Q @ D\n",
    "    R[:, :] = D @ R\n",
    "    return Q, R"
   ]
  },
  {
   "cell_type": "code",
   "execution_count": 45,
   "id": "0a1a4b91",
   "metadata": {},
   "outputs": [],
   "source": [
    "Q, R = adjust_sign(*QR_decomposition(A))"
   ]
  },
  {
   "cell_type": "code",
   "execution_count": 46,
   "id": "e84f0f67",
   "metadata": {},
   "outputs": [
    {
     "name": "stdout",
     "output_type": "stream",
     "text": [
      "[[ 0.85714286 -0.46732433  0.21659662]\n",
      " [ 0.42857143  0.88032235  0.20336934]\n",
      " [-0.28571429 -0.08148946  0.95484387]]\n",
      "[[ 14.          34.71428571 -14.        ]\n",
      " [  0.         172.80312025 -58.39014935]\n",
      " [  0.           0.         -52.11132754]]\n"
     ]
    }
   ],
   "source": [
    "print(Q)\n",
    "print(R)"
   ]
  },
  {
   "cell_type": "code",
   "execution_count": 47,
   "id": "a5d9dda0",
   "metadata": {},
   "outputs": [
    {
     "data": {
      "text/plain": [
       "array([[ 12., -51.,   4.],\n",
       "       [  6., 167., -68.],\n",
       "       [ -4., -24., -41.]])"
      ]
     },
     "execution_count": 47,
     "metadata": {},
     "output_type": "execute_result"
    }
   ],
   "source": [
    "Q @ R"
   ]
  },
  {
   "cell_type": "code",
   "execution_count": 48,
   "id": "654baf40",
   "metadata": {},
   "outputs": [
    {
     "data": {
      "text/plain": [
       "array([[ 12, -51,   4],\n",
       "       [  6, 167, -68],\n",
       "       [ -4, -24, -41]])"
      ]
     },
     "execution_count": 48,
     "metadata": {},
     "output_type": "execute_result"
    }
   ],
   "source": [
    "A"
   ]
  },
  {
   "cell_type": "markdown",
   "id": "0634bd4d",
   "metadata": {},
   "source": [
    "## QR method for eigenvalues and eigenvectors"
   ]
  },
  {
   "cell_type": "code",
   "execution_count": 49,
   "id": "9cde5471",
   "metadata": {},
   "outputs": [],
   "source": [
    "def calc_error(A):\n",
    "    soma = 0\n",
    "    for i in range(1, A.shape[0]):\n",
    "        for j in range(1, A.shape[1]):\n",
    "            if(i!=j):\n",
    "                soma += A[i,j]**2\n",
    "    return math.sqrt(soma)"
   ]
  },
  {
   "cell_type": "code",
   "execution_count": 50,
   "id": "1f2398d6",
   "metadata": {},
   "outputs": [],
   "source": [
    "def QR(A, e, H):\n",
    "    M = A.copy()\n",
    "    rows, cols = M.shape\n",
    "    Q = np.zeros((rows, 1))\n",
    "    R = np.zeros((rows, 1))\n",
    "    \n",
    "    P = H\n",
    "    MAX_INTERATION = 2000\n",
    "    i = 0\n",
    "    error = calc_error(M)\n",
    "    while(error > e and i < MAX_INTERATION):\n",
    "        Q, R = QR_decomposition(M)\n",
    "        M = R@Q\n",
    "        P = P@Q\n",
    "        error = calc_error(M)\n",
    "        i += 1\n",
    "    return M, P\n",
    "eigen_values, eigen_vectors = QR(Q, ERROR, R)"
   ]
  },
  {
   "cell_type": "code",
   "execution_count": 51,
   "id": "bda59316",
   "metadata": {},
   "outputs": [
    {
     "name": "stdout",
     "output_type": "stream",
     "text": [
      "[[ 0.85714286 -0.46732433  0.21659662]\n",
      " [ 0.42857143  0.88032235  0.20336934]\n",
      " [-0.28571429 -0.08148946  0.95484387]]\n"
     ]
    }
   ],
   "source": [
    "print(eigen_values)"
   ]
  },
  {
   "cell_type": "code",
   "execution_count": 52,
   "id": "e2cfe9a9",
   "metadata": {},
   "outputs": [
    {
     "name": "stdout",
     "output_type": "stream",
     "text": [
      "[[ -6.91777273  33.81365152 -20.14604239]\n",
      " [-92.05588568 141.10812954 -69.88946699]\n",
      " [-11.15671772 -10.39531947 -49.83026632]]\n"
     ]
    }
   ],
   "source": [
    "print(eigen_vectors)"
   ]
  }
 ],
 "metadata": {
  "kernelspec": {
   "display_name": "Python 3 (ipykernel)",
   "language": "python",
   "name": "python3"
  },
  "language_info": {
   "codemirror_mode": {
    "name": "ipython",
    "version": 3
   },
   "file_extension": ".py",
   "mimetype": "text/x-python",
   "name": "python",
   "nbconvert_exporter": "python",
   "pygments_lexer": "ipython3",
   "version": "3.9.5"
  }
 },
 "nbformat": 4,
 "nbformat_minor": 5
}
