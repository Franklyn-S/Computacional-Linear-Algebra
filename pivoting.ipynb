{
 "cells": [
  {
   "cell_type": "code",
   "execution_count": 1,
   "id": "100aafe3",
   "metadata": {},
   "outputs": [],
   "source": [
    "import numpy as np"
   ]
  },
  {
   "cell_type": "code",
   "execution_count": 2,
   "id": "20757973",
   "metadata": {},
   "outputs": [],
   "source": [
    "matrix = np.array([\n",
    "  np.array([20, 7, 9], dtype=float),\n",
    "  np.array([7, 30, 8], dtype=float),\n",
    "  np.array([9, 8, 30], dtype=float),\n",
    "])"
   ]
  },
  {
   "cell_type": "code",
   "execution_count": 3,
   "id": "f07f313c",
   "metadata": {},
   "outputs": [],
   "source": [
    "matrix2 = np.array([\n",
    "  np.array([5, 8, 9], dtype=float),\n",
    "  np.array([4, 3, 2], dtype=float),\n",
    "  np.array([6, 7, 5], dtype=float),\n",
    "])"
   ]
  },
  {
   "cell_type": "code",
   "execution_count": 4,
   "id": "9d43d1b2",
   "metadata": {},
   "outputs": [],
   "source": [
    "b = np.array([\n",
    "  np.array([16], dtype=float),\n",
    "  np.array([38], dtype=float),\n",
    "  np.array([38], dtype=float),\n",
    "])"
   ]
  },
  {
   "cell_type": "code",
   "execution_count": 5,
   "id": "a8ff1f66",
   "metadata": {},
   "outputs": [
    {
     "data": {
      "text/plain": [
       "array([[5., 8., 9.],\n",
       "       [4., 3., 2.],\n",
       "       [6., 7., 5.]])"
      ]
     },
     "execution_count": 5,
     "metadata": {},
     "output_type": "execute_result"
    }
   ],
   "source": [
    "matrix2"
   ]
  },
  {
   "cell_type": "code",
   "execution_count": 6,
   "id": "61e47ad3",
   "metadata": {},
   "outputs": [],
   "source": [
    "# Fint the biggest value (in module) in a matrix\n",
    "# Parameters:\n",
    "#    M - Matrix\n",
    "# Return\n",
    "#   - The row and column index of the biggest value in the matrix\n",
    "def find_biggest_value_id(M):\n",
    "    max_number = 0\n",
    "    row_idx = 0\n",
    "    col_idx = 0\n",
    "    for idr, row in enumerate(M):\n",
    "        n = row.max() if row.max() > abs(row.min()) else abs(row.min())\n",
    "        col_arg = row.argmax() if row.max() > abs(row.min()) else row.argmin()\n",
    "        if(n > max_number):\n",
    "            max_number = n\n",
    "            row_idx = idr\n",
    "            col_idx = col_arg\n",
    "                \n",
    "    return row_idx, col_idx\n",
    "# find_biggest_value_id(matrix2)"
   ]
  },
  {
   "cell_type": "code",
   "execution_count": 7,
   "id": "9d631125",
   "metadata": {},
   "outputs": [],
   "source": [
    "# Fint the biggest value (in module) in a specific column in a matrix\n",
    "# Parameters:\n",
    "#    M - Matrix\n",
    "#    col_idx - Column index to operate with\n",
    "# Return\n",
    "#   - The row index of the biggest value in that passed column\n",
    "def find_biggest_value_id_by_column(M, col_idx):\n",
    "    column = M.T[col_idx]\n",
    "    if (column.max() > abs(column.min())):\n",
    "        return column.argmax()\n",
    "    else:\n",
    "        return column.argmin()\n",
    "        "
   ]
  },
  {
   "cell_type": "code",
   "execution_count": 8,
   "id": "0839467d",
   "metadata": {},
   "outputs": [],
   "source": [
    "# Swap Lines in matrix\n",
    "def swap_lines(M, line1, line2):\n",
    "    M_copy = M.copy()\n",
    "    M_copy[[line1, line2]] = M_copy[[line1, line2]]\n",
    "    return M_copy"
   ]
  },
  {
   "cell_type": "code",
   "execution_count": 9,
   "id": "85b5a820",
   "metadata": {},
   "outputs": [],
   "source": [
    "# Swap columns in a matrix and result\n",
    "def swap_columns(M, b, col1, col2):\n",
    "    M_copy = M.copy()\n",
    "    b_ = b.copy()    \n",
    "    M_copy[:, [col1, col2]] = M_copy[:, [col2, col1]]\n",
    "    b_[[col1, col2]] = b_[[col2, col1]]\n",
    "    return M_copy, b_\n",
    "# swap_columns(matrix, b, 0, 1)"
   ]
  },
  {
   "cell_type": "code",
   "execution_count": 26,
   "id": "65d803ba",
   "metadata": {},
   "outputs": [
    {
     "name": "stdout",
     "output_type": "stream",
     "text": [
      "[[20.          7.          9.        ]\n",
      " [ 0.         27.55        4.85      ]\n",
      " [ 0.          0.         25.09618875]]\n",
      "[[16.        ]\n",
      " [32.4       ]\n",
      " [25.09618875]]\n"
     ]
    }
   ],
   "source": [
    "def elimination_with_partial_pivot(Matrix, b):\n",
    "    M = Matrix.copy()\n",
    "    b_ = b.copy()\n",
    "    lines_size = len(M)\n",
    "    col_size = M[0].size\n",
    "    \n",
    "    for c in range(col_size-1): # columns\n",
    "        for l in range(c+1, lines_size): # lines\n",
    "            if (M[l][c] < 0.0001):\n",
    "                idx_biggest_line = find_biggest_value_id_by_column(M, c)\n",
    "                if (idx_biggest_line != l):\n",
    "                    M = swap_lines(M, idx_biggest_line, l)\n",
    "\n",
    "            alfa = - M[l][c] / M[c][c]         \n",
    "            M[l] += alfa*M[c]\n",
    "            b_[l][0] += alfa*b_[c][0]\n",
    "        \n",
    "    return M, b_\n",
    "M, b_ = elimination_with_partial_pivot(matrix, b)\n",
    "\n",
    "print(M)\n",
    "print(b_)"
   ]
  },
  {
   "cell_type": "code",
   "execution_count": 33,
   "id": "9b8eca4e",
   "metadata": {},
   "outputs": [
    {
     "name": "stdout",
     "output_type": "stream",
     "text": [
      "[[20.          7.          9.        ]\n",
      " [ 0.         27.55        4.85      ]\n",
      " [ 0.          0.         25.09618875]]\n",
      "[[16.        ]\n",
      " [32.4       ]\n",
      " [25.09618875]]\n"
     ]
    }
   ],
   "source": [
    "def elimination_with_total_pivot(Matrix, b):\n",
    "    M = Matrix.copy()\n",
    "    b_ = b.copy()\n",
    "    lines_size = len(M)\n",
    "    col_size = M[0].size\n",
    "    \n",
    "    for c in range(col_size-1): # columns\n",
    "        idx_biggest_line, idx_biggest_col = find_biggest_value_id(M)                 \n",
    "        for l in range(c+1, lines_size): # lines\n",
    "            if (M[l][c] < 0.0001):\n",
    "                if (idx_biggest_col != c):\n",
    "                    M, b_ = swap_columns(M, b_, idx_biggest_col, c)\n",
    "                if (idx_biggest_line != l):\n",
    "                    M = swap_lines(M, idx_biggest_line, l) \n",
    "            alfa = - M[l][c] / M[c][c]         \n",
    "            M[l] += alfa*M[c]\n",
    "            b_[l][0] += alfa*b_[c][0]\n",
    "        \n",
    "    return M, b_\n",
    "M, b_ = elimination_with_total_pivot(matrix, b)\n",
    "\n",
    "print(M)\n",
    "print(b_)"
   ]
  },
  {
   "cell_type": "code",
   "execution_count": 34,
   "id": "a78ec0db",
   "metadata": {},
   "outputs": [
    {
     "data": {
      "text/plain": [
       "array([[0.],\n",
       "       [1.],\n",
       "       [1.]])"
      ]
     },
     "execution_count": 34,
     "metadata": {},
     "output_type": "execute_result"
    }
   ],
   "source": [
    "def back_substitution(M, b):\n",
    "    M_ = M.copy()\n",
    "    b_ = b.copy()\n",
    "    b_size = b.size\n",
    "    lines_size = len(M)\n",
    "    col_size = M[0].size\n",
    "    x = np.zeros((b_size, 1))\n",
    "    \n",
    "    x[b_size-1][0] =  b[b_size-1][0] / M[lines_size-1][lines_size-1]\n",
    "    for i in range(lines_size-2, -1, -1):\n",
    "        values_sum = 0\n",
    "        for j in range(i+1, lines_size):\n",
    "            values_sum += M[i][j] * x[j][0]\n",
    "        x[i][0] = (b[i][0] - values_sum) / M[i][i]\n",
    "    return x\n",
    "back_substitution(M, b_)"
   ]
  },
  {
   "cell_type": "code",
   "execution_count": null,
   "id": "a67cbd05",
   "metadata": {},
   "outputs": [],
   "source": []
  }
 ],
 "metadata": {
  "kernelspec": {
   "display_name": "Python 3",
   "language": "python",
   "name": "python3"
  },
  "language_info": {
   "codemirror_mode": {
    "name": "ipython",
    "version": 3
   },
   "file_extension": ".py",
   "mimetype": "text/x-python",
   "name": "python",
   "nbconvert_exporter": "python",
   "pygments_lexer": "ipython3",
   "version": "3.9.2"
  }
 },
 "nbformat": 4,
 "nbformat_minor": 5
}
