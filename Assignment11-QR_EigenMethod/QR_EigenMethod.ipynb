{
 "cells": [
  {
   "cell_type": "code",
   "execution_count": 1,
   "id": "8fb6ae93",
   "metadata": {},
   "outputs": [],
   "source": [
    "import numpy as np\n",
    "import math\n",
    "np.set_printoptions(precision=3)"
   ]
  },
  {
   "cell_type": "markdown",
   "id": "dd3d54b9",
   "metadata": {},
   "source": [
    "# Assignment 11"
   ]
  },
  {
   "cell_type": "markdown",
   "id": "48013f5c",
   "metadata": {},
   "source": [
    "## QR method for eigenvalues and eigenvectors"
   ]
  },
  {
   "cell_type": "markdown",
   "id": "d3bc00fa",
   "metadata": {},
   "source": [
    "### Simetric matrix"
   ]
  },
  {
   "cell_type": "code",
   "execution_count": 40,
   "id": "a5dfae41",
   "metadata": {},
   "outputs": [],
   "source": [
    "A = np.array([\n",
    "    [40, 3, 9, 7, 8],\n",
    "    [3, 23, 4, 7, 12],\n",
    "    [9, 4, 65, 16, 15],\n",
    "    [7, 7, 16, 37, 12],\n",
    "    [8, 12, 15, 12, 51]\n",
    "])"
   ]
  },
  {
   "cell_type": "code",
   "execution_count": 10,
   "id": "4860c770",
   "metadata": {
    "collapsed": true
   },
   "outputs": [
    {
     "name": "stdout",
     "output_type": "stream",
     "text": [
      "[[ 0.857 -0.467  0.217]\n",
      " [ 0.429  0.88   0.203]\n",
      " [-0.286 -0.081  0.955]]\n",
      "[[ 14.     34.714 -14.   ]\n",
      " [  0.    172.803 -58.39 ]\n",
      " [  0.      0.    -52.111]]\n"
     ]
    }
   ],
   "source": [
    "%run \"..\\Assignment10-QR_Decomposition/QR_Decomposition.ipynb\""
   ]
  },
  {
   "cell_type": "code",
   "execution_count": 19,
   "id": "a229fa18",
   "metadata": {},
   "outputs": [
    {
     "name": "stdout",
     "output_type": "stream",
     "text": [
      "16 Iterations\n",
      "eigenvalues:\n",
      " [172.317 -49.19   14.873]\n",
      "eigenvectors matrix:\n",
      " [[ 1.000e+00  7.143e-09 -1.512e-15]\n",
      " [-7.143e-09  1.000e+00 -2.795e-07]\n",
      " [-4.442e-17  2.795e-07  1.000e+00]]\n"
     ]
    }
   ],
   "source": [
    "def eigenQR(A, e=1e-5, max_iter=5000):\n",
    "    Ac = A.copy()\n",
    "    q, r = QR_decomposition(Ac)\n",
    "    eigenvectors = q\n",
    "    Ak = np.dot(r, q)\n",
    "    iteration = 0\n",
    "    while not np.allclose(Ak, Ac, e, e) and iteration < max_iter:\n",
    "        Ac = Ak\n",
    "        q_old = q\n",
    "        q, r = QR_decomposition(Ac)\n",
    "        eigenvectors = np.dot(q_old, q)\n",
    "        Ak = np.dot(r, q)\n",
    "        iteration += 1\n",
    "    print(iteration, 'Iterations')\n",
    "    return np.diagonal(Ak), eigenvectors\n",
    "            \n",
    "eigenvalues, eigenvectors = eigenQR(A)\n",
    "print('eigenvalues:\\n', eigenvalues)\n",
    "print('eigenvectors matrix:\\n', eigenvectors)"
   ]
  },
  {
   "cell_type": "markdown",
   "id": "bb45da97",
   "metadata": {},
   "source": [
    "## Househouder and QR applied to A"
   ]
  },
  {
   "cell_type": "code",
   "execution_count": 43,
   "id": "c8277c40",
   "metadata": {
    "collapsed": true
   },
   "outputs": [
    {
     "name": "stdout",
     "output_type": "stream",
     "text": [
      "\n",
      " Iteration 0 \n",
      "\n",
      "HouseHolder Matrix 0 : \n",
      " [[ 1.     0.     0.     0.   ]\n",
      " [ 0.    -0.333  0.667 -0.667]\n",
      " [ 0.     0.667  0.667  0.333]\n",
      " [ 0.    -0.667  0.333  0.667]]\n",
      "Similar Tranformation Modified Matrix 0 : \n",
      " [[ 4.000e+00 -3.000e+00  6.661e-16 -6.661e-16]\n",
      " [-3.000e+00  3.333e+00  1.000e+00  1.333e+00]\n",
      " [ 6.661e-16  1.000e+00  1.667e+00 -1.333e+00]\n",
      " [-6.661e-16  1.333e+00 -1.333e+00 -1.000e+00]]\n",
      "Cumalative HouseHolder Matrix 0 : \n",
      " [[ 1.     0.     0.     0.   ]\n",
      " [ 0.    -0.333  0.667 -0.667]\n",
      " [ 0.     0.667  0.667  0.333]\n",
      " [ 0.    -0.667  0.333  0.667]]\n",
      "\n",
      " Iteration 1 \n",
      "\n",
      "HouseHolder Matrix 1 : \n",
      " [[ 1.   0.   0.   0. ]\n",
      " [ 0.   1.   0.   0. ]\n",
      " [ 0.   0.  -0.6 -0.8]\n",
      " [ 0.   0.  -0.8  0.6]]\n",
      "Similar Tranformation Modified Matrix 1 : \n",
      " [[ 4.000e+00 -3.000e+00  1.332e-16 -9.326e-16]\n",
      " [-3.000e+00  3.333e+00 -1.667e+00  8.882e-17]\n",
      " [ 1.332e-16 -1.667e+00 -1.320e+00  9.067e-01]\n",
      " [-9.326e-16 -4.441e-17  9.067e-01  1.987e+00]]\n",
      "Cumalative HouseHolder Matrix 1 : \n",
      " [[ 1.     0.     0.     0.   ]\n",
      " [ 0.    -0.333  0.133 -0.933]\n",
      " [ 0.     0.667 -0.667 -0.333]\n",
      " [ 0.    -0.667 -0.733  0.133]]\n",
      "\n",
      " Output Matrix: \n",
      " [[ 4.000e+00 -3.000e+00  1.332e-16 -9.326e-16]\n",
      " [-3.000e+00  3.333e+00 -1.667e+00  8.882e-17]\n",
      " [ 1.332e-16 -1.667e+00 -1.320e+00  9.067e-01]\n",
      " [-9.326e-16 -4.441e-17  9.067e-01  1.987e+00]]\n",
      "---------------------------------------------------------------------\n",
      "Cumalative HouseHolder Matrix: \n",
      " [[ 1.     0.     0.     0.   ]\n",
      " [ 0.    -0.333  0.133 -0.933]\n",
      " [ 0.     0.667 -0.667 -0.333]\n",
      " [ 0.    -0.667 -0.733  0.133]]\n"
     ]
    }
   ],
   "source": [
    "%run \"..\\Assignment09-Householder\\Assignment09-Householder.ipynb\""
   ]
  },
  {
   "cell_type": "code",
   "execution_count": 44,
   "id": "c65114d0",
   "metadata": {},
   "outputs": [
    {
     "data": {
      "text/plain": [
       "array([[ 4.000e+00, -3.000e+00,  1.332e-16, -9.326e-16],\n",
       "       [-3.000e+00,  3.333e+00, -1.667e+00,  8.882e-17],\n",
       "       [ 1.332e-16, -1.667e+00, -1.320e+00,  9.067e-01],\n",
       "       [-9.326e-16, -4.441e-17,  9.067e-01,  1.987e+00]])"
      ]
     },
     "execution_count": 44,
     "metadata": {},
     "output_type": "execute_result"
    }
   ],
   "source": [
    "# apply householder\n",
    "Aq, H = HouseHolder(A, show_iterations=False)\n",
    "Aq"
   ]
  },
  {
   "cell_type": "code",
   "execution_count": 48,
   "id": "613accd2",
   "metadata": {},
   "outputs": [
    {
     "name": "stdout",
     "output_type": "stream",
     "text": [
      "448 Iterations\n",
      "[ 6.845  2.269 -2.198  1.084]\n",
      "[[ 1.000e+000  0.000e+000  0.000e+000  0.000e+000]\n",
      " [ 1.035e-215  1.000e+000 -7.143e-008  5.983e-032]\n",
      " [ 5.876e-222  7.143e-008  1.000e+000 -1.364e-031]\n",
      " [ 0.000e+000  1.536e-143 -3.520e-138  1.000e+000]]\n"
     ]
    }
   ],
   "source": [
    "# apply QR in output of householder\n",
    "Qr, Q = eigenQR(Aq)\n",
    "print(Qr)\n",
    "print(Q)"
   ]
  },
  {
   "cell_type": "code",
   "execution_count": 49,
   "id": "ad4cde90",
   "metadata": {},
   "outputs": [
    {
     "data": {
      "text/plain": [
       "array([[ 1.000e+000,  0.000e+000,  0.000e+000,  0.000e+000],\n",
       "       [-3.449e-216, -3.333e-001,  1.333e-001, -9.333e-001],\n",
       "       [ 6.897e-216,  6.667e-001, -6.667e-001, -3.333e-001],\n",
       "       [-6.897e-216, -6.667e-001, -7.333e-001,  1.333e-001]])"
      ]
     },
     "execution_count": 49,
     "metadata": {},
     "output_type": "execute_result"
    }
   ],
   "source": [
    "P = H @ Q\n",
    "P"
   ]
  },
  {
   "cell_type": "markdown",
   "id": "74e1802c",
   "metadata": {},
   "source": [
    "## Not simetric Matrix"
   ]
  },
  {
   "cell_type": "code",
   "execution_count": 50,
   "id": "95e8059b",
   "metadata": {},
   "outputs": [],
   "source": [
    "A2 = np.array([\n",
    "    [12, -51, 4],\n",
    "    [6, 167, -68],\n",
    "    [-4, -24, -41]\n",
    "])\n",
    "C = np.array([[1.0, 2.0, 3.0],[4.0, 5.0, 6.0],[7.0, 8.0, 9.0]])"
   ]
  },
  {
   "cell_type": "code",
   "execution_count": 51,
   "id": "e56d8e53",
   "metadata": {},
   "outputs": [
    {
     "data": {
      "text/plain": [
       "(array([ 1.612e+01, -1.117e+00, -3.384e-16]),\n",
       " array([[-0.232, -0.786,  0.408],\n",
       "        [-0.525, -0.087, -0.816],\n",
       "        [-0.819,  0.612,  0.408]]))"
      ]
     },
     "execution_count": 51,
     "metadata": {},
     "output_type": "execute_result"
    }
   ],
   "source": [
    "np.linalg.eig(C) # to compare"
   ]
  },
  {
   "cell_type": "code",
   "execution_count": 52,
   "id": "7dc3dfdf",
   "metadata": {
    "collapsed": true
   },
   "outputs": [
    {
     "name": "stdout",
     "output_type": "stream",
     "text": [
      "[[ 1.  2.  0. -2.]\n",
      " [ 0.  0.  1.  2.]\n",
      " [ 0.  0.  0.  0.]]\n",
      "[[0, 0], [1, 2]]\n"
     ]
    }
   ],
   "source": [
    "%run \"..\\Assignment05-RREF\\RREF.ipynb\""
   ]
  },
  {
   "cell_type": "code",
   "execution_count": 57,
   "id": "0bca33ee",
   "metadata": {},
   "outputs": [],
   "source": [
    "def backsubstitutionQR(M, eigenvaluesList, e=1e-5):\n",
    "    engenvalues_list = eigenvaluesList.copy()\n",
    "#     A = M.copy()\n",
    "    _, cols = M.shape\n",
    "    eigenvectors = np.zeros((cols, 1), dtype=complex)\n",
    "    \n",
    "    i = cols-1\n",
    "    while (len(engenvalues_list) > 0):\n",
    "        qtdLines = engenvalues_list.pop()\n",
    "        iValue = 0.0\n",
    "        iValue2 = 0.0\n",
    "        iValue3 = 0.0\n",
    "        \n",
    "        if (qtdLines == 2):            \n",
    "            M[i-1 : i+1, i-1:cols], pivot_positions = RREF(M[i-1:i+1, i-1:cols])\n",
    "            rank = getRank(M)\n",
    "            nullSpaceDim = getNullSpaceDim(M)\n",
    "            pivot_columns = map(lambda x: x[1], pivot_positions)\n",
    "            \n",
    "            # Block just have one pivot\n",
    "            if(rank > 1 and pivot_columns[1] == 2):\n",
    "                for k in range(i+1, cols):\n",
    "                    iValue1 -= M[i,k] * eigenvectors[k, 0]\n",
    "                    iValue2 -= M[i-1, k] * eigenvectors[k, 0]\n",
    "                # Define first variable\n",
    "                if (abs(M[i, i]) < e and abs(iValue1) < e):\n",
    "                    eigenvectors[i, 0] = 1.0\n",
    "                else:\n",
    "                    eigenvectors[i, 0] = iValue1 / M[i, i]\n",
    "                \n",
    "                iValue2 -= M[i-1, i] * eigenvectors[i, 0]\n",
    "                # Define second variable\n",
    "                if (abs(M[i-1, i-1]) < e and abs(iValue2) < e):\n",
    "                    eigenvectors[i-1, 0] = 1.0\n",
    "                else:\n",
    "                    eigenvectors[i-1, 0] = iValue2 / M[i-1, i-1]                    \n",
    "            # Block have two pivots\n",
    "            else:\n",
    "                eigenvectors[i, 0] = 1.0\n",
    "                for k in range(i, cols):\n",
    "                    iValue -= M[i-1, k] * eigenvectors[k,0]\n",
    "                if(abs(M[i-1, i-1]) < e and abs(iValue) < e):\n",
    "                    eigenvectors[i-1, 0] = 1.0\n",
    "                else:\n",
    "                    eigenvectors[i-1, 0] = iValue / M[i-1, i-1]\n",
    "        # Line calculus\n",
    "        else:\n",
    "            for k in range(i, cols):\n",
    "                iValue -= M[i, k] * eigenvectors[k, 0]\n",
    "            if(abs(M[i, i]) < e and abs(iValue) < e):\n",
    "                eigenvectors[i, 0] = 1.0\n",
    "            else:\n",
    "                eigenvectors[i-1, 0] = iValue / M[i, i]\n",
    "        i -= qtdLines\n",
    "        \n",
    "    return eigenvectors     "
   ]
  },
  {
   "cell_type": "code",
   "execution_count": 58,
   "id": "85a64f43",
   "metadata": {},
   "outputs": [
    {
     "name": "stdout",
     "output_type": "stream",
     "text": [
      "eigenvalues matrix:\n",
      " [172.31690505848147, -49.190150065706895, 14.873245007225373]\n",
      "eigenvectors matrix:\n",
      " [[-0.304+0.j -0.103+0.j -0.275+0.j]\n",
      " [ 0.947+0.j -0.139+0.j  0.107+0.j]\n",
      " [-0.101+0.j -0.993+0.j  0.044+0.j]]\n"
     ]
    }
   ],
   "source": [
    "def eigenQR_general(A, P, e=1e-5, max_iter=5000):\n",
    "    A_old = A.copy()\n",
    "    rows, cols = A_old.shape\n",
    "    \n",
    "    Q,R = QR_decomposition(A_old)\n",
    "    Ak = R @ Q\n",
    "    P = P @ Q\n",
    "    iteration = 0\n",
    "    \n",
    "    while not np.allclose(Ak, A_old, e, e) and iteration < max_iter:        \n",
    "        A_old = Ak\n",
    "        Q, R = QR_decomposition(A_old)\n",
    "        Ak = np.dot(R, Q)\n",
    "        P = np.dot(P, Q)\n",
    "        iteration += 1\n",
    "    isDiagonal = np.count_nonzero(Ak - np.diag(np.diagonal(Ak))) == 0\n",
    "    \n",
    "    if(isDiagonal):\n",
    "        return np.diagonal(Ak), P\n",
    "    else:\n",
    "        eigenvalues = []\n",
    "        eigenvectorsMatrix = np.zeros((rows, cols), dtype=complex)\n",
    "        eigenvaluesAux = []\n",
    "        \n",
    "        i = 0\n",
    "        while (i < rows):\n",
    "            if (i != rows-1) and (abs(Ak[i+1, i]) > e):\n",
    "                [[a, b], [c, d]] = Ak[i:i+2, i:i+2]\n",
    "                roots = np.roots([1, -(a + d), (a * d) - (b * c)])\n",
    "                eigenvalues.append(roots[0])\n",
    "                eigenvalues.append(roots[1])\n",
    "                eigenvaluesAux.append(2)\n",
    "            else:\n",
    "                eigenvalues.append(Ak[i, i])\n",
    "                eigenvaluesAux.append(1)\n",
    "            i += 1\n",
    "        \n",
    "        for i in range(cols):\n",
    "            autoMatrix = Ak - (eigenvalues[i] * np.eye(cols, dtype=complex))\n",
    "            eigenvectorsMatrix[:, i] = backsubstitutionQR(autoMatrix, eigenvaluesAux, e).T                    \n",
    "        \n",
    "        return eigenvalues, P @ eigenvectorsMatrix\n",
    "    \n",
    "    print(iteration, 'Iterations')\n",
    "    \n",
    "\n",
    "# eigenQR2(A, np.eye(A.shape[0]))\n",
    "\n",
    "            \n",
    "eigenvalues, eigenvectors = eigenQR_general(A2, np.eye(A2.shape[0]))\n",
    "print('eigenvalues matrix:\\n', eigenvalues)\n",
    "print('eigenvectors matrix:\\n', eigenvectors)"
   ]
  },
  {
   "cell_type": "code",
   "execution_count": 59,
   "id": "c7342b9f",
   "metadata": {},
   "outputs": [
    {
     "data": {
      "text/plain": [
       "array([[ 1.200e+01,  4.465e+01, -2.496e+01],\n",
       "       [-7.211e+00,  1.455e+02, -5.631e+01],\n",
       "       [-4.441e-16, -1.003e+02, -1.946e+01]])"
      ]
     },
     "execution_count": 59,
     "metadata": {},
     "output_type": "execute_result"
    }
   ],
   "source": [
    "# apply householder\n",
    "Aq2, H2 = HouseHolder(A2, show_iterations=False)\n",
    "Aq2"
   ]
  },
  {
   "cell_type": "code",
   "execution_count": 61,
   "id": "1b9eb336",
   "metadata": {},
   "outputs": [
    {
     "name": "stdout",
     "output_type": "stream",
     "text": [
      "eigenvalues:\n",
      " [172.31690505848144, -49.19014995028059, 14.873244891799086]\n",
      "eigenVectors:\n",
      " [[-0.304+0.j  0.103+0.j -0.5  +0.j]\n",
      " [ 0.947+0.j  0.139+0.j -0.332+0.j]\n",
      " [-0.101+0.j  0.993+0.j  0.175+0.j]]\n"
     ]
    }
   ],
   "source": [
    "# apply QR after householder\n",
    "eigenvalues, eigenvectros = eigenQR_general(Aq2, H2)\n",
    "print('eigenvalues:\\n',eigenvalues)\n",
    "print('eigenVectors:\\n',eigenvectros)"
   ]
  },
  {
   "cell_type": "code",
   "execution_count": null,
   "id": "dbdf170e",
   "metadata": {},
   "outputs": [],
   "source": []
  }
 ],
 "metadata": {
  "kernelspec": {
   "display_name": "Python 3 (ipykernel)",
   "language": "python",
   "name": "python3"
  },
  "language_info": {
   "codemirror_mode": {
    "name": "ipython",
    "version": 3
   },
   "file_extension": ".py",
   "mimetype": "text/x-python",
   "name": "python",
   "nbconvert_exporter": "python",
   "pygments_lexer": "ipython3",
   "version": "3.9.5"
  }
 },
 "nbformat": 4,
 "nbformat_minor": 5
}
