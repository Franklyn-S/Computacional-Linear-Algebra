{
 "cells": [
  {
   "cell_type": "code",
   "execution_count": 1,
   "id": "51a1f48d",
   "metadata": {},
   "outputs": [],
   "source": [
    "import numpy as np"
   ]
  },
  {
   "cell_type": "code",
   "execution_count": 72,
   "id": "1e9b230d",
   "metadata": {},
   "outputs": [],
   "source": [
    "A = np.array([\n",
    "  [ 4.0,  1.0, -2.0,  2.0],\n",
    "  [ 1.0,  2.0,  0.0,  1.0],\n",
    "  [ -2.0,  0.0, 3.0, -2.0],\n",
    "  [ 2.0,  1.0, -2.0, -1.0]\n",
    "])"
   ]
  },
  {
   "cell_type": "code",
   "execution_count": 68,
   "id": "dfd6f0f8",
   "metadata": {
    "collapsed": true
   },
   "outputs": [
    {
     "data": {
      "text/plain": [
       "array([[ 1.        ,  0.        ,  0.        ,  0.        ],\n",
       "       [ 0.        ,  0.33333333, -0.66666667,  0.66666667],\n",
       "       [ 0.        , -0.66666667,  0.33333333,  0.66666667],\n",
       "       [ 0.        ,  0.66666667,  0.66666667,  0.33333333]])"
      ]
     },
     "execution_count": 68,
     "metadata": {},
     "output_type": "execute_result"
    }
   ],
   "source": [
    "def MountHouseHolder(A, c):\n",
    "    rows, cols = A.shape\n",
    "    v = np.zeros((rows,1))\n",
    "    vLine = np.zeros((rows,1))\n",
    "    \n",
    "    v[c+1:rows, 0] = A[c+1:rows, c]\n",
    "    \n",
    "    lenghtV = np.linalg.norm(v)\n",
    "    if(v[c,0] > 0):\n",
    "        lenghtV = -1*lenghtV;\n",
    "    \n",
    "    vLine[c+1] = lenghtV\n",
    "    N = v - vLine    \n",
    "    n = N / np.linalg.norm(N)\n",
    "    I = np.eye(rows)\n",
    "    H = I - 2 * n @ np.conj(n).T\n",
    "    \n",
    "    return H\n",
    "MountHouseHolder(A,0)"
   ]
  },
  {
   "cell_type": "code",
   "execution_count": 71,
   "id": "9863f68c",
   "metadata": {
    "scrolled": true
   },
   "outputs": [
    {
     "name": "stdout",
     "output_type": "stream",
     "text": [
      "\n",
      " Iteration 0 \n",
      "\n",
      "HouseHolder Matrix 0 : \n",
      " [[ 1.          0.          0.          0.        ]\n",
      " [ 0.          0.33333333 -0.66666667  0.66666667]\n",
      " [ 0.         -0.66666667  0.33333333  0.66666667]\n",
      " [ 0.          0.66666667  0.66666667  0.33333333]]\n",
      "Similar Tranformation Modified Matrix 0 : \n",
      " [[ 4.  1. -2.  2.]\n",
      " [ 1.  2.  0.  1.]\n",
      " [-2.  0.  3. -2.]\n",
      " [ 2.  1. -2. -1.]]\n",
      "Cumalative HouseHolder Matrix 0 : \n",
      " [[ 1.          0.          0.          0.        ]\n",
      " [ 0.          0.33333333 -0.66666667  0.66666667]\n",
      " [ 0.         -0.66666667  0.33333333  0.66666667]\n",
      " [ 0.          0.66666667  0.66666667  0.33333333]]\n",
      "\n",
      " Iteration 1 \n",
      "\n",
      "HouseHolder Matrix 1 : \n",
      " [[1.00000000e+00 0.00000000e+00 0.00000000e+00 0.00000000e+00]\n",
      " [0.00000000e+00 1.00000000e+00 0.00000000e+00 0.00000000e+00]\n",
      " [0.00000000e+00 0.00000000e+00 2.22044605e-16 1.00000000e+00]\n",
      " [0.00000000e+00 0.00000000e+00 1.00000000e+00 2.22044605e-16]]\n",
      "Similar Tranformation Modified Matrix 1 : \n",
      " [[ 4.00000000e+00  3.00000000e+00  6.66133815e-16 -5.55111512e-16]\n",
      " [ 3.00000000e+00  3.33333333e+00 -1.33333333e+00 -1.00000000e+00]\n",
      " [ 6.66133815e-16 -1.33333333e+00 -1.00000000e+00 -1.33333333e+00]\n",
      " [-5.55111512e-16 -1.00000000e+00 -1.33333333e+00  1.66666667e+00]]\n",
      "Cumalative HouseHolder Matrix 1 : \n",
      " [[ 1.          0.          0.          0.        ]\n",
      " [ 0.          0.33333333  0.66666667 -0.66666667]\n",
      " [ 0.         -0.66666667  0.66666667  0.33333333]\n",
      " [ 0.          0.66666667  0.33333333  0.66666667]]\n",
      "\n",
      " Output Matrix: \n",
      " [[ 4.00000000e+00  3.00000000e+00  6.66133815e-16 -5.55111512e-16]\n",
      " [ 3.00000000e+00  3.33333333e+00 -1.33333333e+00 -1.00000000e+00]\n",
      " [ 6.66133815e-16 -1.33333333e+00 -1.00000000e+00 -1.33333333e+00]\n",
      " [-5.55111512e-16 -1.00000000e+00 -1.33333333e+00  1.66666667e+00]]\n",
      "---------------------------------------------------------------------\n",
      "Cumalative HouseHolder Matrix: \n",
      " [[ 1.          0.          0.          0.        ]\n",
      " [ 0.          0.33333333  0.66666667 -0.66666667]\n",
      " [ 0.         -0.66666667  0.66666667  0.33333333]\n",
      " [ 0.          0.66666667  0.33333333  0.66666667]]\n"
     ]
    }
   ],
   "source": [
    "def HouseHolder(A):\n",
    "    rows, cols = A.shape\n",
    "    Aline = A\n",
    "    Hc = np.eye(rows, cols)\n",
    "    for c in range(rows-2):\n",
    "        H = MountHouseHolder(Aline, c)\n",
    "        Aline = Hc @ Aline @ Hc\n",
    "        Hc = Hc @ H\n",
    "        print(\"\\n Iteration {} \\n\".format(c))\n",
    "        print(\"HouseHolder Matrix {} : \\n\".format(c), np.matrix(H))\n",
    "        print(\"Similar Tranformation Modified Matrix {} : \\n\".format(c), np.matrix(Aline))\n",
    "        print(\"Cumalative HouseHolder Matrix {} : \\n\".format(c), np.matrix(Hc))\n",
    "        \n",
    "    return Aline, Hc\n",
    "Aq, Ac = HouseHolder(A)\n",
    "print(\"\\n Output Matrix: \\n\", np.matrix(Aq))\n",
    "print('---------------------------------------------------------------------')\n",
    "print(\"Cumalative HouseHolder Matrix: \\n\", np.matrix(Ac))"
   ]
  },
  {
   "cell_type": "code",
   "execution_count": null,
   "id": "ee1b29af",
   "metadata": {},
   "outputs": [],
   "source": []
  }
 ],
 "metadata": {
  "kernelspec": {
   "display_name": "Python 3 (ipykernel)",
   "language": "python",
   "name": "python3"
  },
  "language_info": {
   "codemirror_mode": {
    "name": "ipython",
    "version": 3
   },
   "file_extension": ".py",
   "mimetype": "text/x-python",
   "name": "python",
   "nbconvert_exporter": "python",
   "pygments_lexer": "ipython3",
   "version": "3.9.5"
  }
 },
 "nbformat": 4,
 "nbformat_minor": 5
}
