{
 "cells": [
  {
   "cell_type": "code",
   "execution_count": 1,
   "id": "51a1f48d",
   "metadata": {},
   "outputs": [],
   "source": [
    "import numpy as np"
   ]
  },
  {
   "cell_type": "code",
   "execution_count": 2,
   "id": "1e9b230d",
   "metadata": {},
   "outputs": [],
   "source": [
    "A = np.array([\n",
    "  [ 4.0,  1.0, -2.0,  2.0],\n",
    "  [ 1.0,  2.0,  0.0,  1.0],\n",
    "  [ -2.0,  0.0, 3.0, -2.0],\n",
    "  [ 2.0,  1.0, -2.0, -1.0]\n",
    "])"
   ]
  },
  {
   "cell_type": "code",
   "execution_count": 3,
   "id": "dfd6f0f8",
   "metadata": {},
   "outputs": [
    {
     "data": {
      "text/plain": [
       "array([[ 1.        ,  0.        ,  0.        ,  0.        ],\n",
       "       [ 0.        , -0.33333333,  0.66666667, -0.66666667],\n",
       "       [ 0.        ,  0.66666667,  0.66666667,  0.33333333],\n",
       "       [ 0.        , -0.66666667,  0.33333333,  0.66666667]])"
      ]
     },
     "execution_count": 3,
     "metadata": {},
     "output_type": "execute_result"
    }
   ],
   "source": [
    "def MountHouseHolder(A, c):\n",
    "    rows, cols = A.shape\n",
    "    v = np.zeros((rows,1))\n",
    "    vLine = np.zeros((rows,1))\n",
    "    \n",
    "    v[c+1:rows, 0] = A[c+1:rows, c]\n",
    "    \n",
    "    lenghtV = np.linalg.norm(v)\n",
    "    if(v[c+1,0] > 0):\n",
    "        lenghtV = -1*lenghtV;\n",
    "    \n",
    "    vLine[c+1, 0] = lenghtV\n",
    "    N = v - vLine\n",
    "    n = N / np.linalg.norm(N)\n",
    "    I = np.eye(rows)\n",
    "    H = I - (2 * (n @ np.conj(n).T))\n",
    "    \n",
    "    return H\n",
    "MountHouseHolder(A,0)"
   ]
  },
  {
   "cell_type": "code",
   "execution_count": 4,
   "id": "9863f68c",
   "metadata": {},
   "outputs": [
    {
     "name": "stdout",
     "output_type": "stream",
     "text": [
      "\n",
      " Iteration 0 \n",
      "\n",
      "HouseHolder Matrix 0 : \n",
      " [[ 1.          0.          0.          0.        ]\n",
      " [ 0.         -0.33333333  0.66666667 -0.66666667]\n",
      " [ 0.          0.66666667  0.66666667  0.33333333]\n",
      " [ 0.         -0.66666667  0.33333333  0.66666667]]\n",
      "Similar Tranformation Modified Matrix 0 : \n",
      " [[ 4.00000000e+00 -3.00000000e+00  6.66133815e-16 -6.66133815e-16]\n",
      " [-3.00000000e+00  3.33333333e+00  1.00000000e+00  1.33333333e+00]\n",
      " [ 6.66133815e-16  1.00000000e+00  1.66666667e+00 -1.33333333e+00]\n",
      " [-6.66133815e-16  1.33333333e+00 -1.33333333e+00 -1.00000000e+00]]\n",
      "Cumalative HouseHolder Matrix 0 : \n",
      " [[ 1.          0.          0.          0.        ]\n",
      " [ 0.         -0.33333333  0.66666667 -0.66666667]\n",
      " [ 0.          0.66666667  0.66666667  0.33333333]\n",
      " [ 0.         -0.66666667  0.33333333  0.66666667]]\n",
      "\n",
      " Iteration 1 \n",
      "\n",
      "HouseHolder Matrix 1 : \n",
      " [[ 1.   0.   0.   0. ]\n",
      " [ 0.   1.   0.   0. ]\n",
      " [ 0.   0.  -0.6 -0.8]\n",
      " [ 0.   0.  -0.8  0.6]]\n",
      "Similar Tranformation Modified Matrix 1 : \n",
      " [[ 4.00000000e+00 -3.00000000e+00  1.33226763e-16 -9.32587341e-16]\n",
      " [-3.00000000e+00  3.33333333e+00 -1.66666667e+00  8.88178420e-17]\n",
      " [ 1.33226763e-16 -1.66666667e+00 -1.32000000e+00  9.06666667e-01]\n",
      " [-9.32587341e-16 -4.44089210e-17  9.06666667e-01  1.98666667e+00]]\n",
      "Cumalative HouseHolder Matrix 1 : \n",
      " [[ 1.          0.          0.          0.        ]\n",
      " [ 0.         -0.33333333  0.13333333 -0.93333333]\n",
      " [ 0.          0.66666667 -0.66666667 -0.33333333]\n",
      " [ 0.         -0.66666667 -0.73333333  0.13333333]]\n"
     ]
    }
   ],
   "source": [
    "def HouseHolder(A, show_iterations=True):\n",
    "    cols = A.shape[1]\n",
    "    Aline = A.copy()\n",
    "    Hc = np.identity(cols)\n",
    "    for c in range(cols-2):\n",
    "        H = MountHouseHolder(Aline, c)\n",
    "        Aline = H @ Aline @ H\n",
    "        Hc = Hc @ H\n",
    "        if (show_iterations):\n",
    "            print(\"\\n Iteration {} \\n\".format(c))\n",
    "            print(\"HouseHolder Matrix {} : \\n\".format(c), np.matrix(H))\n",
    "            print(\"Similar Tranformation Modified Matrix {} : \\n\".format(c), np.matrix(Aline))\n",
    "            print(\"Cumalative HouseHolder Matrix {} : \\n\".format(c), np.matrix(Hc))\n",
    "        \n",
    "    return Aline, Hc\n",
    "Aq, Ac = HouseHolder(A, True)"
   ]
  },
  {
   "cell_type": "code",
   "execution_count": 5,
   "id": "bd674506",
   "metadata": {},
   "outputs": [
    {
     "name": "stdout",
     "output_type": "stream",
     "text": [
      "\n",
      " Output Matrix: \n",
      " [[ 4.00000000e+00 -3.00000000e+00  1.33226763e-16 -9.32587341e-16]\n",
      " [-3.00000000e+00  3.33333333e+00 -1.66666667e+00  8.88178420e-17]\n",
      " [ 1.33226763e-16 -1.66666667e+00 -1.32000000e+00  9.06666667e-01]\n",
      " [-9.32587341e-16 -4.44089210e-17  9.06666667e-01  1.98666667e+00]]\n",
      "---------------------------------------------------------------------\n",
      "Cumalative HouseHolder Matrix: \n",
      " [[ 1.          0.          0.          0.        ]\n",
      " [ 0.         -0.33333333  0.13333333 -0.93333333]\n",
      " [ 0.          0.66666667 -0.66666667 -0.33333333]\n",
      " [ 0.         -0.66666667 -0.73333333  0.13333333]]\n"
     ]
    }
   ],
   "source": [
    "print(\"\\n Output Matrix: \\n\", np.matrix(Aq))\n",
    "print('---------------------------------------------------------------------')\n",
    "print(\"Cumalative HouseHolder Matrix: \\n\", np.matrix(Ac))"
   ]
  },
  {
   "cell_type": "code",
   "execution_count": null,
   "id": "b9251b54",
   "metadata": {},
   "outputs": [],
   "source": []
  }
 ],
 "metadata": {
  "kernelspec": {
   "display_name": "Python 3 (ipykernel)",
   "language": "python",
   "name": "python3"
  },
  "language_info": {
   "codemirror_mode": {
    "name": "ipython",
    "version": 3
   },
   "file_extension": ".py",
   "mimetype": "text/x-python",
   "name": "python",
   "nbconvert_exporter": "python",
   "pygments_lexer": "ipython3",
   "version": "3.9.5"
  }
 },
 "nbformat": 4,
 "nbformat_minor": 5
}
