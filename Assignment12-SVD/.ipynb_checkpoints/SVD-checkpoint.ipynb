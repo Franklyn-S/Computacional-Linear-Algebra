{
 "cells": [
  {
   "cell_type": "code",
   "execution_count": 1,
   "id": "9fa143a0",
   "metadata": {},
   "outputs": [],
   "source": [
    "import numpy as np"
   ]
  },
  {
   "cell_type": "code",
   "execution_count": 2,
   "id": "9a2f6c14",
   "metadata": {},
   "outputs": [],
   "source": [
    "A = np.array([\n",
    "    [2, 4],\n",
    "    [1, 3],\n",
    "    [0, 0],\n",
    "    [0, 0],\n",
    "])"
   ]
  },
  {
   "cell_type": "markdown",
   "id": "a5129025",
   "metadata": {},
   "source": [
    "# SVD - Singular Value Decomposition\n",
    "SVD has a wide array of applications. These include dimensionality reduction, image compression, and denoising data. In essence, SVD states that a matrix can be represented as the product of three other matrices. In mathematical terms, SVD can be written as follows:\n",
    "$Anxp = Unxn Snxp V^t pxp $"
   ]
  },
  {
   "cell_type": "code",
   "execution_count": 3,
   "id": "e3c9af92",
   "metadata": {},
   "outputs": [
    {
     "data": {
      "text/plain": [
       "array([[0, 0],\n",
       "       [0, 0],\n",
       "       [1, 3],\n",
       "       [2, 4]])"
      ]
     },
     "execution_count": 3,
     "metadata": {},
     "output_type": "execute_result"
    }
   ],
   "source": [
    "A[::-1]"
   ]
  },
  {
   "cell_type": "code",
   "execution_count": 4,
   "id": "04f68e7f",
   "metadata": {},
   "outputs": [],
   "source": [
    "def SVD(A):\n",
    "    # U is the eigenvectors of the Matrix (A @ A^t)\n",
    "    U = A @ A.T\n",
    "    _, U = np.linalg.eig(U)\n",
    "    # V is the eigenvectors of the Matrix (A^t @ A)\n",
    "    V = A.T @ A\n",
    "    values, V = np.linalg.eig(V)\n",
    "    V = V[::-1]\n",
    "    S = np.zeros((A.shape))\n",
    "\n",
    "    np.fill_diagonal(S, np.sqrt(values[::-1]))\n",
    "    return U, V, S\n",
    "    \n",
    "U, V, S = SVD(A)"
   ]
  },
  {
   "cell_type": "code",
   "execution_count": 5,
   "id": "eccb6ee3",
   "metadata": {},
   "outputs": [
    {
     "name": "stdout",
     "output_type": "stream",
     "text": [
      "[[ 0.81741556 -0.57604844  0.          0.        ]\n",
      " [ 0.57604844  0.81741556  0.          0.        ]\n",
      " [ 0.          0.          1.          0.        ]\n",
      " [ 0.          0.          0.          1.        ]]\n",
      "[[ 0.40455358 -0.9145143 ]\n",
      " [-0.9145143  -0.40455358]]\n",
      "[[5.4649857  0.        ]\n",
      " [0.         0.36596619]\n",
      " [0.         0.        ]\n",
      " [0.         0.        ]]\n"
     ]
    }
   ],
   "source": [
    "print(U)\n",
    "print(V)\n",
    "print(S)"
   ]
  },
  {
   "cell_type": "code",
   "execution_count": 6,
   "id": "909925e5",
   "metadata": {},
   "outputs": [
    {
     "data": {
      "text/plain": [
       "(4, 4)"
      ]
     },
     "execution_count": 6,
     "metadata": {},
     "output_type": "execute_result"
    }
   ],
   "source": [
    "U.shape"
   ]
  },
  {
   "cell_type": "code",
   "execution_count": 7,
   "id": "feedbed0",
   "metadata": {},
   "outputs": [
    {
     "data": {
      "text/plain": [
       "(4, 2)"
      ]
     },
     "execution_count": 7,
     "metadata": {},
     "output_type": "execute_result"
    }
   ],
   "source": [
    "S.shape"
   ]
  },
  {
   "cell_type": "code",
   "execution_count": 8,
   "id": "0fbf923f",
   "metadata": {},
   "outputs": [
    {
     "data": {
      "text/plain": [
       "(2, 2)"
      ]
     },
     "execution_count": 8,
     "metadata": {},
     "output_type": "execute_result"
    }
   ],
   "source": [
    "V.T.shape"
   ]
  },
  {
   "cell_type": "code",
   "execution_count": 9,
   "id": "26658690",
   "metadata": {},
   "outputs": [
    {
     "data": {
      "text/plain": [
       "array([[ 2., -4.],\n",
       "       [ 1., -3.],\n",
       "       [ 0.,  0.],\n",
       "       [ 0.,  0.]])"
      ]
     },
     "execution_count": 9,
     "metadata": {},
     "output_type": "execute_result"
    }
   ],
   "source": [
    "U @ S @ V.T"
   ]
  },
  {
   "cell_type": "code",
   "execution_count": 22,
   "id": "87ec2f9a",
   "metadata": {},
   "outputs": [],
   "source": [
    "%%capture\n",
    "%run \"..\\Assignment06_Gram_Schimidt\\Gram_Schimidt.ipynb\""
   ]
  },
  {
   "cell_type": "code",
   "execution_count": 21,
   "id": "9ae7f460",
   "metadata": {},
   "outputs": [],
   "source": [
    "%%capture\n",
    "%run \"..\\Assignment11-QR_EigenMethod\\QR_EigenMethod.ipynb\""
   ]
  },
  {
   "cell_type": "code",
   "execution_count": 12,
   "id": "966253d8",
   "metadata": {},
   "outputs": [],
   "source": [
    "A = np.array([\n",
    "    [2, 4],\n",
    "    [1, 3],\n",
    "    [0, 0],\n",
    "    [0, 0],\n",
    "])"
   ]
  },
  {
   "cell_type": "code",
   "execution_count": 30,
   "id": "01e66e22",
   "metadata": {},
   "outputs": [
    {
     "name": "stdout",
     "output_type": "stream",
     "text": [
      "U: [[ 0.718  0.642 -0.177  0.202]\n",
      " [ 0.221 -0.544 -0.178  0.789]\n",
      " [-0.557  0.52   0.288  0.58 ]\n",
      " [ 0.353 -0.144  0.924  0.01 ]]\n",
      "S: [[6.845 0.    0.    0.   ]\n",
      " [0.    1.084 0.    0.   ]\n",
      " [0.    0.    2.198 0.   ]\n",
      " [0.    0.    0.    2.269]]\n",
      "V: [[ 0.718  0.642  0.177  0.202]\n",
      " [ 0.221 -0.544  0.178  0.789]\n",
      " [-0.557  0.52  -0.288  0.58 ]\n",
      " [ 0.353 -0.144 -0.924  0.01 ]]\n"
     ]
    }
   ],
   "source": [
    "def SVD_decomposition(A, e=1e-5):\n",
    "    rows, cols = A.shape\n",
    "    eigenvaluesCount = min(rows, cols)\n",
    "    firstZero = -1\n",
    "    \n",
    "    # rows > cols: Ut * A = S * Vt\n",
    "    if (rows > cols):    \n",
    "        # U is the eigenvectors of the Matrix (A @ A^t)\n",
    "        U = A @ A.T\n",
    "        eigenvalues, U = np.linalg.eig(U)        \n",
    "#         eigenvalues, U = eigenQR_general(U, np.eye(min(rows, cols)))\n",
    "        V = (U.T @ A)[0:cols, :].T\n",
    "        S = np.zeros(A.shape)\n",
    "        for i in range(eigenvaluesCount):\n",
    "            if (abs(eigenvalues[i]) < e):\n",
    "                S[i, i] = 0.0\n",
    "                if (firstZero < 0):\n",
    "                    firstZero = i\n",
    "            else:\n",
    "                S[i, i] = np.sqrt(eigenvalues[i])\n",
    "                V[:, i] = V[:, i] / S[i, i]\n",
    "        if (firstZero >= 0):\n",
    "            V = grandSchimidt(V[:, 0:firstZero])\n",
    "    # cols > rows: A * V = U * S\n",
    "    else:\n",
    "        # V is the eigenvectors of the Matrix (A^t @ A)\n",
    "        V = A.T @ A\n",
    "#         print(V)\n",
    "        eigenvalues, V = np.linalg.eig(V)\n",
    "#         eigenvalues, V = eigenQR_general(V,  np.eye(min(rows, cols)))\n",
    "        U = (A @ V)[:, 0:rows]\n",
    "        S = np.zeros(A.shape)        \n",
    "        for i in range(eigenvaluesCount):\n",
    "            if (abs(eigenvalues[i]) < e):\n",
    "                S[i, i] = 0.0\n",
    "                if (firstZero < 0):\n",
    "                    firstZero = i\n",
    "            else:\n",
    "                S[i, i] = np.sqrt(eigenvalues[i])\n",
    "                U[:, i] = U[:, i] / S[i, i]\n",
    "        if (firstZero >= 0):\n",
    "            U = grandSchimidt(U[:, 0>firstZero])        \n",
    "    return U, S, V\n",
    "U, S, V = SVD_decomposition(A)\n",
    "print(\"U: {}\".format(U))\n",
    "print(\"S: {}\".format(S))\n",
    "print(\"V: {}\".format(V))"
   ]
  },
  {
   "cell_type": "code",
   "execution_count": 18,
   "id": "54611232",
   "metadata": {},
   "outputs": [
    {
     "data": {
      "text/plain": [
       "array([[2., 4.],\n",
       "       [1., 3.],\n",
       "       [0., 0.],\n",
       "       [0., 0.]])"
      ]
     },
     "execution_count": 18,
     "metadata": {},
     "output_type": "execute_result"
    }
   ],
   "source": [
    "U @ S @ V.T"
   ]
  },
  {
   "cell_type": "code",
   "execution_count": 19,
   "id": "07ce5a57",
   "metadata": {},
   "outputs": [
    {
     "data": {
      "text/plain": [
       "array([[2, 4],\n",
       "       [1, 3],\n",
       "       [0, 0],\n",
       "       [0, 0]])"
      ]
     },
     "execution_count": 19,
     "metadata": {},
     "output_type": "execute_result"
    }
   ],
   "source": [
    "A"
   ]
  },
  {
   "cell_type": "code",
   "execution_count": null,
   "id": "9f3a521c",
   "metadata": {},
   "outputs": [],
   "source": [
    "M = np.array([[1, 0, -1], [-2, 1, 4]])"
   ]
  },
  {
   "cell_type": "code",
   "execution_count": null,
   "id": "97f8c6fc",
   "metadata": {},
   "outputs": [],
   "source": [
    "SVD_decomposition(M)"
   ]
  },
  {
   "cell_type": "code",
   "execution_count": null,
   "id": "f7451194",
   "metadata": {},
   "outputs": [],
   "source": []
  }
 ],
 "metadata": {
  "kernelspec": {
   "display_name": "Python 3 (ipykernel)",
   "language": "python",
   "name": "python3"
  },
  "language_info": {
   "codemirror_mode": {
    "name": "ipython",
    "version": 3
   },
   "file_extension": ".py",
   "mimetype": "text/x-python",
   "name": "python",
   "nbconvert_exporter": "python",
   "pygments_lexer": "ipython3",
   "version": "3.9.5"
  }
 },
 "nbformat": 4,
 "nbformat_minor": 5
}
