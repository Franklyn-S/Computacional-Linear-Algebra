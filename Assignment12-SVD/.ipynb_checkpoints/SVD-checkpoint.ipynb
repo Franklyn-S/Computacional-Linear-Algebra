{
 "cells": [
  {
   "cell_type": "code",
   "execution_count": 1,
   "id": "9fa143a0",
   "metadata": {},
   "outputs": [],
   "source": [
    "import numpy as np"
   ]
  },
  {
   "cell_type": "code",
   "execution_count": 2,
   "id": "9a2f6c14",
   "metadata": {},
   "outputs": [],
   "source": [
    "A = np.array([\n",
    "    [1, 0, -1],\n",
    "    [-2, 1, 4],\n",
    "])"
   ]
  },
  {
   "cell_type": "markdown",
   "id": "a5129025",
   "metadata": {},
   "source": [
    "# SVD - Singular Value Decomposition\n",
    "SVD has a wide array of applications. These include dimensionality reduction, image compression, and denoising data. In essence, SVD states that a matrix can be represented as the product of three other matrices. In mathematical terms, SVD can be written as follows:\n",
    "$Anxp = Unxn Snxp V^t pxp $"
   ]
  },
  {
   "cell_type": "code",
   "execution_count": 3,
   "id": "e3c9af92",
   "metadata": {},
   "outputs": [
    {
     "data": {
      "text/plain": [
       "array([[-2,  1,  4],\n",
       "       [ 1,  0, -1]])"
      ]
     },
     "execution_count": 3,
     "metadata": {},
     "output_type": "execute_result"
    }
   ],
   "source": [
    "A[::-1]"
   ]
  },
  {
   "cell_type": "code",
   "execution_count": 5,
   "id": "04f68e7f",
   "metadata": {},
   "outputs": [],
   "source": [
    "def SVD(A):\n",
    "    # U is the eigenvectors of the Matrix (A @ A^t)\n",
    "    U = A @ A.T\n",
    "    _, U = np.linalg.eig(U)\n",
    "    # V is the eigenvectors of the Matrix (A^t @ A)\n",
    "    V = A.T @ A\n",
    "    values, V = np.linalg.eig(V)\n",
    "    V = V[::-1]\n",
    "    S = np.zeros((A.shape))\n",
    "\n",
    "    np.fill_diagonal(S, np.sqrt(values[::-1]))\n",
    "    return U, V, S\n",
    "    \n",
    "U, V, S = SVD(A)"
   ]
  },
  {
   "cell_type": "code",
   "execution_count": 31,
   "id": "eccb6ee3",
   "metadata": {},
   "outputs": [
    {
     "name": "stdout",
     "output_type": "stream",
     "text": [
      "[[ 0.817 -0.576  0.     0.   ]\n",
      " [ 0.576  0.817  0.     0.   ]\n",
      " [ 0.     0.     1.     0.   ]\n",
      " [ 0.     0.     0.     1.   ]]\n",
      "[[ 0.405 -0.915]\n",
      " [-0.915 -0.405]]\n",
      "[[5.465 0.   ]\n",
      " [0.    0.366]\n",
      " [0.    0.   ]\n",
      " [0.    0.   ]]\n"
     ]
    }
   ],
   "source": [
    "print(U)\n",
    "print(V)\n",
    "print(S)"
   ]
  },
  {
   "cell_type": "code",
   "execution_count": 32,
   "id": "909925e5",
   "metadata": {},
   "outputs": [
    {
     "data": {
      "text/plain": [
       "(4, 4)"
      ]
     },
     "execution_count": 32,
     "metadata": {},
     "output_type": "execute_result"
    }
   ],
   "source": [
    "U.shape"
   ]
  },
  {
   "cell_type": "code",
   "execution_count": 33,
   "id": "feedbed0",
   "metadata": {},
   "outputs": [
    {
     "data": {
      "text/plain": [
       "(4, 2)"
      ]
     },
     "execution_count": 33,
     "metadata": {},
     "output_type": "execute_result"
    }
   ],
   "source": [
    "S.shape"
   ]
  },
  {
   "cell_type": "code",
   "execution_count": 34,
   "id": "0fbf923f",
   "metadata": {},
   "outputs": [
    {
     "data": {
      "text/plain": [
       "(2, 2)"
      ]
     },
     "execution_count": 34,
     "metadata": {},
     "output_type": "execute_result"
    }
   ],
   "source": [
    "V.T.shape"
   ]
  },
  {
   "cell_type": "code",
   "execution_count": 35,
   "id": "26658690",
   "metadata": {},
   "outputs": [
    {
     "data": {
      "text/plain": [
       "array([[ 2., -4.],\n",
       "       [ 1., -3.],\n",
       "       [ 0.,  0.],\n",
       "       [ 0.,  0.]])"
      ]
     },
     "execution_count": 35,
     "metadata": {},
     "output_type": "execute_result"
    }
   ],
   "source": [
    "U @ S @ V.T"
   ]
  },
  {
   "cell_type": "code",
   "execution_count": 6,
   "id": "87ec2f9a",
   "metadata": {},
   "outputs": [],
   "source": [
    "%%capture\n",
    "%run \"..\\Assignment06_Gram_Schimidt\\Gram_Schimidt.ipynb\""
   ]
  },
  {
   "cell_type": "code",
   "execution_count": 7,
   "id": "9ae7f460",
   "metadata": {},
   "outputs": [],
   "source": [
    "%%capture\n",
    "%run \"..\\Assignment11-QR_EigenMethod\\QR_EigenMethod.ipynb\""
   ]
  },
  {
   "cell_type": "code",
   "execution_count": 8,
   "id": "966253d8",
   "metadata": {},
   "outputs": [],
   "source": [
    "A = np.array([\n",
    "    [1, 0, -1],\n",
    "    [-2, 1, 4],\n",
    "])"
   ]
  },
  {
   "cell_type": "code",
   "execution_count": 13,
   "id": "01e66e22",
   "metadata": {},
   "outputs": [
    {
     "name": "stdout",
     "output_type": "stream",
     "text": [
      "U: [[ 0.278+0.j  0.961+0.j]\n",
      " [-0.961+0.j  0.278+0.j]]\n",
      "S: [[4.768 0.    0.   ]\n",
      " [0.    0.514 0.   ]]\n",
      "V: [[ 0.461+0.j  0.788+0.j  0.   +0.j]\n",
      " [-0.201+0.j  0.541+0.j  0.   +0.j]\n",
      " [-0.864+0.j  0.294+0.j  0.   +0.j]]\n"
     ]
    }
   ],
   "source": [
    "def SVD_decomposition(A, e=1e-5):\n",
    "    rows, cols = A.shape\n",
    "    eigenvaluesCount = min(rows, cols)\n",
    "    firstZero = -1\n",
    "    \n",
    "    # rows > cols: Ut * A = S * Vt\n",
    "    if (rows > cols):    \n",
    "        # U is the eigenvectors of the Matrix (A @ A^t)\n",
    "        U = A @ A.T\n",
    "        # print(U)\n",
    "        # eigenvalues, U = np.linalg.eig(U)        \n",
    "        eigenvalues, U = eigenQR_general(U, np.eye(min(U.shape)))\n",
    "        V = (U.T @ A)[0:cols, :].T\n",
    "        S = np.zeros(A.shape)\n",
    "        for i in range(eigenvaluesCount):\n",
    "            if (abs(eigenvalues[i]) < e):\n",
    "                S[i, i] = 0.0\n",
    "                if (firstZero < 0):\n",
    "                    firstZero = i\n",
    "            else:\n",
    "                S[i, i] = np.sqrt(eigenvalues[i])\n",
    "                V[:, i] = V[:, i] / S[i, i]\n",
    "        if (firstZero >= 0):\n",
    "            V = grandSchimidt(V[:, 0:firstZero])\n",
    "    # cols > rows: A * V = U * S\n",
    "    else:\n",
    "        # V is the eigenvectors of the Matrix (A^t @ A)\n",
    "        V = A.T @ A\n",
    "        # print(V)\n",
    "        # eigenvalues, V = np.linalg.eig(V)\n",
    "        eigenvalues, V = eigenQR_general(V,  np.eye(min(V.shape)))\n",
    "        U = (A @ V)[:, 0:rows]\n",
    "        S = np.zeros(A.shape)        \n",
    "        for i in range(eigenvaluesCount):\n",
    "            if (abs(eigenvalues[i]) < e):\n",
    "                S[i, i] = 0.0\n",
    "                if (firstZero < 0):\n",
    "                    firstZero = i\n",
    "            else:\n",
    "                S[i, i] = np.sqrt(eigenvalues[i])\n",
    "                U[:, i] = U[:, i] / S[i, i]\n",
    "        if (firstZero >= 0):\n",
    "            U = grandSchimidt(U[:, 0>firstZero])        \n",
    "    return U, S, V\n",
    "U, S, V = SVD_decomposition(A)\n",
    "print(\"U: {}\".format(U))\n",
    "print(\"S: {}\".format(S))\n",
    "print(\"V: {}\".format(V))"
   ]
  },
  {
   "cell_type": "code",
   "execution_count": 10,
   "id": "54611232",
   "metadata": {},
   "outputs": [
    {
     "data": {
      "text/plain": [
       "array([[ 1.000e+00+0.j,  1.388e-15+0.j, -1.000e+00+0.j],\n",
       "       [-2.000e+00+0.j,  1.000e+00+0.j,  4.000e+00+0.j]])"
      ]
     },
     "execution_count": 10,
     "metadata": {},
     "output_type": "execute_result"
    }
   ],
   "source": [
    "U @ S @ V.T"
   ]
  },
  {
   "cell_type": "code",
   "execution_count": 11,
   "id": "07ce5a57",
   "metadata": {},
   "outputs": [
    {
     "data": {
      "text/plain": [
       "array([[ 1,  0, -1],\n",
       "       [-2,  1,  4]])"
      ]
     },
     "execution_count": 11,
     "metadata": {},
     "output_type": "execute_result"
    }
   ],
   "source": [
    "A"
   ]
  },
  {
   "cell_type": "code",
   "execution_count": 42,
   "id": "9f3a521c",
   "metadata": {},
   "outputs": [],
   "source": [
    "M = np.array([[1, 0, -1], [-2, 1, 4]])"
   ]
  },
  {
   "cell_type": "code",
   "execution_count": 43,
   "id": "97f8c6fc",
   "metadata": {},
   "outputs": [
    {
     "data": {
      "text/plain": [
       "(array([[ 0.278+0.j,  0.961+0.j],\n",
       "        [-0.961+0.j,  0.278+0.j]]),\n",
       " array([[4.768, 0.   , 0.   ],\n",
       "        [0.   , 0.514, 0.   ]]),\n",
       " array([[ 0.461+0.j,  0.788+0.j,  0.   +0.j],\n",
       "        [-0.201+0.j,  0.541+0.j,  0.   +0.j],\n",
       "        [-0.864+0.j,  0.294+0.j,  0.   +0.j]]))"
      ]
     },
     "execution_count": 43,
     "metadata": {},
     "output_type": "execute_result"
    }
   ],
   "source": [
    "SVD_decomposition(M)"
   ]
  },
  {
   "cell_type": "code",
   "execution_count": null,
   "id": "f7451194",
   "metadata": {},
   "outputs": [],
   "source": []
  }
 ],
 "metadata": {
  "kernelspec": {
   "display_name": "Python 3 (ipykernel)",
   "language": "python",
   "name": "python3"
  },
  "language_info": {
   "codemirror_mode": {
    "name": "ipython",
    "version": 3
   },
   "file_extension": ".py",
   "mimetype": "text/x-python",
   "name": "python",
   "nbconvert_exporter": "python",
   "pygments_lexer": "ipython3",
   "version": "3.9.5"
  }
 },
 "nbformat": 4,
 "nbformat_minor": 5
}
