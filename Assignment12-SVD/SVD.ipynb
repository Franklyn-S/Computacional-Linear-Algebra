{
 "cells": [
  {
   "cell_type": "code",
   "execution_count": 18,
   "id": "9fa143a0",
   "metadata": {},
   "outputs": [],
   "source": [
    "import numpy as np"
   ]
  },
  {
   "cell_type": "code",
   "execution_count": 16,
   "id": "9a2f6c14",
   "metadata": {},
   "outputs": [],
   "source": [
    "A = np.array([\n",
    "    [2, 4],\n",
    "    [1, 3],\n",
    "    [0, 0],\n",
    "    [0, 0],\n",
    "])"
   ]
  },
  {
   "cell_type": "markdown",
   "id": "a5129025",
   "metadata": {},
   "source": [
    "# SVD - Singular Value Decomposition\n",
    "SVD has a wide array of applications. These include dimensionality reduction, image compression, and denoising data. In essence, SVD states that a matrix can be represented as the product of three other matrices. In mathematical terms, SVD can be written as follows:\n",
    "$Anxp = Unxn Snxp V^t pxp $"
   ]
  },
  {
   "cell_type": "code",
   "execution_count": 97,
   "id": "04f68e7f",
   "metadata": {},
   "outputs": [],
   "source": [
    "def SVD(A):\n",
    "    # U is the eigenvectors of the Matrix (A @ A^t)\n",
    "    U = A @ A.T\n",
    "    _, U = np.linalg.eig(U)\n",
    "    # V is the eigenvectors of the Matrix (A^t @ A)\n",
    "    V = A.T @ A\n",
    "    values, V = np.linalg.eig(V)\n",
    "    V = V[::-1]\n",
    "    S = np.zeros((A.shape))\n",
    "#     print(S)\n",
    "#     print(values)\n",
    "    np.fill_diagonal(S, np.sqrt(values[::-1]))\n",
    "    return U, V, S\n",
    "    \n",
    "U, V, S = SVD(A)"
   ]
  },
  {
   "cell_type": "code",
   "execution_count": 98,
   "id": "eccb6ee3",
   "metadata": {},
   "outputs": [
    {
     "name": "stdout",
     "output_type": "stream",
     "text": [
      "[[ 0.81741556 -0.57604844  0.          0.        ]\n",
      " [ 0.57604844  0.81741556  0.          0.        ]\n",
      " [ 0.          0.          1.          0.        ]\n",
      " [ 0.          0.          0.          1.        ]]\n",
      "[[ 0.40455358 -0.9145143 ]\n",
      " [-0.9145143  -0.40455358]]\n",
      "[[5.4649857  0.        ]\n",
      " [0.         0.36596619]\n",
      " [0.         0.        ]\n",
      " [0.         0.        ]]\n"
     ]
    }
   ],
   "source": [
    "print(U)\n",
    "print(V)\n",
    "print(S)"
   ]
  },
  {
   "cell_type": "code",
   "execution_count": 99,
   "id": "909925e5",
   "metadata": {},
   "outputs": [
    {
     "data": {
      "text/plain": [
       "(4, 4)"
      ]
     },
     "execution_count": 99,
     "metadata": {},
     "output_type": "execute_result"
    }
   ],
   "source": [
    "U.shape"
   ]
  },
  {
   "cell_type": "code",
   "execution_count": 100,
   "id": "feedbed0",
   "metadata": {},
   "outputs": [
    {
     "data": {
      "text/plain": [
       "(4, 2)"
      ]
     },
     "execution_count": 100,
     "metadata": {},
     "output_type": "execute_result"
    }
   ],
   "source": [
    "S.shape"
   ]
  },
  {
   "cell_type": "code",
   "execution_count": 101,
   "id": "0fbf923f",
   "metadata": {},
   "outputs": [
    {
     "data": {
      "text/plain": [
       "(2, 2)"
      ]
     },
     "execution_count": 101,
     "metadata": {},
     "output_type": "execute_result"
    }
   ],
   "source": [
    "V.T.shape"
   ]
  },
  {
   "cell_type": "code",
   "execution_count": 102,
   "id": "26658690",
   "metadata": {},
   "outputs": [
    {
     "data": {
      "text/plain": [
       "array([[ 2., -4.],\n",
       "       [ 1., -3.],\n",
       "       [ 0.,  0.],\n",
       "       [ 0.,  0.]])"
      ]
     },
     "execution_count": 102,
     "metadata": {},
     "output_type": "execute_result"
    }
   ],
   "source": [
    "U @ S @ V.T"
   ]
  },
  {
   "cell_type": "code",
   "execution_count": null,
   "id": "ae87d862",
   "metadata": {},
   "outputs": [],
   "source": []
  }
 ],
 "metadata": {
  "kernelspec": {
   "display_name": "Python 3 (ipykernel)",
   "language": "python",
   "name": "python3"
  },
  "language_info": {
   "codemirror_mode": {
    "name": "ipython",
    "version": 3
   },
   "file_extension": ".py",
   "mimetype": "text/x-python",
   "name": "python",
   "nbconvert_exporter": "python",
   "pygments_lexer": "ipython3",
   "version": "3.9.5"
  }
 },
 "nbformat": 4,
 "nbformat_minor": 5
}
