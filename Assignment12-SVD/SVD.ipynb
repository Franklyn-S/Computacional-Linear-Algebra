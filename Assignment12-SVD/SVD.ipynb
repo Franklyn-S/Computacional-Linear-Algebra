{
 "cells": [
  {
   "cell_type": "code",
   "execution_count": 1,
   "id": "9fa143a0",
   "metadata": {},
   "outputs": [],
   "source": [
    "import numpy as np"
   ]
  },
  {
   "cell_type": "code",
   "execution_count": 10,
   "id": "9a2f6c14",
   "metadata": {},
   "outputs": [],
   "source": [
    "A = np.array([\n",
    "    [2, 4],\n",
    "    [1, 3],\n",
    "    [0, 0],\n",
    "    [0, 0],\n",
    "])"
   ]
  },
  {
   "cell_type": "markdown",
   "id": "a5129025",
   "metadata": {},
   "source": [
    "# SVD - Singular Value Decomposition\n",
    "SVD has a wide array of applications. These include dimensionality reduction, image compression, and denoising data. In essence, SVD states that a matrix can be represented as the product of three other matrices. In mathematical terms, SVD can be written as follows:\n",
    "$Anxp = Unxn Snxp V^t pxp $"
   ]
  },
  {
   "cell_type": "code",
   "execution_count": 3,
   "id": "e3c9af92",
   "metadata": {},
   "outputs": [
    {
     "data": {
      "text/plain": [
       "array([[0, 0],\n",
       "       [0, 0],\n",
       "       [1, 3],\n",
       "       [2, 4]])"
      ]
     },
     "execution_count": 3,
     "metadata": {},
     "output_type": "execute_result"
    }
   ],
   "source": [
    "A[::-1]"
   ]
  },
  {
   "cell_type": "code",
   "execution_count": 34,
   "id": "04f68e7f",
   "metadata": {},
   "outputs": [],
   "source": [
    "def SVD(A):\n",
    "    # U is the eigenvectors of the Matrix (A @ A^t)\n",
    "    U = A @ A.T\n",
    "    _, U = np.linalg.eig(U)\n",
    "    # V is the eigenvectors of the Matrix (A^t @ A)\n",
    "    V = A.T @ A\n",
    "    values, V = np.linalg.eig(V)\n",
    "    V = V[::-1]\n",
    "    S = np.zeros((A.shape))\n",
    "\n",
    "    np.fill_diagonal(S, np.sqrt(values[::-1]))\n",
    "    return U, V, S\n",
    "    \n",
    "U, V, S = SVD(A)"
   ]
  },
  {
   "cell_type": "code",
   "execution_count": 35,
   "id": "eccb6ee3",
   "metadata": {},
   "outputs": [
    {
     "name": "stdout",
     "output_type": "stream",
     "text": [
      "[[ 0.817 -0.576  0.     0.   ]\n",
      " [ 0.576  0.817  0.     0.   ]\n",
      " [ 0.     0.     1.     0.   ]\n",
      " [ 0.     0.     0.     1.   ]]\n",
      "[[ 0.405 -0.915]\n",
      " [-0.915 -0.405]]\n",
      "[[5.465 0.   ]\n",
      " [0.    0.366]\n",
      " [0.    0.   ]\n",
      " [0.    0.   ]]\n"
     ]
    }
   ],
   "source": [
    "print(U)\n",
    "print(V)\n",
    "print(S)"
   ]
  },
  {
   "cell_type": "code",
   "execution_count": 99,
   "id": "909925e5",
   "metadata": {},
   "outputs": [
    {
     "data": {
      "text/plain": [
       "(4, 4)"
      ]
     },
     "execution_count": 99,
     "metadata": {},
     "output_type": "execute_result"
    }
   ],
   "source": [
    "U.shape"
   ]
  },
  {
   "cell_type": "code",
   "execution_count": 100,
   "id": "feedbed0",
   "metadata": {},
   "outputs": [
    {
     "data": {
      "text/plain": [
       "(4, 2)"
      ]
     },
     "execution_count": 100,
     "metadata": {},
     "output_type": "execute_result"
    }
   ],
   "source": [
    "S.shape"
   ]
  },
  {
   "cell_type": "code",
   "execution_count": 101,
   "id": "0fbf923f",
   "metadata": {},
   "outputs": [
    {
     "data": {
      "text/plain": [
       "(2, 2)"
      ]
     },
     "execution_count": 101,
     "metadata": {},
     "output_type": "execute_result"
    }
   ],
   "source": [
    "V.T.shape"
   ]
  },
  {
   "cell_type": "code",
   "execution_count": 102,
   "id": "26658690",
   "metadata": {},
   "outputs": [
    {
     "data": {
      "text/plain": [
       "array([[ 2., -4.],\n",
       "       [ 1., -3.],\n",
       "       [ 0.,  0.],\n",
       "       [ 0.,  0.]])"
      ]
     },
     "execution_count": 102,
     "metadata": {},
     "output_type": "execute_result"
    }
   ],
   "source": [
    "U @ S @ V.T"
   ]
  },
  {
   "cell_type": "code",
   "execution_count": 25,
   "id": "87ec2f9a",
   "metadata": {
    "collapsed": true
   },
   "outputs": [
    {
     "name": "stdout",
     "output_type": "stream",
     "text": [
      "[[ 1.  2.  0. -2.]\n",
      " [ 0.  0.  1.  2.]\n",
      " [ 0.  0.  0.  0.]]\n",
      "[[0, 0], [1, 2]]\n"
     ]
    }
   ],
   "source": [
    "%run \"..\\Assignment06_Gram_Schimidt\\Gram_Schimidt.ipynb\""
   ]
  },
  {
   "cell_type": "code",
   "execution_count": 30,
   "id": "9ae7f460",
   "metadata": {
    "collapsed": true
   },
   "outputs": [
    {
     "name": "stdout",
     "output_type": "stream",
     "text": [
      "[[ 0.857 -0.467  0.217]\n",
      " [ 0.429  0.88   0.203]\n",
      " [-0.286 -0.081  0.955]]\n",
      "[[ 14.     34.714 -14.   ]\n",
      " [  0.    172.803 -58.39 ]\n",
      " [  0.      0.    -52.111]]\n",
      "16 Iterations\n",
      "eigenvalues:\n",
      " [172.317 -49.19   14.873]\n",
      "eigenvectors matrix:\n",
      " [[ 1.000e+00  7.143e-09 -1.512e-15]\n",
      " [-7.143e-09  1.000e+00 -2.795e-07]\n",
      " [-4.442e-17  2.795e-07  1.000e+00]]\n",
      "\n",
      " Iteration 0 \n",
      "\n",
      "HouseHolder Matrix 0 : \n",
      " [[ 1.     0.     0.     0.   ]\n",
      " [ 0.    -0.333  0.667 -0.667]\n",
      " [ 0.     0.667  0.667  0.333]\n",
      " [ 0.    -0.667  0.333  0.667]]\n",
      "Similar Tranformation Modified Matrix 0 : \n",
      " [[ 4.000e+00 -3.000e+00  6.661e-16 -6.661e-16]\n",
      " [-3.000e+00  3.333e+00  1.000e+00  1.333e+00]\n",
      " [ 6.661e-16  1.000e+00  1.667e+00 -1.333e+00]\n",
      " [-6.661e-16  1.333e+00 -1.333e+00 -1.000e+00]]\n",
      "Cumalative HouseHolder Matrix 0 : \n",
      " [[ 1.     0.     0.     0.   ]\n",
      " [ 0.    -0.333  0.667 -0.667]\n",
      " [ 0.     0.667  0.667  0.333]\n",
      " [ 0.    -0.667  0.333  0.667]]\n",
      "\n",
      " Iteration 1 \n",
      "\n",
      "HouseHolder Matrix 1 : \n",
      " [[ 1.   0.   0.   0. ]\n",
      " [ 0.   1.   0.   0. ]\n",
      " [ 0.   0.  -0.6 -0.8]\n",
      " [ 0.   0.  -0.8  0.6]]\n",
      "Similar Tranformation Modified Matrix 1 : \n",
      " [[ 4.000e+00 -3.000e+00  1.332e-16 -9.326e-16]\n",
      " [-3.000e+00  3.333e+00 -1.667e+00  8.882e-17]\n",
      " [ 1.332e-16 -1.667e+00 -1.320e+00  9.067e-01]\n",
      " [-9.326e-16 -4.441e-17  9.067e-01  1.987e+00]]\n",
      "Cumalative HouseHolder Matrix 1 : \n",
      " [[ 1.     0.     0.     0.   ]\n",
      " [ 0.    -0.333  0.133 -0.933]\n",
      " [ 0.     0.667 -0.667 -0.333]\n",
      " [ 0.    -0.667 -0.733  0.133]]\n",
      "\n",
      " Output Matrix: \n",
      " [[ 4.000e+00 -3.000e+00  1.332e-16 -9.326e-16]\n",
      " [-3.000e+00  3.333e+00 -1.667e+00  8.882e-17]\n",
      " [ 1.332e-16 -1.667e+00 -1.320e+00  9.067e-01]\n",
      " [-9.326e-16 -4.441e-17  9.067e-01  1.987e+00]]\n",
      "---------------------------------------------------------------------\n",
      "Cumalative HouseHolder Matrix: \n",
      " [[ 1.     0.     0.     0.   ]\n",
      " [ 0.    -0.333  0.133 -0.933]\n",
      " [ 0.     0.667 -0.667 -0.333]\n",
      " [ 0.    -0.667 -0.733  0.133]]\n",
      "448 Iterations\n",
      "[ 6.845  2.269 -2.198  1.084]\n",
      "[[ 1.000e+000  0.000e+000  0.000e+000  0.000e+000]\n",
      " [ 1.035e-215  1.000e+000 -7.143e-008  5.983e-032]\n",
      " [ 5.876e-222  7.143e-008  1.000e+000 -1.364e-031]\n",
      " [ 0.000e+000  1.536e-143 -3.520e-138  1.000e+000]]\n",
      "[[ 1.  2.  0. -2.]\n",
      " [ 0.  0.  1.  2.]\n",
      " [ 0.  0.  0.  0.]]\n",
      "[[0, 0], [1, 2]]\n",
      "eigenvalues matrix:\n",
      " [172.31690505848147, -49.190150065706895, 14.873245007225373]\n",
      "eigenvectors matrix:\n",
      " [[-0.304+0.j -0.103+0.j -0.275+0.j]\n",
      " [ 0.947+0.j -0.139+0.j  0.107+0.j]\n",
      " [-0.101+0.j -0.993+0.j  0.044+0.j]]\n",
      "eigenvalues:\n",
      " [172.31690505848144, -49.19014995028059, 14.873244891799086]\n",
      "eigenVectors:\n",
      " [[-0.304+0.j  0.103+0.j -0.5  +0.j]\n",
      " [ 0.947+0.j  0.139+0.j -0.332+0.j]\n",
      " [-0.101+0.j  0.993+0.j  0.175+0.j]]\n"
     ]
    }
   ],
   "source": [
    "%run \"..\\Assignment11-QR_EigenMethod\\QR_EigenMethod.ipynb\""
   ]
  },
  {
   "cell_type": "code",
   "execution_count": 31,
   "id": "966253d8",
   "metadata": {},
   "outputs": [],
   "source": [
    "A = np.array([\n",
    "    [2, 4],\n",
    "    [1, 3],\n",
    "    [0, 0],\n",
    "    [0, 0],\n",
    "])"
   ]
  },
  {
   "cell_type": "code",
   "execution_count": 42,
   "id": "01e66e22",
   "metadata": {},
   "outputs": [
    {
     "data": {
      "text/plain": [
       "(array([[ 0.817, -0.576,  0.   ,  0.   ],\n",
       "        [ 0.576,  0.817,  0.   ,  0.   ],\n",
       "        [ 0.   ,  0.   ,  1.   ,  0.   ],\n",
       "        [ 0.   ,  0.   ,  0.   ,  1.   ]]),\n",
       " array([5.465, 0.366]),\n",
       " array([[ 0.405, -0.915],\n",
       "        [ 0.915,  0.405]]))"
      ]
     },
     "execution_count": 42,
     "metadata": {},
     "output_type": "execute_result"
    }
   ],
   "source": [
    "def SVD_decomposition(A, e=1e-5):\n",
    "    rows, cols = A.shape\n",
    "    eigenvaluesCount = min(rows, cols)\n",
    "    firstZero = -1\n",
    "    \n",
    "    # rows > cols: Ut * A = S * Vt\n",
    "    if (rows > cols):    \n",
    "        # U is the eigenvectors of the Matrix (A @ A^t)\n",
    "        U = A @ A.T\n",
    "        eigenvalues, U = np.linalg.eig(U)\n",
    "        V = (U.T @ A)[0:cols, :].T\n",
    "        S = np.zeros(A.shape)\n",
    "        for i in range(eigenvaluesCount):\n",
    "            if (abs(eigenvalues[i]) < e):\n",
    "                S[i, i] = 0.0\n",
    "                if (firstZero < 0):\n",
    "                    firstZero = i\n",
    "            else:\n",
    "                S[i, i] = np.sqrt(eigenvalues[i])\n",
    "                V[:, i] = V[:, i] / S[i, i]\n",
    "        if (firstZero >= 0):\n",
    "            V = grandSchimidt(V[:, 0:firstZero])\n",
    "    # cols > rows: A * V = U * S\n",
    "    else:\n",
    "        # V is the eigenvectors of the Matrix (A^t @ A)\n",
    "        V = A.T @ A\n",
    "        eigenvalues, V = np.linalg.eig(V)\n",
    "        U = (A @ V)[:, 0:rows]\n",
    "        S = np.zeros(A.shape)        \n",
    "        for i in range(eigenvaluesCount):\n",
    "            if (abs(eigenvalues[i]) < e):\n",
    "                S[i, i] = 0.0\n",
    "                if (firstZero < 0):\n",
    "                    firstZero = i\n",
    "            else:\n",
    "                S[i, i] = np.sqrt(eigenvalues[i])\n",
    "                U[:, i] = U[:, i] / S[i, i]\n",
    "        if (firstZero >= 0):\n",
    "            U = grandSchimidt(U[:, 0>firstZero])        \n",
    "    return U, np.diagonal(S), V\n",
    "SVD_decomposition(A)"
   ]
  },
  {
   "cell_type": "code",
   "execution_count": null,
   "id": "9f3a521c",
   "metadata": {},
   "outputs": [],
   "source": []
  }
 ],
 "metadata": {
  "kernelspec": {
   "display_name": "Python 3 (ipykernel)",
   "language": "python",
   "name": "python3"
  },
  "language_info": {
   "codemirror_mode": {
    "name": "ipython",
    "version": 3
   },
   "file_extension": ".py",
   "mimetype": "text/x-python",
   "name": "python",
   "nbconvert_exporter": "python",
   "pygments_lexer": "ipython3",
   "version": "3.9.5"
  }
 },
 "nbformat": 4,
 "nbformat_minor": 5
}
