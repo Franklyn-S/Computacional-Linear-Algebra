{
 "cells": [
  {
   "cell_type": "code",
   "execution_count": 3,
   "id": "e1820ab9",
   "metadata": {},
   "outputs": [],
   "source": [
    "import numpy as np\n",
    "import math\n",
    "np.set_printoptions(precision=3)"
   ]
  },
  {
   "cell_type": "code",
   "execution_count": 4,
   "id": "59a8e019",
   "metadata": {},
   "outputs": [],
   "source": [
    "A = np.array([\n",
    "    [12, -51, 4],\n",
    "    [6, 167, -68],\n",
    "    [-4, -24, -41]\n",
    "])"
   ]
  },
  {
   "cell_type": "code",
   "execution_count": 5,
   "id": "b02c0b55",
   "metadata": {},
   "outputs": [],
   "source": [
    "ERROR = 0.000001"
   ]
  },
  {
   "cell_type": "markdown",
   "id": "edee9085",
   "metadata": {},
   "source": [
    "# Assignment 10"
   ]
  },
  {
   "cell_type": "markdown",
   "id": "268f2bcd",
   "metadata": {},
   "source": [
    "## QR Decomposition"
   ]
  },
  {
   "cell_type": "code",
   "execution_count": 6,
   "id": "30d1e405",
   "metadata": {},
   "outputs": [],
   "source": [
    "def QR_decomposition_aux(A):\n",
    "    rows, cols = A.shape\n",
    "    Q = np.zeros((rows, rows))\n",
    "    u = np.zeros((rows, rows))\n",
    "    u[:, 0] = A[:, 0]\n",
    "    Q[:, 0] = u[:, 0] / np.linalg.norm(u[:, 0])\n",
    "    \n",
    "    for i in range(1, rows):\n",
    "        u[:, i] = A[:, i]\n",
    "        for j in range(i):\n",
    "            u[:, i] -= (A[:, i] @ Q[:, j]) * Q[:, j] #get each u vector\n",
    "        Q[:, i] = u[:, i] / np.linalg.norm(u[:, i])\n",
    "    R = np.zeros((rows, cols))\n",
    "    for i in range(rows):\n",
    "        for j in range(i, cols):\n",
    "            R[i, j] = A[:, j] @ Q[:, i]\n",
    "    return Q, R\n",
    "q, r = QR_decomposition_aux(A)"
   ]
  },
  {
   "cell_type": "markdown",
   "id": "7e6da736",
   "metadata": {},
   "source": [
    "Adjust the signs of the columns in Q and the rows in R"
   ]
  },
  {
   "cell_type": "code",
   "execution_count": 7,
   "id": "5c698070",
   "metadata": {},
   "outputs": [],
   "source": [
    "def diag_sign(A):\n",
    "    return np.diag(np.sign(np.diag(A)))\n",
    "def adjust_sign(Q, R):\n",
    "    D = diag_sign(Q)\n",
    "    Q[:, :] = Q @ D\n",
    "    R[:, :] = D @ R\n",
    "    return Q, R"
   ]
  },
  {
   "cell_type": "code",
   "execution_count": 8,
   "id": "5edf6862",
   "metadata": {},
   "outputs": [],
   "source": [
    "def QR_decomposition(A):\n",
    "    return adjust_sign(*QR_decomposition_aux(A))"
   ]
  },
  {
   "cell_type": "code",
   "execution_count": 10,
   "id": "0a1a4b91",
   "metadata": {},
   "outputs": [],
   "source": [
    "Q, R = QR_decomposition(A)"
   ]
  },
  {
   "cell_type": "code",
   "execution_count": 11,
   "id": "e84f0f67",
   "metadata": {},
   "outputs": [
    {
     "name": "stdout",
     "output_type": "stream",
     "text": [
      "[[ 0.857 -0.467  0.217]\n",
      " [ 0.429  0.88   0.203]\n",
      " [-0.286 -0.081  0.955]]\n",
      "[[ 14.     34.714 -14.   ]\n",
      " [  0.    172.803 -58.39 ]\n",
      " [  0.      0.    -52.111]]\n"
     ]
    }
   ],
   "source": [
    "print(Q)\n",
    "print(R)"
   ]
  },
  {
   "cell_type": "code",
   "execution_count": 150,
   "id": "a5d9dda0",
   "metadata": {},
   "outputs": [
    {
     "data": {
      "text/plain": [
       "array([[ 12., -51.,   4.],\n",
       "       [  6., 167., -68.],\n",
       "       [ -4., -24., -41.]])"
      ]
     },
     "execution_count": 150,
     "metadata": {},
     "output_type": "execute_result"
    }
   ],
   "source": [
    "Q @ R"
   ]
  },
  {
   "cell_type": "code",
   "execution_count": 151,
   "id": "654baf40",
   "metadata": {},
   "outputs": [
    {
     "data": {
      "text/plain": [
       "array([[ 12, -51,   4],\n",
       "       [  6, 167, -68],\n",
       "       [ -4, -24, -41]])"
      ]
     },
     "execution_count": 151,
     "metadata": {},
     "output_type": "execute_result"
    }
   ],
   "source": [
    "A"
   ]
  }
 ],
 "metadata": {
  "kernelspec": {
   "display_name": "Python 3 (ipykernel)",
   "language": "python",
   "name": "python3"
  },
  "language_info": {
   "codemirror_mode": {
    "name": "ipython",
    "version": 3
   },
   "file_extension": ".py",
   "mimetype": "text/x-python",
   "name": "python",
   "nbconvert_exporter": "python",
   "pygments_lexer": "ipython3",
   "version": "3.9.5"
  }
 },
 "nbformat": 4,
 "nbformat_minor": 5
}
