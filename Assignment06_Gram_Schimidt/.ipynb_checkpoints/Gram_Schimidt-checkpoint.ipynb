{
 "cells": [
  {
   "cell_type": "markdown",
   "id": "cc2a2960",
   "metadata": {},
   "source": [
    "# Gram-Schimidt\n",
    "The Gram-Schimidt is a method to ortonormalize a set of vectors.\n",
    "It receives a finite set of linear independent vectors and returns a set ortonormal which generates the same inicial subspace S."
   ]
  },
  {
   "cell_type": "code",
   "execution_count": 1,
   "id": "9c2d39dd",
   "metadata": {},
   "outputs": [],
   "source": [
    "import numpy as np"
   ]
  },
  {
   "cell_type": "code",
   "execution_count": 2,
   "id": "7e108883",
   "metadata": {},
   "outputs": [],
   "source": [
    "from sympy import *"
   ]
  },
  {
   "cell_type": "code",
   "execution_count": 3,
   "id": "d71a80e7",
   "metadata": {},
   "outputs": [
    {
     "name": "stdout",
     "output_type": "stream",
     "text": [
      "[[ 1.  2.  0. -2.]\n",
      " [ 0.  0.  1.  2.]\n",
      " [ 0.  0.  0.  0.]]\n",
      "[[0, 0], [1, 2]]\n",
      "[[  1.           3.           0.           0.          12.83333333\n",
      "    4.16666667   0.          -6.83333333   4.33333333]\n",
      " [  0.           0.           1.           0.         -10.\n",
      "   -3.           0.           5.          -3.        ]\n",
      " [  0.           0.           0.           1.          -3.16666667\n",
      "   -0.83333333   0.           1.16666667  -0.66666667]\n",
      " [  0.           0.           0.           0.           0.\n",
      "    0.           1.          -2.           1.        ]]\n",
      "[[0, 0], [1, 2], [2, 3], [3, 6]]\n"
     ]
    }
   ],
   "source": [
    "%run \"..\\Assignment05-RREF\\RREF.ipynb\""
   ]
  },
  {
   "cell_type": "code",
   "execution_count": 4,
   "id": "5dbbc0ea",
   "metadata": {},
   "outputs": [],
   "source": [
    "def orthogonalize(A, n):\n",
    "    b = A[:, n][:, np.newaxis]\n",
    "    if n == 0:\n",
    "        v = A[n]\n",
    "        return np.array(b / np.linalg.norm(b))\n",
    "    else:\n",
    "        # get subspace with antecessors vectors to project b\n",
    "        X = A[:, range(0, n)]\n",
    "        # create NxN identity matrix\n",
    "        I = np.eye(X.shape[0])\n",
    "        M = I - X @ np.linalg.inv(X.T @ X) @ X.T\n",
    "        e = M.dot(b)\n",
    "        return e /np.linalg.norm(e)   "
   ]
  },
  {
   "cell_type": "code",
   "execution_count": 5,
   "id": "755fe777",
   "metadata": {},
   "outputs": [],
   "source": [
    "def gramSchimidt(A):\n",
    "    length = np.min(A.shape)\n",
    "    return np.concatenate([orthogonalize(A, i) for i in range(length)], axis=1)"
   ]
  },
  {
   "cell_type": "markdown",
   "id": "083eaccc",
   "metadata": {},
   "source": [
    "# Using RREF to get an base."
   ]
  },
  {
   "cell_type": "code",
   "execution_count": 6,
   "id": "fdda7881",
   "metadata": {},
   "outputs": [],
   "source": [
    "M = Matrix([\n",
    "    [1, 3, 3, -7, 5],\n",
    "    [2, 6, 5, -8, 1],\n",
    "    [3, 9, 5, -3, -2],\n",
    "    [4, 12, 5, 2, -5],\n",
    "])"
   ]
  },
  {
   "cell_type": "code",
   "execution_count": 7,
   "id": "3062d216",
   "metadata": {},
   "outputs": [
    {
     "data": {
      "text/latex": [
       "$\\displaystyle \\left[\\begin{matrix}1 & 3 & 3 & -7 & 5 & 1.0 & 0 & 0 & 0\\\\2 & 6 & 5 & -8 & 1 & 0 & 1.0 & 0 & 0\\\\3 & 9 & 5 & -3 & -2 & 0 & 0 & 1.0 & 0\\\\4 & 12 & 5 & 2 & -5 & 0 & 0 & 0 & 1.0\\end{matrix}\\right]$"
      ],
      "text/plain": [
       "Matrix([\n",
       "[1,  3, 3, -7,  5, 1.0,   0,   0,   0],\n",
       "[2,  6, 5, -8,  1,   0, 1.0,   0,   0],\n",
       "[3,  9, 5, -3, -2,   0,   0, 1.0,   0],\n",
       "[4, 12, 5,  2, -5,   0,   0,   0, 1.0]])"
      ]
     },
     "execution_count": 7,
     "metadata": {},
     "output_type": "execute_result"
    }
   ],
   "source": [
    "#A'\n",
    "Mextended = Matrix(np.concatenate((M, np.identity(M.shape[0])), axis=1))\n",
    "Mextended"
   ]
  },
  {
   "cell_type": "code",
   "execution_count": 8,
   "id": "451edfe0",
   "metadata": {},
   "outputs": [
    {
     "data": {
      "text/plain": [
       "array([[ 1.,  3.,  3., -7.,  5.,  1.,  0.,  0.,  0.],\n",
       "       [ 2.,  6.,  5., -8.,  1.,  0.,  1.,  0.,  0.],\n",
       "       [ 3.,  9.,  5., -3., -2.,  0.,  0.,  1.,  0.],\n",
       "       [ 4., 12.,  5.,  2., -5.,  0.,  0.,  0.,  1.]])"
      ]
     },
     "execution_count": 8,
     "metadata": {},
     "output_type": "execute_result"
    }
   ],
   "source": [
    "Mextended = np.array(Mextended).astype(np.float64) # convert to numpy\n",
    "Mextended"
   ]
  },
  {
   "cell_type": "code",
   "execution_count": 9,
   "id": "ea25f176",
   "metadata": {},
   "outputs": [
    {
     "name": "stdout",
     "output_type": "stream",
     "text": [
      "[[0, 0], [1, 2], [2, 3], [3, 6]]\n"
     ]
    },
    {
     "data": {
      "text/plain": [
       "[0, 2, 3, 6]"
      ]
     },
     "execution_count": 9,
     "metadata": {},
     "output_type": "execute_result"
    }
   ],
   "source": [
    "# _, pivot_columns = Mextended.rref() # lib\n",
    "_, pivot_columns = RREF(Mextended)\n",
    "print(pivot_columns)\n",
    "pivot_columns = list(map(lambda x: x[1], pivot_columns))\n",
    "pivot_columns"
   ]
  },
  {
   "cell_type": "code",
   "execution_count": 10,
   "id": "7bb69e0c",
   "metadata": {},
   "outputs": [
    {
     "data": {
      "text/plain": [
       "array([[ 1.,  3., -7.,  0.],\n",
       "       [ 2.,  5., -8.,  1.],\n",
       "       [ 3.,  5., -3.,  0.],\n",
       "       [ 4.,  5.,  2.,  0.]])"
      ]
     },
     "execution_count": 10,
     "metadata": {},
     "output_type": "execute_result"
    }
   ],
   "source": [
    "base = Mextended[:, pivot_columns]\n",
    "base"
   ]
  },
  {
   "cell_type": "code",
   "execution_count": 11,
   "id": "0cf1396a",
   "metadata": {},
   "outputs": [],
   "source": [
    "base = np.array(base).astype(np.float64) # convert to numpy"
   ]
  },
  {
   "cell_type": "code",
   "execution_count": 12,
   "id": "ad9d0617",
   "metadata": {},
   "outputs": [
    {
     "name": "stdout",
     "output_type": "stream",
     "text": [
      "[[ 1.82574186e-01  5.21749195e-01 -8.33333333e-01  3.91605107e-14]\n",
      " [ 3.65148372e-01  6.70820393e-01  5.00000000e-01  4.08248290e-01]\n",
      " [ 5.47722558e-01  7.45355992e-02  1.66666667e-01 -8.16496581e-01]\n",
      " [ 7.30296743e-01 -5.21749195e-01 -1.66666667e-01  4.08248290e-01]]\n"
     ]
    }
   ],
   "source": [
    "result = gramSchimidt(base)\n",
    "print(result)"
   ]
  },
  {
   "cell_type": "code",
   "execution_count": 13,
   "id": "f9ec0dda",
   "metadata": {},
   "outputs": [
    {
     "name": "stdout",
     "output_type": "stream",
     "text": [
      "[[ 1.00000000e+00  1.62092562e-14 -2.82197105e-14  2.04018901e-14]\n",
      " [ 1.62092562e-14  1.00000000e+00 -6.02268057e-15  4.56490391e-14]\n",
      " [-2.82197105e-14 -6.02268057e-15  1.00000000e+00 -4.46397579e-14]\n",
      " [ 2.04018901e-14  4.56490391e-14 -4.46397579e-14  1.00000000e+00]]\n"
     ]
    }
   ],
   "source": [
    "print(result @ result.T)"
   ]
  },
  {
   "cell_type": "code",
   "execution_count": null,
   "id": "952b39eb",
   "metadata": {},
   "outputs": [],
   "source": []
  }
 ],
 "metadata": {
  "kernelspec": {
   "display_name": "Python 3 (ipykernel)",
   "language": "python",
   "name": "python3"
  },
  "language_info": {
   "codemirror_mode": {
    "name": "ipython",
    "version": 3
   },
   "file_extension": ".py",
   "mimetype": "text/x-python",
   "name": "python",
   "nbconvert_exporter": "python",
   "pygments_lexer": "ipython3",
   "version": "3.9.5"
  }
 },
 "nbformat": 4,
 "nbformat_minor": 5
}
