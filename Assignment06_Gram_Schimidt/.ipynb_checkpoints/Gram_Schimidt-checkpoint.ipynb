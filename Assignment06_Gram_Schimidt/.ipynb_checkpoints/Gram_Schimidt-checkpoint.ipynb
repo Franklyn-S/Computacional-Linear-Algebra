{
 "cells": [
  {
   "cell_type": "markdown",
   "id": "cc2a2960",
   "metadata": {},
   "source": [
    "# Gram-Schimidt\n",
    "The Gram-Schimidt is a method to ortonormalize a set of vectors.\n",
    "It receives a finite set of linear independent vectors and returns a set ortonormal which generates the same inicial subspace S."
   ]
  },
  {
   "cell_type": "code",
   "execution_count": 1,
   "id": "9c2d39dd",
   "metadata": {},
   "outputs": [],
   "source": [
    "import numpy as np"
   ]
  },
  {
   "cell_type": "code",
   "execution_count": 2,
   "id": "7e108883",
   "metadata": {},
   "outputs": [],
   "source": [
    "from sympy import *"
   ]
  },
  {
   "cell_type": "code",
   "execution_count": 3,
   "id": "d71a80e7",
   "metadata": {},
   "outputs": [
    {
     "name": "stdout",
     "output_type": "stream",
     "text": [
      "[[ 1.  2.  0. -2.]\n",
      " [ 0.  0.  1.  2.]\n",
      " [ 0.  0.  0.  0.]]\n",
      "[[0, 0], [1, 2]]\n",
      "[[  1.           3.           0.           0.          12.83333333\n",
      "    4.16666667   0.          -6.83333333   4.33333333]\n",
      " [  0.           0.           1.           0.         -10.\n",
      "   -3.           0.           5.          -3.        ]\n",
      " [  0.           0.           0.           1.          -3.16666667\n",
      "   -0.83333333   0.           1.16666667  -0.66666667]\n",
      " [  0.           0.           0.           0.           0.\n",
      "    0.           1.          -2.           1.        ]]\n",
      "[[0, 0], [1, 2], [2, 3], [3, 6]]\n"
     ]
    }
   ],
   "source": [
    "%run \"..\\Assignment05-RREF\\RREF.ipynb\""
   ]
  },
  {
   "cell_type": "code",
   "execution_count": 13,
   "id": "5dbbc0ea",
   "metadata": {},
   "outputs": [],
   "source": [
    "def orthogonalize(A, n):\n",
    "    b = A[:, n][:, np.newaxis]\n",
    "    if n == 0:\n",
    "        v = A[n]\n",
    "        return np.array(b / np.linalg.norm(b))\n",
    "    else:\n",
    "        # get subspace with antecessors vectors to project b\n",
    "        X = A[:, range(0, n)]\n",
    "        # create NxN identity matrix\n",
    "        I = np.eye(X.shape[0])\n",
    "        M = I - X @ np.linalg.inv(X.T @ X) @ X.T\n",
    "        e = M.dot(b)\n",
    "        return e /np.linalg.norm(e)   "
   ]
  },
  {
   "cell_type": "code",
   "execution_count": 11,
   "id": "755fe777",
   "metadata": {},
   "outputs": [],
   "source": [
    "def gramSchimidt(A):\n",
    "    length = np.min(A.shape)\n",
    "    return np.concatenate([orthogonalize(A, i) for i in range(length)], axis=1)"
   ]
  },
  {
   "cell_type": "markdown",
   "id": "083eaccc",
   "metadata": {},
   "source": [
    "# Using RREF to get an base."
   ]
  },
  {
   "cell_type": "code",
   "execution_count": 4,
   "id": "fdda7881",
   "metadata": {},
   "outputs": [],
   "source": [
    "M = Matrix([\n",
    "    [1, 1, 1],\n",
    "    [2, 1, 0,],\n",
    "    [5, 1, 3],\n",
    "])"
   ]
  },
  {
   "cell_type": "code",
   "execution_count": 28,
   "id": "af7fc341",
   "metadata": {},
   "outputs": [],
   "source": [
    "M = np.array([[ 0.461+0.j,  0.788+0.j,  0.   +0.j],\n",
    "       [-0.201+0.j,  0.541+0.j,  0.   +0.j]])"
   ]
  },
  {
   "cell_type": "code",
   "execution_count": 36,
   "id": "abdb0415",
   "metadata": {},
   "outputs": [
    {
     "data": {
      "text/plain": [
       "array([[ 0.461+0.j,  0.788+0.j,  0.   +0.j],\n",
       "       [-0.201+0.j,  0.541+0.j,  0.   +0.j]])"
      ]
     },
     "execution_count": 36,
     "metadata": {},
     "output_type": "execute_result"
    }
   ],
   "source": [
    "M2 = np.array([[ 0.461+0.j,  0.788+0.j,  0.   +0.j],\n",
    "       [-0.201+0.j,  0.541+0.j,  0.   +0.j]])\n",
    "M2"
   ]
  },
  {
   "cell_type": "code",
   "execution_count": 38,
   "id": "ef37ca8b",
   "metadata": {},
   "outputs": [
    {
     "data": {
      "text/plain": [
       "array([[ 0.461+0.j, -0.201+0.j],\n",
       "       [ 0.788+0.j,  0.541+0.j]])"
      ]
     },
     "execution_count": 38,
     "metadata": {},
     "output_type": "execute_result"
    }
   ],
   "source": [
    "A = M2.T[:-1]\n",
    "A"
   ]
  },
  {
   "cell_type": "code",
   "execution_count": 30,
   "id": "3062d216",
   "metadata": {},
   "outputs": [
    {
     "data": {
      "text/latex": [
       "$\\displaystyle \\left[\\begin{matrix}0.461 & 0.788 & 0 & 1.0 & 0\\\\-0.201 & 0.541 & 0 & 0 & 1.0\\end{matrix}\\right]$"
      ],
      "text/plain": [
       "Matrix([\n",
       "[ 0.461, 0.788, 0, 1.0,   0],\n",
       "[-0.201, 0.541, 0,   0, 1.0]])"
      ]
     },
     "execution_count": 30,
     "metadata": {},
     "output_type": "execute_result"
    }
   ],
   "source": [
    "#A'\n",
    "Mextended = Matrix(np.concatenate((M, np.identity(M.shape[0])), axis=1))\n",
    "Mextended"
   ]
  },
  {
   "cell_type": "code",
   "execution_count": 18,
   "id": "451edfe0",
   "metadata": {},
   "outputs": [
    {
     "data": {
      "text/plain": [
       "array([[1., 2., 5., 1., 0., 0.],\n",
       "       [1., 1., 1., 0., 1., 0.],\n",
       "       [1., 0., 3., 0., 0., 1.]])"
      ]
     },
     "execution_count": 18,
     "metadata": {},
     "output_type": "execute_result"
    }
   ],
   "source": [
    "Mextended = np.array(Mextended).astype(np.float64) # convert to numpy\n",
    "Mextended"
   ]
  },
  {
   "cell_type": "code",
   "execution_count": 19,
   "id": "ea25f176",
   "metadata": {},
   "outputs": [
    {
     "name": "stdout",
     "output_type": "stream",
     "text": [
      "[[0, 0], [1, 1], [2, 2]]\n"
     ]
    },
    {
     "data": {
      "text/plain": [
       "[0, 1, 2]"
      ]
     },
     "execution_count": 19,
     "metadata": {},
     "output_type": "execute_result"
    }
   ],
   "source": [
    "# _, pivot_columns = Mextended.rref() # lib\n",
    "_, pivot_columns = RREF(Mextended)\n",
    "print(pivot_columns)\n",
    "pivot_columns = list(map(lambda x: x[1], pivot_columns))\n",
    "pivot_columns"
   ]
  },
  {
   "cell_type": "code",
   "execution_count": 20,
   "id": "7bb69e0c",
   "metadata": {},
   "outputs": [
    {
     "data": {
      "text/plain": [
       "array([[1., 2., 5.],\n",
       "       [1., 1., 1.],\n",
       "       [1., 0., 3.]])"
      ]
     },
     "execution_count": 20,
     "metadata": {},
     "output_type": "execute_result"
    }
   ],
   "source": [
    "base = Mextended[:, pivot_columns]\n",
    "base"
   ]
  },
  {
   "cell_type": "code",
   "execution_count": 21,
   "id": "0cf1396a",
   "metadata": {},
   "outputs": [],
   "source": [
    "base = np.array(base).astype(np.float64) # convert to numpy"
   ]
  },
  {
   "cell_type": "code",
   "execution_count": 22,
   "id": "ad9d0617",
   "metadata": {},
   "outputs": [
    {
     "name": "stdout",
     "output_type": "stream",
     "text": [
      "[[ 5.77350269e-01  7.07106781e-01  4.08248290e-01]\n",
      " [ 5.77350269e-01  7.85046229e-17 -8.16496581e-01]\n",
      " [ 5.77350269e-01 -7.07106781e-01  4.08248290e-01]]\n"
     ]
    }
   ],
   "source": [
    "result = gramSchimidt(base)\n",
    "print(result)"
   ]
  },
  {
   "cell_type": "code",
   "execution_count": 23,
   "id": "f9ec0dda",
   "metadata": {},
   "outputs": [
    {
     "name": "stdout",
     "output_type": "stream",
     "text": [
      "[[ 1.00000000e+00  1.46619115e-16 -5.29365856e-17]\n",
      " [ 1.46619115e-16  1.00000000e+00  3.55968130e-17]\n",
      " [-5.29365856e-17  3.55968130e-17  1.00000000e+00]]\n"
     ]
    }
   ],
   "source": [
    "print(result @ result.T)"
   ]
  },
  {
   "cell_type": "code",
   "execution_count": null,
   "id": "952b39eb",
   "metadata": {},
   "outputs": [],
   "source": []
  }
 ],
 "metadata": {
  "kernelspec": {
   "display_name": "Python 3 (ipykernel)",
   "language": "python",
   "name": "python3"
  },
  "language_info": {
   "codemirror_mode": {
    "name": "ipython",
    "version": 3
   },
   "file_extension": ".py",
   "mimetype": "text/x-python",
   "name": "python",
   "nbconvert_exporter": "python",
   "pygments_lexer": "ipython3",
   "version": "3.9.5"
  }
 },
 "nbformat": 4,
 "nbformat_minor": 5
}
