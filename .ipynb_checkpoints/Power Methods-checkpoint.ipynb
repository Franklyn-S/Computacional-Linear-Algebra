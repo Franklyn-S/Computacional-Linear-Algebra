{
 "cells": [
  {
   "cell_type": "code",
   "execution_count": 1,
   "id": "4b498a0b",
   "metadata": {},
   "outputs": [],
   "source": [
    "!conda activate p3.9"
   ]
  },
  {
   "cell_type": "code",
   "execution_count": 2,
   "id": "1b7ce483",
   "metadata": {
    "collapsed": true
   },
   "outputs": [
    {
     "name": "stdout",
     "output_type": "stream",
     "text": [
      "[[1.         0.         0.         0.         0.        ]\n",
      " [0.075      1.         0.         0.         0.        ]\n",
      " [0.225      0.14599341 1.         0.         0.        ]\n",
      " [0.175      0.28430296 0.21571107 1.         0.        ]\n",
      " [0.2        0.50054885 0.1846016  0.15698148 1.        ]]\n",
      "[[40.          3.          9.          7.          8.        ]\n",
      " [ 0.         22.775       3.325       6.475      11.4       ]\n",
      " [ 0.          0.         62.4895719  13.47969265 11.53567508]\n",
      " [ 0.          0.          0.         31.02641934  4.87057336]\n",
      " [ 0.          0.          0.          0.         40.7996492 ]]\n",
      "[[1.        ]\n",
      " [0.925     ]\n",
      " [0.63995609]\n",
      " [0.42397414]\n",
      " [0.15229931]]\n",
      "[0 1 2 3 4]\n",
      "[[1.         0.         0.        ]\n",
      " [0.35       1.         0.        ]\n",
      " [0.45       0.17604356 1.        ]]\n",
      "[[20.          7.          9.        ]\n",
      " [ 0.         27.55        4.85      ]\n",
      " [ 0.          0.         25.09618875]]\n",
      "[[16.        ]\n",
      " [32.4       ]\n",
      " [25.09618875]]\n",
      "[0 1 2]\n"
     ]
    }
   ],
   "source": [
    "%run LU.ipynb"
   ]
  },
  {
   "cell_type": "code",
   "execution_count": 3,
   "id": "30917f01",
   "metadata": {},
   "outputs": [],
   "source": [
    "import numpy as np"
   ]
  },
  {
   "cell_type": "code",
   "execution_count": 4,
   "id": "e89ecd1e",
   "metadata": {},
   "outputs": [
    {
     "data": {
      "text/plain": [
       "array([[40.,  3.,  9.,  7.,  8.],\n",
       "       [ 3., 23.,  4.,  7., 12.],\n",
       "       [ 9.,  4., 65., 16., 15.],\n",
       "       [ 7.,  7., 16., 37., 12.],\n",
       "       [ 8., 12., 15., 12., 51.]])"
      ]
     },
     "execution_count": 4,
     "metadata": {},
     "output_type": "execute_result"
    }
   ],
   "source": [
    "A =  np.array([\n",
    "  np.array([40, 3, 9, 7, 8], dtype=float),\n",
    "  np.array([3, 23, 4, 7, 12], dtype=float),\n",
    "  np.array([9, 4, 65, 16, 15], dtype=float),\n",
    "  np.array([7, 7, 16, 37, 12], dtype=float),\n",
    "  np.array([8, 12, 15, 12, 51], dtype=float),\n",
    "])\n",
    "A"
   ]
  },
  {
   "cell_type": "code",
   "execution_count": 5,
   "id": "783f8cd7",
   "metadata": {},
   "outputs": [
    {
     "data": {
      "text/plain": [
       "array([[1.],\n",
       "       [1.],\n",
       "       [1.],\n",
       "       [1.],\n",
       "       [1.]])"
      ]
     },
     "execution_count": 5,
     "metadata": {},
     "output_type": "execute_result"
    }
   ],
   "source": [
    "x = np.array([\n",
    "  np.array([1], dtype=float),\n",
    "  np.array([1], dtype=float),\n",
    "  np.array([1], dtype=float),\n",
    "  np.array([1], dtype=float),\n",
    "  np.array([1], dtype=float),\n",
    "])\n",
    "x"
   ]
  },
  {
   "cell_type": "code",
   "execution_count": 6,
   "id": "e9469d71",
   "metadata": {},
   "outputs": [],
   "source": [
    "error = 0.00000000001"
   ]
  },
  {
   "cell_type": "code",
   "execution_count": 17,
   "id": "925b6b51",
   "metadata": {},
   "outputs": [
    {
     "data": {
      "text/plain": [
       "(80.39999999999999,\n",
       " array([0.36011098, 0.26336475, 0.58585219, 0.42460847, 0.52672949]))"
      ]
     },
     "execution_count": 17,
     "metadata": {},
     "output_type": "execute_result"
    }
   ],
   "source": [
    "def PowerMethod(A, x, error):\n",
    "    xc = x.copy()\n",
    "    v = xc / np.linalg.norm(xc)\n",
    "    lambdaN = 0\n",
    "    while True:\n",
    "        lambdai = lambdaN\n",
    "        xc = np.array(A @ v).flatten()\n",
    "        lambdaN = (v.T @ xc).flatten()[0]\n",
    "        v = np.array(xc / np.linalg.norm(xc))\n",
    "        test = np.abs((lambdaN - lambdai) / lambdaN)\n",
    "        if (test > error):\n",
    "            break\n",
    "    return lambdaN, v\n",
    "pr, xr = PowerMethod(A,x, error)\n",
    "pr, xr"
   ]
  },
  {
   "cell_type": "code",
   "execution_count": 20,
   "id": "70207039",
   "metadata": {},
   "outputs": [
    {
     "data": {
      "text/plain": [
       "(0.7118448200771119,\n",
       " array([[0.63652731],\n",
       "        [0.58878777],\n",
       "        [0.40734953],\n",
       "        [0.26987112],\n",
       "        [0.09694267]]))"
      ]
     },
     "execution_count": 20,
     "metadata": {},
     "output_type": "execute_result"
    }
   ],
   "source": [
    "def InvertedPowerMethod(A, x, error):\n",
    "    xc = x.copy();\n",
    "    lambdaN = 0\n",
    "    v = xc / np.linalg.norm(xc)\n",
    "    while True: \n",
    "        lambdai = lambdaN\n",
    "        L, U, xc, perm = LU(A, xc)\n",
    "        lambdaN = np.array(v.T @ xc).flatten()[0]\n",
    "        v = xc / np.linalg.norm(xc)\n",
    "        test = np.abs((lambdaN - lambdai) / lambdaN)\n",
    "        if (test > error):\n",
    "            break\n",
    "    lambdaN = 1 / lambdaN\n",
    "    return lambdaN, v\n",
    "pi, xi = InvertedPowerMethod(A, x, error)\n",
    "pi, xi"
   ]
  },
  {
   "cell_type": "code",
   "execution_count": 22,
   "id": "e3aec3d6",
   "metadata": {},
   "outputs": [
    {
     "data": {
      "text/plain": [
       "(41.682504903947255,\n",
       " array([[0.08209604],\n",
       "        [0.24038679],\n",
       "        [0.95887583],\n",
       "        [0.05464187],\n",
       "        [0.11421839]]))"
      ]
     },
     "execution_count": 22,
     "metadata": {},
     "output_type": "execute_result"
    }
   ],
   "source": [
    "def DislocatedPowerMethod(A, x, error, mu):\n",
    "    I = np.eye(A.shape[0])\n",
    "    A_ = A - (mu)*I\n",
    "    \n",
    "    lambdan, xn = InvertedPowerMethod(A_,x,error)\n",
    "    lambdai = lambdan + mu\n",
    "    xi = xn\n",
    "    \n",
    "    return lambdai, xi\n",
    "mu = ((pr + pi)/2)+1\n",
    "pd, xd = DislocatedPowerMethod(A, x, error, mu)\n",
    "pd, xd"
   ]
  },
  {
   "cell_type": "code",
   "execution_count": null,
   "id": "c8bd42e9",
   "metadata": {},
   "outputs": [],
   "source": []
  }
 ],
 "metadata": {
  "kernelspec": {
   "display_name": "Python 3 (ipykernel)",
   "language": "python",
   "name": "python3"
  },
  "language_info": {
   "codemirror_mode": {
    "name": "ipython",
    "version": 3
   },
   "file_extension": ".py",
   "mimetype": "text/x-python",
   "name": "python",
   "nbconvert_exporter": "python",
   "pygments_lexer": "ipython3",
   "version": "3.9.7"
  }
 },
 "nbformat": 4,
 "nbformat_minor": 5
}
