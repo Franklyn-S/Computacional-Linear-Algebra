{
 "cells": [
  {
   "cell_type": "markdown",
   "id": "df80c16b",
   "metadata": {},
   "source": []
  },
  {
   "cell_type": "code",
   "execution_count": 1,
   "id": "1c64e4d1",
   "metadata": {},
   "outputs": [],
   "source": [
    "import numpy as np"
   ]
  },
  {
   "cell_type": "code",
   "execution_count": 3,
   "id": "7dfc3ead",
   "metadata": {},
   "outputs": [],
   "source": [
    "%run utils.ipynb"
   ]
  },
  {
   "cell_type": "markdown",
   "id": "77cf1e57",
   "metadata": {},
   "source": [
    "# Gauss-Jordan Elimination with total pivot\n",
    "Used to solve linear systems"
   ]
  },
  {
   "cell_type": "code",
   "execution_count": 4,
   "id": "5cf24546",
   "metadata": {},
   "outputs": [],
   "source": [
    "matrix = np.array([\n",
    "  np.array([20, 7, 9], dtype=float),\n",
    "  np.array([7, 30, 8], dtype=float),\n",
    "  np.array([9, 8, 30], dtype=float),\n",
    "])"
   ]
  },
  {
   "cell_type": "code",
   "execution_count": 5,
   "id": "8c6eab8e",
   "metadata": {},
   "outputs": [],
   "source": [
    "b = np.array([\n",
    "  np.array([16], dtype=float),\n",
    "  np.array([38], dtype=float),\n",
    "  np.array([38], dtype=float),\n",
    "])"
   ]
  },
  {
   "cell_type": "code",
   "execution_count": 6,
   "id": "59751352",
   "metadata": {},
   "outputs": [
    {
     "name": "stdout",
     "output_type": "stream",
     "text": [
      "[[20.          7.          9.        ]\n",
      " [ 0.         27.55        4.85      ]\n",
      " [ 0.          0.         25.09618875]]\n",
      "[[16.        ]\n",
      " [32.4       ]\n",
      " [25.09618875]]\n",
      "[0 1 2]\n"
     ]
    }
   ],
   "source": [
    "def elimination_with_total_pivot(Matrix, b):\n",
    "    M = Matrix.copy()\n",
    "    b_ = b.copy()\n",
    "    lines_size = len(M)\n",
    "    col_size = M[0].size\n",
    "    \n",
    "    # build the permutation vector\n",
    "    perm = np.arange(col_size);\n",
    "    \n",
    "    for c in range(col_size-1): # columns\n",
    "        # we find the absolute maximum from A(c:n, c:n) to use it as a pivot\n",
    "        \n",
    "        if (abs(M[c][c]) < 0.0001):\n",
    "            pivot, idx_biggest_line, idx_biggest_col = find_biggest_pivot_value_id(M, c)     \n",
    "            if (idx_biggest_line != c and idx_biggest_col > c-1):\n",
    "                M = swap_lines(M, idx_biggest_line, c) \n",
    "            if (idx_biggest_col != c and idx_biggest_col > c-1):\n",
    "                M, perm = swap_columns(M, perm, idx_biggest_col, c)       \n",
    "        \n",
    "        for l in range(c+1, lines_size): # lines\n",
    "            \n",
    "            alfa = - M[l][c] / M[c][c] \n",
    "            \n",
    "            M[l] += alfa*M[c]\n",
    "            b_[l][0] += alfa*b_[c][0]\n",
    "        \n",
    "    return M, b_, perm\n",
    "M, b_, perm = elimination_with_total_pivot(matrix, b)\n",
    "\n",
    "print(M)\n",
    "print(b_)\n",
    "print(perm)"
   ]
  },
  {
   "cell_type": "code",
   "execution_count": 7,
   "id": "81df3091",
   "metadata": {},
   "outputs": [
    {
     "data": {
      "text/plain": [
       "array([[0.],\n",
       "       [1.],\n",
       "       [1.]])"
      ]
     },
     "execution_count": 7,
     "metadata": {},
     "output_type": "execute_result"
    }
   ],
   "source": [
    "def back_substitution(M, b, perm):\n",
    "    M_ = M.copy()\n",
    "    b_ = b.copy()\n",
    "    b_size = b.size\n",
    "    lines_size = len(M)\n",
    "    col_size = M[0].size\n",
    "    x = np.zeros((b_size, 1))\n",
    "    \n",
    "    x[b_size-1][0] =  b[b_size-1][0] / M[lines_size-1][lines_size-1]\n",
    "    for i in range(lines_size-2, -1, -1):\n",
    "        values_sum = 0\n",
    "        for j in range(i+1, lines_size):\n",
    "            values_sum += M[i][j] * x[j][0]\n",
    "        x[i][0] = (b[i][0] - values_sum) / M[i][i]    \n",
    "    return x[perm]\n",
    "back_substitution(M, b_, perm)"
   ]
  },
  {
   "cell_type": "markdown",
   "id": "807e66cb",
   "metadata": {},
   "source": [
    "# LU decomposition\n",
    "Factors the matrix as the product of a lower triangular matrix and an upper triangular matrix. It can have a Permutation matrix as well."
   ]
  },
  {
   "cell_type": "code",
   "execution_count": 8,
   "id": "7eef7333",
   "metadata": {},
   "outputs": [
    {
     "data": {
      "text/plain": [
       "(30.0, 2, 2)"
      ]
     },
     "execution_count": 8,
     "metadata": {},
     "output_type": "execute_result"
    }
   ],
   "source": [
    "# Find the absolute maximum from M(p:n, p:n) to use it as a pivot\n",
    "# Parameters:\n",
    "#    M - Matrix\n",
    "# Return\n",
    "#   - The row and column index of the biggest value in the matrix\n",
    "def find_biggest_pivot_value_id(M, p):\n",
    "    pivot = 0\n",
    "    row_idx = 0\n",
    "    col_idx = 0\n",
    "    n = M[0].size\n",
    "    M_ = abs(M[p:n].T[p:n].T)\n",
    "    if np.max(M_) > abs(np.min(M_)):\n",
    "        pivot = np.max(M_)\n",
    "        row_idx = np.amax(M_, axis=1).argmax()\n",
    "        col_idx = np.amax(M_, axis=0).argmax()\n",
    "    else:\n",
    "        pivot = abs(np.min(M_))\n",
    "        row_idx = np.amin(M_, axis=1).argmin()\n",
    "        col_idx = np.amin(M_, axis=0).argmin()\n",
    "                \n",
    "    return pivot, row_idx + p, col_idx + p\n",
    "find_biggest_pivot_value_id(matrix, 2)"
   ]
  },
  {
   "cell_type": "code",
   "execution_count": 9,
   "id": "ab687a28",
   "metadata": {},
   "outputs": [],
   "source": [
    "# Swap Lines in matrix\n",
    "def swap_lines(M, line1, line2):\n",
    "    M_copy = M.copy()\n",
    "    M_copy[[line1, line2]] = M_copy[[line2, line1]]\n",
    "    return M_copy"
   ]
  },
  {
   "cell_type": "code",
   "execution_count": 10,
   "id": "6e908d78",
   "metadata": {},
   "outputs": [],
   "source": [
    "# Swap columns in a matrix and result\n",
    "def swap_columns(M, b, col1, col2):\n",
    "    M_copy = M.copy()\n",
    "    b_ = b.copy()    \n",
    "    M_copy[:, [col1, col2]] = M_copy[:, [col2, col1]]\n",
    "    b_[[col1, col2]] = b_[[col2, col1]]\n",
    "    return M_copy, b_\n",
    "# swap_columns(matrix, b, 0, 1)"
   ]
  },
  {
   "cell_type": "code",
   "execution_count": 12,
   "id": "18c7a62f",
   "metadata": {},
   "outputs": [
    {
     "name": "stdout",
     "output_type": "stream",
     "text": [
      "[[1.         0.         0.        ]\n",
      " [0.35       1.         0.        ]\n",
      " [0.45       0.17604356 1.        ]]\n",
      "[[20.          7.          9.        ]\n",
      " [ 0.         27.55        4.85      ]\n",
      " [ 0.          0.         25.09618875]]\n",
      "[[16.        ]\n",
      " [32.4       ]\n",
      " [25.09618875]]\n",
      "[0 1 2]\n"
     ]
    }
   ],
   "source": [
    "def LU(Matrix, b):\n",
    "    b_ = b.copy()\n",
    "    lines_size = len(Matrix)\n",
    "    col_size = Matrix[0].size\n",
    "    L = np.identity(lines_size)\n",
    "    U = Matrix.copy()\n",
    "    \n",
    "    # build the permutation vector\n",
    "    perm = np.arange(col_size);\n",
    "    \n",
    "    for c in range(col_size-1): # columns         \n",
    "        for l in range(c+1, lines_size): # lines            \n",
    "            alfa = - U[l][c] / U[c][c]\n",
    "            L[l][c] = - alfa         \n",
    "            U[l] += alfa*U[c]\n",
    "            U[l][c] = 0\n",
    "            b_[l][0] += alfa*b_[c][0]\n",
    "        \n",
    "    return L, U, b_, perm\n",
    "L, U, b_, perm = LU(matrix, b)\n",
    "\n",
    "print(L)\n",
    "print(U)\n",
    "print(b_)\n",
    "print(perm)"
   ]
  },
  {
   "cell_type": "code",
   "execution_count": 13,
   "id": "74458863",
   "metadata": {},
   "outputs": [
    {
     "name": "stdout",
     "output_type": "stream",
     "text": [
      "[[1.         0.         0.        ]\n",
      " [0.35       1.         0.        ]\n",
      " [0.45       0.17604356 1.        ]]\n",
      "[[20.          7.          9.        ]\n",
      " [ 0.         27.55        4.85      ]\n",
      " [ 0.          0.         25.09618875]]\n",
      "[[16.        ]\n",
      " [32.4       ]\n",
      " [25.09618875]]\n",
      "[0 1 2]\n"
     ]
    }
   ],
   "source": [
    "def LU_with_total_pivot(Matrix, b):\n",
    "    b_ = b.copy()\n",
    "    lines_size = len(Matrix)\n",
    "    col_size = Matrix[0].size\n",
    "    L = np.identity(lines_size)\n",
    "    U = Matrix.copy()\n",
    "    \n",
    "    # build the permutation vector\n",
    "    perm = np.arange(col_size);\n",
    "    \n",
    "    for c in range(col_size-1): # columns\n",
    "        # we find the absolute maximum from A(c:n, c:n) to use it as a pivot\n",
    "        \n",
    "        if (abs(U[c][c]) < 0.0001):\n",
    "            pivot, idx_biggest_line, idx_biggest_col = find_biggest_pivot_value_id(U, c)     \n",
    "            if (idx_biggest_line != c and idx_biggest_col > c-1):\n",
    "                U = swap_lines(U, idx_biggest_line, c) \n",
    "            if (idx_biggest_col != c and idx_biggest_col > c-1):\n",
    "                U, perm = swap_columns(U, perm, idx_biggest_col, c)       \n",
    "        \n",
    "        for l in range(c+1, lines_size): # lines\n",
    "            \n",
    "            alfa = - U[l][c] / U[c][c]             \n",
    "            L[l][c] = - alfa         \n",
    "            U[l] += alfa*U[c]\n",
    "            U[l][c] = 0\n",
    "            b_[l][0] += alfa*b_[c][0]\n",
    "        \n",
    "    return L, U, b_, perm\n",
    "L, U, b_, perm = LU_with_total_pivot(matrix, b)\n",
    "\n",
    "print(L)\n",
    "print(U)\n",
    "print(b_)\n",
    "print(perm)"
   ]
  },
  {
   "cell_type": "markdown",
   "id": "74ec0beb",
   "metadata": {},
   "source": [
    "## Ly = b"
   ]
  },
  {
   "cell_type": "code",
   "execution_count": 14,
   "id": "fcb331af",
   "metadata": {},
   "outputs": [
    {
     "data": {
      "text/plain": [
       "array([16.        , 32.4       , 25.09618875])"
      ]
     },
     "execution_count": 14,
     "metadata": {},
     "output_type": "execute_result"
    }
   ],
   "source": [
    "n = b_.size\n",
    "y = np.zeros(n)\n",
    "\n",
    "for k in range(n):\n",
    "    s = 0\n",
    "    for j in range (k+1, n):\n",
    "        s += L[k][j]*y[j]\n",
    "    y[k] = (b_[k] - s) / L[k][k]\n",
    "y"
   ]
  },
  {
   "cell_type": "markdown",
   "id": "6b6dc327",
   "metadata": {},
   "source": [
    "## Ux = y"
   ]
  },
  {
   "cell_type": "code",
   "execution_count": 15,
   "id": "101c6334",
   "metadata": {},
   "outputs": [
    {
     "data": {
      "text/plain": [
       "array([0., 1., 1.])"
      ]
     },
     "execution_count": 15,
     "metadata": {},
     "output_type": "execute_result"
    }
   ],
   "source": [
    "last_index = n-1\n",
    "x = np.zeros(n)\n",
    "x[last_index] = y[last_index]/U[last_index][last_index]\n",
    "for k in range(last_index-1, 0, -1 ):\n",
    "    s = 0\n",
    "    for j in range(k+1, n):\n",
    "        s += U[k][j]*x[j]\n",
    "    x[k] = (y[k] - s) / U[k][k]\n",
    "x"
   ]
  },
  {
   "cell_type": "markdown",
   "id": "18f97d80",
   "metadata": {},
   "source": [
    "# Cholesky Decomposition\n",
    "is a decomposition of a Hermitian, positive-definite matrix into the product of a lower triangular matrix and its conjugate transpose which is usefull for efficient numerical solutions. It is roughly twice as eficiency as the LU decomposition for solving systems of linear equations."
   ]
  },
  {
   "cell_type": "code",
   "execution_count": 18,
   "id": "3f7fffce",
   "metadata": {},
   "outputs": [
    {
     "data": {
      "text/plain": [
       "array([[4.47213595, 0.        , 0.        ],\n",
       "       [1.56524758, 5.24880939, 0.        ],\n",
       "       [2.01246118, 0.92401908, 5.00960964]])"
      ]
     },
     "execution_count": 18,
     "metadata": {},
     "output_type": "execute_result"
    }
   ],
   "source": [
    "# Check if the Matrix is positive-definite, if it is return it.\n",
    "# Retuns None if the matrix is not positive-definite \n",
    "def choleskyDecomposition(M):    \n",
    "    n, m = len(matrix), len(matrix[0])    \n",
    "    if (n != m):\n",
    "        return None\n",
    "    S = np.zeros((n,m))\n",
    "    for j in range(m):\n",
    "        s = 0        \n",
    "        for k in range(j):\n",
    "            s += S[j][k]**2\n",
    "        if (s >= M[j][j]):\n",
    "            return \"A Matriz não é positiva definida.\"\n",
    "        S[j][j] = np.sqrt(M[j][j] - s)\n",
    "        for i in range(j+1, n):\n",
    "            s = 0\n",
    "            for k in range(j):\n",
    "                s += S[i][k] * S[j][k]\n",
    "            S[i][j] = (M[i][j] - s) / S[j][j]\n",
    "            \n",
    "    return np.array(S)\n",
    "S = choleskyDecomposition(matrix)\n",
    "S"
   ]
  },
  {
   "cell_type": "code",
   "execution_count": 19,
   "id": "a43c5218",
   "metadata": {},
   "outputs": [
    {
     "data": {
      "text/plain": [
       "array([[20.,  7.,  9.],\n",
       "       [ 7., 30.,  8.],\n",
       "       [ 9.,  8., 30.]])"
      ]
     },
     "execution_count": 19,
     "metadata": {},
     "output_type": "execute_result"
    }
   ],
   "source": [
    "S @ S.T"
   ]
  },
  {
   "cell_type": "markdown",
   "id": "c18f0fa3",
   "metadata": {},
   "source": [
    "# Reduced Row Echelon Form\n",
    "A matrix is in if it satisfies the following conditions:\n",
    "- It is in Row Echelon Form\n",
    "- The leading entry in each nonzero row is a 1 (called a leading 1).\n",
    "- Each column containing a leading 1 has zeros in all its other entries."
   ]
  },
  {
   "cell_type": "code",
   "execution_count": 20,
   "id": "0ab60dd4",
   "metadata": {},
   "outputs": [],
   "source": [
    "M = np.array([\n",
    "  np.array([1, 2, 2, 2], dtype=float),\n",
    "  np.array([2, 4, 6, 8], dtype=float),\n",
    "  np.array([3, 6, 8, 10], dtype=float),\n",
    "])"
   ]
  },
  {
   "cell_type": "code",
   "execution_count": 29,
   "id": "0c608662",
   "metadata": {},
   "outputs": [
    {
     "data": {
      "text/plain": [
       "array([[1., 2., 2., 2.],\n",
       "       [0., 0., 1., 2.],\n",
       "       [0., 0., 0., 0.]])"
      ]
     },
     "execution_count": 29,
     "metadata": {},
     "output_type": "execute_result"
    }
   ],
   "source": [
    "# Reduced Row Echelon Form\n",
    "def ReducedRowEchelonForm(Matrix):\n",
    "    M = Matrix.copy()\n",
    "    n, m = M.shape\n",
    "    if n == 0 or m == 0:\n",
    "        return M\n",
    "    # Determine the leftmost non-zero column.\n",
    "    for i in range(len(M)):\n",
    "        if M[i,0] != 0:\n",
    "            break\n",
    "    else:\n",
    "        B = RowEchelonForm(M[:, 1:])\n",
    "        return np.hstack([M[:,:1], B])\n",
    "    # switch rows if non-zero element is not in first row\n",
    "    if (i > 0):\n",
    "        M = swap_lines(M, i, 0)\n",
    "    # Use elementary row operations to put a 1 in the topmost position\n",
    "    M[0] = M[0] / M[0,0]\n",
    "    # Use elementary row operations to put zeros (strictly) below the pivot position.\n",
    "    M[1:] -= M[0] * M[1:, 0:1]\n",
    "    # Apply steps to submatrix\n",
    "    B = RowEchelonForm(M[1:, 1:])\n",
    "    # Add first row and first (zero) column and return\n",
    "    return np.vstack([M[:1], np.hstack([M[1:,:1], B])])\n",
    "ReducedRowEchelonForm(M)"
   ]
  },
  {
   "cell_type": "code",
   "execution_count": 30,
   "id": "7647279f",
   "metadata": {},
   "outputs": [
    {
     "data": {
      "text/plain": [
       "1"
      ]
     },
     "execution_count": 30,
     "metadata": {},
     "output_type": "execute_result"
    }
   ],
   "source": [
    "# 2- Receives a matrix in RREF and return its rank\n",
    "def getRank(M_RREF):\n",
    "    rank = 0\n",
    "    M_lenght = M_RREF.shape[1]\n",
    "    for idx, line in enumerate(M_RREF):\n",
    "        if (idx < M_lenght):\n",
    "            if(line[idx] > 0):\n",
    "                rank += 1\n",
    "    return rank\n",
    "getRank(M_RREF)"
   ]
  },
  {
   "cell_type": "code",
   "execution_count": 31,
   "id": "7d140ef5",
   "metadata": {},
   "outputs": [
    {
     "data": {
      "text/plain": [
       "3"
      ]
     },
     "execution_count": 31,
     "metadata": {},
     "output_type": "execute_result"
    }
   ],
   "source": [
    "# 3 Receives a matrix in RREF and return the dimension of the null space\n",
    "def getNullSpaceDim(M_RREF):\n",
    "    n = M_lenght = M_RREF.shape[1]\n",
    "    rank = getRank(M_RREF)\n",
    "    return n - rank\n",
    "getNullSpaceDim(M_RREF)"
   ]
  },
  {
   "cell_type": "markdown",
   "id": "7c99c849",
   "metadata": {},
   "source": [
    "# Gran Schmidt\n",
    "The gran schmidt process"
   ]
  }
 ],
 "metadata": {
  "kernelspec": {
   "display_name": "Python 3 (ipykernel)",
   "language": "python",
   "name": "python3"
  },
  "language_info": {
   "codemirror_mode": {
    "name": "ipython",
    "version": 3
   },
   "file_extension": ".py",
   "mimetype": "text/x-python",
   "name": "python",
   "nbconvert_exporter": "python",
   "pygments_lexer": "ipython3",
   "version": "3.9.5"
  }
 },
 "nbformat": 4,
 "nbformat_minor": 5
}
