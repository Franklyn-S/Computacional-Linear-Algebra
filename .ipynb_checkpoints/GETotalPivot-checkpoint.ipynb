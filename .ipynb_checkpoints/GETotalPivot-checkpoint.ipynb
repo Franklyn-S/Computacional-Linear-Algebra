{
 "cells": [
  {
   "cell_type": "code",
   "execution_count": 189,
   "id": "ff42f829",
   "metadata": {},
   "outputs": [],
   "source": [
    "import numpy as np"
   ]
  },
  {
   "cell_type": "code",
   "execution_count": 190,
   "id": "10adecb0",
   "metadata": {},
   "outputs": [],
   "source": [
    "matrix = np.array([\n",
    "  np.array([20, 7, 9], dtype=float),\n",
    "  np.array([7, 30, 8], dtype=float),\n",
    "  np.array([9, 8, 30], dtype=float),\n",
    "])"
   ]
  },
  {
   "cell_type": "code",
   "execution_count": 191,
   "id": "e932d167",
   "metadata": {},
   "outputs": [],
   "source": [
    "matrix2 = np.array([\n",
    "  np.array([5, 8, 9], dtype=float),\n",
    "  np.array([4, 3, 2], dtype=float),\n",
    "  np.array([6, 7, 5], dtype=float),\n",
    "])"
   ]
  },
  {
   "cell_type": "code",
   "execution_count": 273,
   "id": "e0def7fe",
   "metadata": {},
   "outputs": [],
   "source": [
    "matrix3 = np.array([ \n",
    "  np.array([1, 3, 2], dtype=float),\n",
    "  np.array([2, 7, 7], dtype=float),\n",
    "  np.array([2, 5, 2], dtype=float),\n",
    "])"
   ]
  },
  {
   "cell_type": "code",
   "execution_count": 193,
   "id": "5749dafd",
   "metadata": {},
   "outputs": [],
   "source": [
    "b = np.array([\n",
    "  np.array([16], dtype=float),\n",
    "  np.array([38], dtype=float),\n",
    "  np.array([38], dtype=float),\n",
    "])"
   ]
  },
  {
   "cell_type": "code",
   "execution_count": 275,
   "id": "ed8adce1",
   "metadata": {},
   "outputs": [],
   "source": [
    "b3 = np.array([\n",
    "  np.array([2], dtype=float),\n",
    "  np.array([-1], dtype=float),\n",
    "  np.array([7], dtype=float),\n",
    "])"
   ]
  },
  {
   "cell_type": "code",
   "execution_count": 270,
   "id": "bf10a308",
   "metadata": {},
   "outputs": [
    {
     "data": {
      "text/plain": [
       "(30.0, 2, 2)"
      ]
     },
     "execution_count": 270,
     "metadata": {},
     "output_type": "execute_result"
    }
   ],
   "source": [
    "# Find the absolute maximum from M(p:n, p:n) to use it as a pivot\n",
    "# Parameters:\n",
    "#    M - Matrix\n",
    "# Return\n",
    "#   - The row and column index of the biggest value in the matrix\n",
    "def find_biggest_pivot_value_id(M, p):\n",
    "    pivot = 0\n",
    "    row_idx = 0\n",
    "    col_idx = 0\n",
    "    n = M[0].size\n",
    "    M_ = abs(M[p:n].T[p:n].T)\n",
    "    if np.max(M_) > abs(np.min(M_)):\n",
    "        pivot = np.max(M_)\n",
    "        row_idx = np.amax(M_, axis=1).argmax()\n",
    "        col_idx = np.amax(M_, axis=0).argmax()\n",
    "    else:\n",
    "        pivot = abs(np.min(M_))\n",
    "        row_idx = np.amin(M_, axis=1).argmin()\n",
    "        col_idx = np.amin(M_, axis=0).argmin()\n",
    "                \n",
    "    return pivot, row_idx + p, col_idx + p\n",
    "find_biggest_pivot_value_id(matrix, 2)"
   ]
  },
  {
   "cell_type": "code",
   "execution_count": 14,
   "id": "2ea846e3",
   "metadata": {},
   "outputs": [],
   "source": [
    "# Swap Lines in matrix\n",
    "def swap_lines(M, line1, line2):\n",
    "    M_copy = M.copy()\n",
    "    M_copy[[line1, line2]] = M_copy[[line2, line1]]\n",
    "    return M_copy"
   ]
  },
  {
   "cell_type": "code",
   "execution_count": 15,
   "id": "c4ddd97a",
   "metadata": {},
   "outputs": [],
   "source": [
    "# Swap columns in a matrix and result\n",
    "def swap_columns(M, b, col1, col2):\n",
    "    M_copy = M.copy()\n",
    "    b_ = b.copy()    \n",
    "    M_copy[:, [col1, col2]] = M_copy[:, [col2, col1]]\n",
    "    b_[[col1, col2]] = b_[[col2, col1]]\n",
    "    return M_copy, b_\n",
    "# swap_columns(matrix, b, 0, 1)"
   ]
  },
  {
   "cell_type": "code",
   "execution_count": 276,
   "id": "ab349306",
   "metadata": {},
   "outputs": [
    {
     "name": "stdout",
     "output_type": "stream",
     "text": [
      "[[1. 3. 2.]\n",
      " [0. 1. 3.]\n",
      " [0. 0. 1.]]\n",
      "[[ 2.]\n",
      " [-5.]\n",
      " [-2.]]\n",
      "[0 1 2]\n"
     ]
    }
   ],
   "source": [
    "def elimination_with_total_pivot(Matrix, b):\n",
    "    M = Matrix.copy()\n",
    "    b_ = b.copy()\n",
    "    lines_size = len(M)\n",
    "    col_size = M[0].size\n",
    "    \n",
    "    # build the permutation vector\n",
    "    perm = np.arange(col_size);\n",
    "    \n",
    "    for c in range(col_size-1): # columns\n",
    "        # we find the absolute maximum from A(c:n, c:n) to use it as a pivot\n",
    "        \n",
    "        if (abs(M[c][c]) < 0.0001):\n",
    "            pivot, idx_biggest_line, idx_biggest_col = find_biggest_pivot_value_id(M, c)     \n",
    "            if (idx_biggest_line != c and idx_biggest_col > c-1):\n",
    "                M = swap_lines(M, idx_biggest_line, c) \n",
    "            if (idx_biggest_col != c and idx_biggest_col > c-1):\n",
    "                M, perm = swap_columns(M, perm, idx_biggest_col, c)       \n",
    "        \n",
    "        for l in range(c+1, lines_size): # lines\n",
    "            \n",
    "            alfa = - M[l][c] / M[c][c] \n",
    "            \n",
    "            M[l] += alfa*M[c]\n",
    "            b_[l][0] += alfa*b_[c][0]\n",
    "        \n",
    "    return M, b_, perm\n",
    "M, b_, perm = elimination_with_total_pivot(matrix3, b3)\n",
    "\n",
    "print(M)\n",
    "print(b_)\n",
    "print(perm)"
   ]
  },
  {
   "cell_type": "code",
   "execution_count": 277,
   "id": "58149671",
   "metadata": {},
   "outputs": [
    {
     "data": {
      "text/plain": [
       "array([[ 3.],\n",
       "       [ 1.],\n",
       "       [-2.]])"
      ]
     },
     "execution_count": 277,
     "metadata": {},
     "output_type": "execute_result"
    }
   ],
   "source": [
    "def back_substitution(M, b, perm):\n",
    "    M_ = M.copy()\n",
    "    b_ = b.copy()\n",
    "    b_size = b.size\n",
    "    lines_size = len(M)\n",
    "    col_size = M[0].size\n",
    "    x = np.zeros((b_size, 1))\n",
    "    \n",
    "    x[b_size-1][0] =  b[b_size-1][0] / M[lines_size-1][lines_size-1]\n",
    "    for i in range(lines_size-2, -1, -1):\n",
    "        values_sum = 0\n",
    "        for j in range(i+1, lines_size):\n",
    "            values_sum += M[i][j] * x[j][0]\n",
    "        x[i][0] = (b[i][0] - values_sum) / M[i][i]    \n",
    "    return x[perm]\n",
    "back_substitution(M, b_, perm)"
   ]
  },
  {
   "cell_type": "code",
   "execution_count": null,
   "id": "60a6c2e1",
   "metadata": {},
   "outputs": [],
   "source": []
  }
 ],
 "metadata": {
  "kernelspec": {
   "display_name": "Python 3",
   "language": "python",
   "name": "python3"
  },
  "language_info": {
   "codemirror_mode": {
    "name": "ipython",
    "version": 3
   },
   "file_extension": ".py",
   "mimetype": "text/x-python",
   "name": "python",
   "nbconvert_exporter": "python",
   "pygments_lexer": "ipython3",
   "version": "3.9.2"
  }
 },
 "nbformat": 4,
 "nbformat_minor": 5
}
