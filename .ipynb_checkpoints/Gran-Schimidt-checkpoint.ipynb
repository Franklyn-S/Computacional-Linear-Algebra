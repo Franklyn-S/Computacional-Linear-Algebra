{
 "cells": [
  {
   "cell_type": "code",
   "execution_count": 1,
   "id": "9c2d39dd",
   "metadata": {},
   "outputs": [],
   "source": [
    "import numpy as np"
   ]
  },
  {
   "cell_type": "markdown",
   "id": "945a55f9",
   "metadata": {},
   "source": [
    "## Test Matrices"
   ]
  },
  {
   "cell_type": "code",
   "execution_count": 2,
   "id": "94802687",
   "metadata": {},
   "outputs": [
    {
     "data": {
      "text/plain": [
       "array([[1., 1., 1.],\n",
       "       [1., 0., 2.]])"
      ]
     },
     "execution_count": 2,
     "metadata": {},
     "output_type": "execute_result"
    }
   ],
   "source": [
    "A = np.array([\n",
    "  np.array([1, 1, 1], dtype=float),\n",
    "  np.array([1, 0, 2], dtype=float),\n",
    "])\n",
    "A"
   ]
  },
  {
   "cell_type": "code",
   "execution_count": 3,
   "id": "5e996da2",
   "metadata": {},
   "outputs": [
    {
     "data": {
      "text/plain": [
       "array([[1., 1.],\n",
       "       [1., 0.],\n",
       "       [1., 2.]])"
      ]
     },
     "execution_count": 3,
     "metadata": {},
     "output_type": "execute_result"
    }
   ],
   "source": [
    "A.T"
   ]
  },
  {
   "cell_type": "code",
   "execution_count": 4,
   "id": "818cff91",
   "metadata": {},
   "outputs": [
    {
     "data": {
      "text/plain": [
       "array([[2, 7, 5],\n",
       "       [3, 2, 2],\n",
       "       [3, 4, 5]])"
      ]
     },
     "execution_count": 4,
     "metadata": {},
     "output_type": "execute_result"
    }
   ],
   "source": [
    "A2 = np.random.randint(0, 10, 9).reshape((3, 3))\n",
    "A2"
   ]
  },
  {
   "cell_type": "markdown",
   "id": "4bc2eae9",
   "metadata": {},
   "source": [
    "# There is two implementations:"
   ]
  },
  {
   "cell_type": "markdown",
   "id": "7f714537",
   "metadata": {},
   "source": [
    "## First"
   ]
  },
  {
   "cell_type": "code",
   "execution_count": 32,
   "id": "c216e3d8",
   "metadata": {},
   "outputs": [],
   "source": [
    "def orthogonalize(A, n):\n",
    "    b = A[:, n][:, np.newaxis]\n",
    "    if n == 0:\n",
    "        v = A[n]\n",
    "        return np.array(b / np.linalg.norm(b))\n",
    "    else:\n",
    "        # get subspace with antecessors vectors to project b\n",
    "        X = A[:, range(0, n)]\n",
    "        # create NxN identity matrix\n",
    "        I = np.eye(X.shape[0])\n",
    "        M = I - X @ np.linalg.inv(X.T @ X) @ X.T\n",
    "        e = M.dot(b)\n",
    "        return e /np.linalg.norm(e)        "
   ]
  },
  {
   "cell_type": "code",
   "execution_count": 33,
   "id": "8f96aab0",
   "metadata": {},
   "outputs": [
    {
     "data": {
      "text/plain": [
       "array([[ 0.42640143,  0.86331183, -0.26995276],\n",
       "       [ 0.63960215, -0.49880239, -0.58489765],\n",
       "       [ 0.63960215, -0.07673883,  0.76486616]])"
      ]
     },
     "execution_count": 33,
     "metadata": {},
     "output_type": "execute_result"
    }
   ],
   "source": [
    "def q(A):\n",
    "    length = np.min(A.shape)\n",
    "    return np.concatenate([orthogonalize(A, i) for i in range(length)], axis=1)\n",
    "Q2 = q(A2)\n",
    "Q2"
   ]
  },
  {
   "cell_type": "code",
   "execution_count": 34,
   "id": "13f243f2",
   "metadata": {},
   "outputs": [
    {
     "data": {
      "text/plain": [
       "array([[4.69041576e+00, 6.82242292e+00, 6.60922221e+00],\n",
       "       [3.19189120e-16, 4.73862274e+00, 2.93526024e+00],\n",
       "       [9.99200722e-15, 8.43769499e-15, 1.30477168e+00]])"
      ]
     },
     "execution_count": 34,
     "metadata": {},
     "output_type": "execute_result"
    }
   ],
   "source": [
    "R2 = Q2.T @ A2\n",
    "R2"
   ]
  },
  {
   "cell_type": "code",
   "execution_count": 35,
   "id": "2aa5999c",
   "metadata": {},
   "outputs": [
    {
     "data": {
      "text/plain": [
       "array([[2., 7., 5.],\n",
       "       [3., 2., 2.],\n",
       "       [3., 4., 5.]])"
      ]
     },
     "execution_count": 35,
     "metadata": {},
     "output_type": "execute_result"
    }
   ],
   "source": [
    "# A = QR\n",
    "Q2 @ R2"
   ]
  },
  {
   "cell_type": "markdown",
   "id": "845cf891",
   "metadata": {},
   "source": [
    "## Second"
   ]
  },
  {
   "cell_type": "code",
   "execution_count": 36,
   "id": "aa9d0bab",
   "metadata": {},
   "outputs": [
    {
     "data": {
      "text/plain": [
       "array([[ 0.57735027,  0.        ],\n",
       "       [ 0.57735027, -0.70710678],\n",
       "       [ 0.57735027,  0.70710678]])"
      ]
     },
     "execution_count": 36,
     "metadata": {},
     "output_type": "execute_result"
    }
   ],
   "source": [
    "def grandSchimidt(A):\n",
    "    Q = []\n",
    "    a0 = A[:, 0]    \n",
    "    Q.append(np.array(a0 / np.linalg.norm(a0)))\n",
    "    n = np.min(A.shape)\n",
    "    for b in range(1, n):\n",
    "        new_col = old_col = np.array(A[:, b]).astype('float64')\n",
    "        for a in range(b): \n",
    "            v = A[:, a]\n",
    "            # A.T@b / A.T@A\n",
    "            ratio = ((v.T@old_col)/(v.T@v))\n",
    "            new_col -= ratio * v\n",
    "        Q.append(np.array(new_col / np.linalg.norm(new_col)))\n",
    "        \n",
    "    return np.array(Q).T\n",
    "\n",
    "Q = grandSchimidt(A.T)\n",
    "Q"
   ]
  },
  {
   "cell_type": "code",
   "execution_count": 37,
   "id": "6a8733fb",
   "metadata": {},
   "outputs": [],
   "source": [
    "R = Q.T.dot(A.T)"
   ]
  },
  {
   "cell_type": "code",
   "execution_count": 38,
   "id": "38522a44",
   "metadata": {},
   "outputs": [
    {
     "data": {
      "text/plain": [
       "array([[1.00000000e+00, 1.00000000e+00],\n",
       "       [1.00000000e+00, 3.99346924e-16],\n",
       "       [1.00000000e+00, 2.00000000e+00]])"
      ]
     },
     "execution_count": 38,
     "metadata": {},
     "output_type": "execute_result"
    }
   ],
   "source": [
    "# A = QR\n",
    "Q @ R"
   ]
  },
  {
   "cell_type": "code",
   "execution_count": 39,
   "id": "7a5df724",
   "metadata": {},
   "outputs": [
    {
     "data": {
      "text/plain": [
       "array([[1., 1.],\n",
       "       [1., 0.],\n",
       "       [1., 2.]])"
      ]
     },
     "execution_count": 39,
     "metadata": {},
     "output_type": "execute_result"
    }
   ],
   "source": [
    "A.T"
   ]
  },
  {
   "cell_type": "code",
   "execution_count": null,
   "id": "67eb4f43",
   "metadata": {},
   "outputs": [],
   "source": []
  }
 ],
 "metadata": {
  "kernelspec": {
   "display_name": "Python 3",
   "language": "python",
   "name": "python3"
  },
  "language_info": {
   "codemirror_mode": {
    "name": "ipython",
    "version": 3
   },
   "file_extension": ".py",
   "mimetype": "text/x-python",
   "name": "python",
   "nbconvert_exporter": "python",
   "pygments_lexer": "ipython3",
   "version": "3.9.2"
  }
 },
 "nbformat": 4,
 "nbformat_minor": 5
}
