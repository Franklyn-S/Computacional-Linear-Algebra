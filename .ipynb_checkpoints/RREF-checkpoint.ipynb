{
 "cells": [
  {
   "cell_type": "code",
   "execution_count": 1,
   "id": "7a253cec",
   "metadata": {},
   "outputs": [],
   "source": [
    "import numpy as np\n",
    "from ipynb.fs.full.utils import *"
   ]
  },
  {
   "cell_type": "code",
   "execution_count": 2,
   "id": "3ba52a50",
   "metadata": {},
   "outputs": [],
   "source": [
    "echelon_M = np.array([\n",
    "  np.array([1, 2, 2, 2], dtype=float),\n",
    "  np.array([2, 4, 6, 8], dtype=float),\n",
    "  np.array([3, 6, 8, 10], dtype=float),\n",
    "])"
   ]
  },
  {
   "cell_type": "code",
   "execution_count": 3,
   "id": "9ea75d4d",
   "metadata": {},
   "outputs": [
    {
     "data": {
      "text/plain": [
       "array([[ 1.,  2.,  2.,  2.],\n",
       "       [ 2.,  4.,  6.,  8.],\n",
       "       [ 3.,  6.,  8., 10.]])"
      ]
     },
     "execution_count": 3,
     "metadata": {},
     "output_type": "execute_result"
    }
   ],
   "source": [
    "M = echelon_M\n",
    "M"
   ]
  },
  {
   "cell_type": "code",
   "execution_count": 4,
   "id": "b134f26d",
   "metadata": {},
   "outputs": [],
   "source": [
    "# Row Reduced Echelon Form\n",
    "def RowEchelonForm(Matrix):\n",
    "    M = Matrix.copy()\n",
    "    n, m = M.shape\n",
    "    if n == 0 or m == 0:\n",
    "        return M\n",
    "    # Determine the leftmost non-zero column.\n",
    "    for i in range(len(M)):\n",
    "        if M[i,0] != 0:\n",
    "            break\n",
    "    else:\n",
    "        B = RowEchelonForm(M[:, 1:])\n",
    "        return np.hstack([M[:,:1], B])\n",
    "    # switch rows if non-zero element is not in first row\n",
    "    if (i > 0):\n",
    "        M = swap_lines(M, i, 0)\n",
    "    # Use elementary row operations to put a 1 in the topmost position\n",
    "    M[0] = M[0] / M[0,0]\n",
    "    # Use elementary row operations to put zeros (strictly) below the pivot position.\n",
    "    M[1:] -= M[0] * M[1:, 0:1]\n",
    "    # Apply steps to submatrix\n",
    "    B = RowEchelonForm(M[1:, 1:])\n",
    "    # Add first row and first (zero) column and return\n",
    "    return np.vstack([M[:1], np.hstack([M[1:,:1], B])])\n",
    "# RowEchelonForm(echelon_M)"
   ]
  },
  {
   "cell_type": "code",
   "execution_count": 5,
   "id": "1dd87b7f",
   "metadata": {},
   "outputs": [],
   "source": [
    "# Row Reduced Echelon Form\n",
    "def RowEchelonForm2(Matrix):\n",
    "    M = Matrix.copy()\n",
    "    n, m = M.shape\n",
    "    isZero = np.all(M == np.zeros(M.shape))\n",
    "    perm = np.arange(m);\n",
    "    if isZero:\n",
    "        return M\n",
    "    \n",
    "    for c in range(m-1): # columns\n",
    "        if (M[c][c] == 0):\n",
    "            continue\n",
    "        \n",
    "        for l in range(c+1, n): #lines\n",
    "             if (abs(M[l][c]) < 0.001):            \n",
    "                idx_biggest_line = find_biggest_value_id_by_column(M, c)\n",
    "                if (idx_biggest_line != c):\n",
    "                    M = swap_lines(M, idx_biggest_line, l)\n",
    "             M[l-1] = M[l-1]/M[c][c]\n",
    "             alfa = - M[l][c] / M[c][c]             \n",
    "             M[l] += alfa*M[c]\n",
    "        if (c+1 == n):\n",
    "            M[l-1] = M[l-1]/M[c][c]\n",
    "            alfa = - M[l][c] / M[c][c]        \n",
    "            M[l] += alfa*M[c]\n",
    "    # M now is in Row-Echelon form, let's reduce it\n",
    "#     for c in range(n-1, -1, -1):\n",
    "#         print(M[c])\n",
    "        \n",
    "    return M\n",
    "    \n",
    "# M = RowEchelonForm2(echelon_M)\n",
    "# M"
   ]
  },
  {
   "cell_type": "code",
   "execution_count": 6,
   "id": "bc16d80e",
   "metadata": {},
   "outputs": [],
   "source": [
    "def reduce(M_echelon):\n",
    "    A = M_echelon.copy()\n",
    "    n, m = M_echelon.shape\n",
    "    # Determine all the leading ones\n",
    "    pivot_positions = []\n",
    "    for c in range(m-1):\n",
    "        if A[c][c] == 1:\n",
    "            pivot_positions.append([c,c])\n",
    "        else:\n",
    "            for c_ in range(c+1, m-1):\n",
    "                if A[c][c_] == 1:\n",
    "                    pivot_positions.append([c, c_])\n",
    "                    break\n",
    "            continue\n",
    "    for pivot_p in list(reversed(pivot_positions)):\n",
    "        r, c = pivot_p\n",
    "        for l in range(r-1, -1, -1):\n",
    "            alfa = - A[l][c] / A[r][c]\n",
    "            A[l] += alfa*A[r]\n",
    "    return A\n",
    "# reduce(M)"
   ]
  },
  {
   "cell_type": "code",
   "execution_count": 7,
   "id": "f6014546",
   "metadata": {},
   "outputs": [
    {
     "data": {
      "text/plain": [
       "array([[1., 0., 1.],\n",
       "       [0., 1., 1.],\n",
       "       [0., 0., 0.],\n",
       "       [0., 0., 0.]])"
      ]
     },
     "execution_count": 7,
     "metadata": {},
     "output_type": "execute_result"
    }
   ],
   "source": [
    "# Row Reduced Echelon Form\n",
    "def RREF(Matrix):\n",
    "    M = RowEchelonForm(Matrix)\n",
    "    return reduce(M)\n",
    "RREF(echelon_M.T)"
   ]
  },
  {
   "cell_type": "code",
   "execution_count": null,
   "id": "da874429",
   "metadata": {},
   "outputs": [],
   "source": []
  }
 ],
 "metadata": {
  "kernelspec": {
   "display_name": "Python 3",
   "language": "python",
   "name": "python3"
  },
  "language_info": {
   "codemirror_mode": {
    "name": "ipython",
    "version": 3
   },
   "file_extension": ".py",
   "mimetype": "text/x-python",
   "name": "python",
   "nbconvert_exporter": "python",
   "pygments_lexer": "ipython3",
   "version": "3.9.2"
  }
 },
 "nbformat": 4,
 "nbformat_minor": 5
}
