{
 "cells": [
  {
   "cell_type": "code",
   "execution_count": 4,
   "id": "98a71d6f",
   "metadata": {},
   "outputs": [
    {
     "name": "stdout",
     "output_type": "stream",
     "text": [
      "Requirement already satisfied: ipynb in d:\\users\\osf\\appdata\\local\\programs\\python\\python39\\lib\\site-packages (0.5.1)\n"
     ]
    },
    {
     "name": "stderr",
     "output_type": "stream",
     "text": [
      "WARNING: You are using pip version 21.2.1; however, version 21.3.1 is available.\n",
      "You should consider upgrading via the 'd:\\users\\osf\\appdata\\local\\programs\\python\\python39\\python.exe -m pip install --upgrade pip' command.\n"
     ]
    }
   ],
   "source": [
    "!pip install ipynb"
   ]
  },
  {
   "cell_type": "code",
   "execution_count": 5,
   "id": "c533373e",
   "metadata": {},
   "outputs": [],
   "source": [
    "from ipynb.fs.full.utils import *"
   ]
  },
  {
   "cell_type": "code",
   "execution_count": 39,
   "id": "448be75d",
   "metadata": {},
   "outputs": [
    {
     "data": {
      "text/plain": [
       "array([[20.,  7.,  9.],\n",
       "       [ 7., 30.,  8.],\n",
       "       [ 9.,  8., 30.]])"
      ]
     },
     "execution_count": 39,
     "metadata": {},
     "output_type": "execute_result"
    }
   ],
   "source": [
    "matrix"
   ]
  },
  {
   "cell_type": "code",
   "execution_count": 22,
   "id": "6ce34a8a",
   "metadata": {},
   "outputs": [
    {
     "data": {
      "text/plain": [
       "8"
      ]
     },
     "execution_count": 22,
     "metadata": {},
     "output_type": "execute_result"
    }
   ],
   "source": [
    "2**3"
   ]
  },
  {
   "cell_type": "code",
   "execution_count": 33,
   "id": "56c20445",
   "metadata": {},
   "outputs": [],
   "source": [
    "# Check if the Matrix is positive-definite, if it is return it.\n",
    "# Retuns None if the matrix is not positive-definite \n",
    "def choleskyDecomposition(M):    \n",
    "    n, m = len(matrix), len(matrix[0])    \n",
    "    if (n != m):\n",
    "        return None\n",
    "    S = np.zeros((n,m))\n",
    "    for j in range(m):\n",
    "        s = 0        \n",
    "        for k in range(j):\n",
    "            s += S[j][k]**2\n",
    "        if (s >= M[j][j]):\n",
    "            return None\n",
    "        S[j][j] = np.sqrt(M[j][j] - s)\n",
    "        for i in range(j+1, n):\n",
    "            s = 0\n",
    "            for k in range(j):\n",
    "                s += S[i][k] * S[j][k]\n",
    "            S[i][j] = (M[i][j] - s) / S[j][j]\n",
    "            \n",
    "    return np.array(S)"
   ]
  },
  {
   "cell_type": "code",
   "execution_count": 34,
   "id": "fe002146",
   "metadata": {},
   "outputs": [],
   "source": [
    "S = choleskyDecomposition(matrix)"
   ]
  },
  {
   "cell_type": "code",
   "execution_count": 40,
   "id": "cd7f35d7",
   "metadata": {},
   "outputs": [
    {
     "data": {
      "text/plain": [
       "array([[4.47213595, 0.        , 0.        ],\n",
       "       [1.56524758, 5.24880939, 0.        ],\n",
       "       [2.01246118, 0.92401908, 5.00960964]])"
      ]
     },
     "execution_count": 40,
     "metadata": {},
     "output_type": "execute_result"
    }
   ],
   "source": [
    "S"
   ]
  },
  {
   "cell_type": "code",
   "execution_count": 38,
   "id": "1a0f2801",
   "metadata": {},
   "outputs": [
    {
     "data": {
      "text/plain": [
       "array([[20.,  7.,  9.],\n",
       "       [ 7., 30.,  8.],\n",
       "       [ 9.,  8., 30.]])"
      ]
     },
     "execution_count": 38,
     "metadata": {},
     "output_type": "execute_result"
    }
   ],
   "source": [
    "S @ S.T"
   ]
  },
  {
   "cell_type": "code",
   "execution_count": null,
   "id": "7c03c3cf",
   "metadata": {},
   "outputs": [],
   "source": []
  }
 ],
 "metadata": {
  "kernelspec": {
   "display_name": "Python 3",
   "language": "python",
   "name": "python3"
  },
  "language_info": {
   "codemirror_mode": {
    "name": "ipython",
    "version": 3
   },
   "file_extension": ".py",
   "mimetype": "text/x-python",
   "name": "python",
   "nbconvert_exporter": "python",
   "pygments_lexer": "ipython3",
   "version": "3.9.2"
  }
 },
 "nbformat": 4,
 "nbformat_minor": 5
}
