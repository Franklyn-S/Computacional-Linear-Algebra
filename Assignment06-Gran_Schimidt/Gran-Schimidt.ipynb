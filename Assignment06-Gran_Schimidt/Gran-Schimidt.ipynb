{
 "cells": [
  {
   "cell_type": "code",
   "execution_count": 1,
   "id": "9c2d39dd",
   "metadata": {},
   "outputs": [],
   "source": [
    "import numpy as np"
   ]
  },
  {
   "cell_type": "code",
   "execution_count": 2,
   "id": "2e82c3d8",
   "metadata": {},
   "outputs": [],
   "source": [
    "%run \"..\\Assignment05-RREF\\RREF.ipynb\""
   ]
  },
  {
   "cell_type": "markdown",
   "id": "9aa838fa",
   "metadata": {},
   "source": [
    "## Test Matrices"
   ]
  },
  {
   "cell_type": "code",
   "execution_count": 3,
   "id": "94802687",
   "metadata": {},
   "outputs": [
    {
     "data": {
      "text/plain": [
       "array([[1., 1., 1.],\n",
       "       [1., 0., 2.]])"
      ]
     },
     "execution_count": 3,
     "metadata": {},
     "output_type": "execute_result"
    }
   ],
   "source": [
    "A = np.array([\n",
    "  np.array([1, 1, 1], dtype=float),\n",
    "  np.array([1, 0, 2], dtype=float),\n",
    "])\n",
    "A"
   ]
  },
  {
   "cell_type": "code",
   "execution_count": 4,
   "id": "19c137b8",
   "metadata": {},
   "outputs": [
    {
     "data": {
      "text/plain": [
       "array([[1., 1.],\n",
       "       [1., 0.],\n",
       "       [1., 2.]])"
      ]
     },
     "execution_count": 4,
     "metadata": {},
     "output_type": "execute_result"
    }
   ],
   "source": [
    "A.T"
   ]
  },
  {
   "cell_type": "code",
   "execution_count": 5,
   "id": "10b142f0",
   "metadata": {},
   "outputs": [
    {
     "data": {
      "text/plain": [
       "array([[5, 0, 1],\n",
       "       [9, 7, 0],\n",
       "       [6, 4, 2]])"
      ]
     },
     "execution_count": 5,
     "metadata": {},
     "output_type": "execute_result"
    }
   ],
   "source": [
    "A2 = np.random.randint(0, 10, 9).reshape((3, 3))\n",
    "A2"
   ]
  },
  {
   "cell_type": "markdown",
   "id": "974561ba",
   "metadata": {},
   "source": [
    "# There are two implementations:"
   ]
  },
  {
   "cell_type": "markdown",
   "id": "bf723a77",
   "metadata": {},
   "source": [
    "## First"
   ]
  },
  {
   "cell_type": "code",
   "execution_count": 6,
   "id": "acb70c4a",
   "metadata": {},
   "outputs": [],
   "source": [
    "def orthogonalize(A, n):\n",
    "    b = A[:, n][:, np.newaxis]\n",
    "    if n == 0:\n",
    "        v = A[n]\n",
    "        return np.array(b / np.linalg.norm(b))\n",
    "    else:\n",
    "        # get subspace with antecessors vectors to project b\n",
    "        X = A[:, range(0, n)]\n",
    "        # create NxN identity matrix\n",
    "        I = np.eye(X.shape[0])\n",
    "        M = I - X @ np.linalg.inv(X.T @ X) @ X.T\n",
    "        e = M.dot(b)\n",
    "        return e /np.linalg.norm(e)        "
   ]
  },
  {
   "cell_type": "code",
   "execution_count": 7,
   "id": "bb48366a",
   "metadata": {},
   "outputs": [
    {
     "data": {
      "text/plain": [
       "array([[ 0.41959068, -0.89569524, -0.14721987],\n",
       "       [ 0.75526322,  0.43446367, -0.4907329 ],\n",
       "       [ 0.50350881,  0.0947172 ,  0.85878258]])"
      ]
     },
     "execution_count": 7,
     "metadata": {},
     "output_type": "execute_result"
    }
   ],
   "source": [
    "def q(A):\n",
    "    length = np.min(A.shape)\n",
    "    return np.concatenate([orthogonalize(A, i) for i in range(length)], axis=1)\n",
    "Q2 = q(A2)\n",
    "Q2"
   ]
  },
  {
   "cell_type": "code",
   "execution_count": 8,
   "id": "17bf62e9",
   "metadata": {},
   "outputs": [
    {
     "data": {
      "text/plain": [
       "array([[ 1.19163753e+01,  7.30087782e+00,  1.42660831e+00],\n",
       "       [-9.71445147e-16,  3.42011449e+00, -7.06260848e-01],\n",
       "       [ 7.77156117e-15,  4.44089210e-15,  1.57034530e+00]])"
      ]
     },
     "execution_count": 8,
     "metadata": {},
     "output_type": "execute_result"
    }
   ],
   "source": [
    "R2 = Q2.T @ A2\n",
    "R2"
   ]
  },
  {
   "cell_type": "code",
   "execution_count": 9,
   "id": "1f82f098",
   "metadata": {},
   "outputs": [
    {
     "data": {
      "text/plain": [
       "array([[5.00000000e+00, 5.00520640e-16, 1.00000000e+00],\n",
       "       [9.00000000e+00, 7.00000000e+00, 5.39854102e-16],\n",
       "       [6.00000000e+00, 4.00000000e+00, 2.00000000e+00]])"
      ]
     },
     "execution_count": 9,
     "metadata": {},
     "output_type": "execute_result"
    }
   ],
   "source": [
    "# A = QR\n",
    "Q2 @ R2"
   ]
  },
  {
   "cell_type": "markdown",
   "id": "63ff1189",
   "metadata": {},
   "source": [
    "## Second"
   ]
  },
  {
   "cell_type": "code",
   "execution_count": 10,
   "id": "aa9d0bab",
   "metadata": {},
   "outputs": [
    {
     "data": {
      "text/plain": [
       "array([[ 0.57735027,  0.        ],\n",
       "       [ 0.57735027, -0.70710678],\n",
       "       [ 0.57735027,  0.70710678]])"
      ]
     },
     "execution_count": 10,
     "metadata": {},
     "output_type": "execute_result"
    }
   ],
   "source": [
    "def grandSchimidt(A):\n",
    "    Q = []\n",
    "    a0 = A[:, 0]    \n",
    "    Q.append(np.array(a0 / np.linalg.norm(a0)))\n",
    "    n = np.min(A.shape)\n",
    "    for b in range(1, n):\n",
    "        new_col = old_col = np.array(A[:, b]).astype('float64')\n",
    "        for a in range(b): \n",
    "            v = A[:, a]\n",
    "            # A.T@b / A.T@A\n",
    "            ratio = ((v.T@old_col)/(v.T@v))\n",
    "            new_col -= ratio * v\n",
    "        Q.append(np.array(new_col / np.linalg.norm(new_col)))\n",
    "        \n",
    "    return np.array(Q).T\n",
    "\n",
    "Q = grandSchimidt(A.T)\n",
    "Q"
   ]
  },
  {
   "cell_type": "code",
   "execution_count": 11,
   "id": "6dd7e0f4",
   "metadata": {},
   "outputs": [],
   "source": [
    "R = Q.T.dot(A.T)"
   ]
  },
  {
   "cell_type": "code",
   "execution_count": 12,
   "id": "85cf2b49",
   "metadata": {},
   "outputs": [
    {
     "data": {
      "text/plain": [
       "array([[1.00000000e+00, 1.00000000e+00],\n",
       "       [1.00000000e+00, 3.99346924e-16],\n",
       "       [1.00000000e+00, 2.00000000e+00]])"
      ]
     },
     "execution_count": 12,
     "metadata": {},
     "output_type": "execute_result"
    }
   ],
   "source": [
    "# A = QR\n",
    "Q @ R"
   ]
  },
  {
   "cell_type": "code",
   "execution_count": 13,
   "id": "a1ceab8a",
   "metadata": {},
   "outputs": [
    {
     "data": {
      "text/plain": [
       "array([[1., 1.],\n",
       "       [1., 0.],\n",
       "       [1., 2.]])"
      ]
     },
     "execution_count": 13,
     "metadata": {},
     "output_type": "execute_result"
    }
   ],
   "source": [
    "A.T"
   ]
  },
  {
   "cell_type": "markdown",
   "id": "083eaccc",
   "metadata": {},
   "source": [
    "# Using RREF to get an base."
   ]
  },
  {
   "cell_type": "code",
   "execution_count": 14,
   "id": "06c61b88",
   "metadata": {},
   "outputs": [
    {
     "data": {
      "text/plain": [
       "array([[ 1.,  0.,  2.],\n",
       "       [ 0.,  1., -1.]])"
      ]
     },
     "execution_count": 14,
     "metadata": {},
     "output_type": "execute_result"
    }
   ],
   "source": [
    "base = RREF(A)\n",
    "base"
   ]
  },
  {
   "cell_type": "code",
   "execution_count": 15,
   "id": "ad9d0617",
   "metadata": {},
   "outputs": [
    {
     "data": {
      "text/plain": [
       "array([[1., 0.],\n",
       "       [0., 1.]])"
      ]
     },
     "execution_count": 15,
     "metadata": {},
     "output_type": "execute_result"
    }
   ],
   "source": [
    "grandSchimidt(base)"
   ]
  },
  {
   "cell_type": "code",
   "execution_count": null,
   "id": "ab99f89a",
   "metadata": {},
   "outputs": [],
   "source": []
  }
 ],
 "metadata": {
  "kernelspec": {
   "display_name": "Python 3 (ipykernel)",
   "language": "python",
   "name": "python3"
  },
  "language_info": {
   "codemirror_mode": {
    "name": "ipython",
    "version": 3
   },
   "file_extension": ".py",
   "mimetype": "text/x-python",
   "name": "python",
   "nbconvert_exporter": "python",
   "pygments_lexer": "ipython3",
   "version": "3.9.5"
  }
 },
 "nbformat": 4,
 "nbformat_minor": 5
}
