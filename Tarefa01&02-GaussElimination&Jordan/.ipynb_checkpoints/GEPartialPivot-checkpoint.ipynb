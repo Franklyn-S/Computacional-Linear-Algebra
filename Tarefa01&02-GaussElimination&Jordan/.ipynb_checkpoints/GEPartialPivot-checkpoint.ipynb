{
 "cells": [
  {
   "cell_type": "code",
   "execution_count": 1,
   "id": "100aafe3",
   "metadata": {},
   "outputs": [],
   "source": [
    "import numpy as np"
   ]
  },
  {
   "cell_type": "code",
   "execution_count": 2,
   "id": "47e65a0f",
   "metadata": {},
   "outputs": [],
   "source": [
    "%run ../utils.ipynb"
   ]
  },
  {
   "cell_type": "code",
   "execution_count": 3,
   "id": "20757973",
   "metadata": {},
   "outputs": [],
   "source": [
    "matrix = np.array([\n",
    "  np.array([20, 7, 9], dtype=float),\n",
    "  np.array([7, 30, 8], dtype=float),\n",
    "  np.array([9, 8, 30], dtype=float),\n",
    "])"
   ]
  },
  {
   "cell_type": "code",
   "execution_count": 4,
   "id": "f07f313c",
   "metadata": {},
   "outputs": [],
   "source": [
    "matrix2 = np.array([\n",
    "  np.array([5, 8, 9], dtype=float),\n",
    "  np.array([4, 3, 2], dtype=float),\n",
    "  np.array([6, 7, 5], dtype=float),\n",
    "])"
   ]
  },
  {
   "cell_type": "code",
   "execution_count": 5,
   "id": "9d43d1b2",
   "metadata": {},
   "outputs": [],
   "source": [
    "b = np.array([\n",
    "  np.array([16], dtype=float),\n",
    "  np.array([38], dtype=float),\n",
    "  np.array([38], dtype=float),\n",
    "])"
   ]
  },
  {
   "cell_type": "code",
   "execution_count": 6,
   "id": "eff0e5eb",
   "metadata": {},
   "outputs": [],
   "source": [
    "matrix3 = np.array([ \n",
    "  np.array([7, 30, 8], dtype=float),\n",
    "  np.array([20, 7, 9], dtype=float),\n",
    "  np.array([9, 8, 30], dtype=float),\n",
    "])"
   ]
  },
  {
   "cell_type": "code",
   "execution_count": 7,
   "id": "9d631125",
   "metadata": {},
   "outputs": [],
   "source": [
    "# Fint the biggest value (in module) in a specific column in a matrix\n",
    "# Parameters:\n",
    "#    M - Matrix\n",
    "#    col_idx - Column index to operate with\n",
    "# Return\n",
    "#   - The row index of the biggest value in that passed column\n",
    "def find_biggest_value_id_by_column(M, col_idx):\n",
    "    column = M.T[col_idx]\n",
    "    if (column.max() > abs(column.min())):\n",
    "        return column.argmax()\n",
    "    else:\n",
    "        return column.argmin()\n",
    "        "
   ]
  },
  {
   "cell_type": "code",
   "execution_count": 8,
   "id": "0839467d",
   "metadata": {},
   "outputs": [],
   "source": [
    "# Swap Lines in matrix\n",
    "def swap_lines(M, line1, line2):\n",
    "    M_copy = M.copy()\n",
    "    M_copy[[line1, line2]] = M_copy[[line2, line1]]\n",
    "    return M_copy"
   ]
  },
  {
   "cell_type": "code",
   "execution_count": 9,
   "id": "65d803ba",
   "metadata": {},
   "outputs": [
    {
     "name": "stdout",
     "output_type": "stream",
     "text": [
      "[[20.          7.          9.        ]\n",
      " [ 0.         27.55        4.85      ]\n",
      " [ 0.          0.         25.09618875]]\n",
      "[[16.        ]\n",
      " [32.4       ]\n",
      " [25.09618875]]\n"
     ]
    }
   ],
   "source": [
    "def elimination_with_partial_pivot(Matrix, b):\n",
    "    M = Matrix.copy()\n",
    "    b_ = b.copy()\n",
    "    lines_size = len(M)\n",
    "    col_size = M[0].size\n",
    "    \n",
    "    for c in range(col_size-1): # columns\n",
    "        maior = -np.inf\n",
    "        for l in range(c+1, lines_size): # lines\n",
    "            l_ = l-1\n",
    "            if (abs(M[l_][c]) < 0.001):            \n",
    "                idx_biggest_line = find_biggest_value_id_by_column(M, c)\n",
    "                if (idx_biggest_line != c):\n",
    "                    M = swap_lines(M, idx_biggest_line, l_)\n",
    "            alfa = - M[l][c] / M[c][c]         \n",
    "            M[l] += alfa*M[c]\n",
    "            b_[l][0] += alfa*b_[c][0]\n",
    "        \n",
    "    return M, b_\n",
    "M, b_ = elimination_with_partial_pivot(matrix, b)\n",
    "\n",
    "print(M)\n",
    "print(b_)"
   ]
  },
  {
   "cell_type": "code",
   "execution_count": 10,
   "id": "a78ec0db",
   "metadata": {},
   "outputs": [
    {
     "data": {
      "text/plain": [
       "array([[0.],\n",
       "       [1.],\n",
       "       [1.]])"
      ]
     },
     "execution_count": 10,
     "metadata": {},
     "output_type": "execute_result"
    }
   ],
   "source": [
    "def back_substitution(M, b):\n",
    "    M_ = M.copy()\n",
    "    b_ = b.copy()\n",
    "    b_size = b.size\n",
    "    lines_size = len(M)\n",
    "    col_size = M[0].size\n",
    "    x = np.zeros((b_size, 1))\n",
    "    \n",
    "    x[b_size-1][0] =  b[b_size-1][0] / M[lines_size-1][lines_size-1]\n",
    "    for i in range(lines_size-2, -1, -1):\n",
    "        values_sum = 0\n",
    "        for j in range(i+1, lines_size):\n",
    "            values_sum += M[i][j] * x[j][0]\n",
    "        x[i][0] = (b[i][0] - values_sum) / M[i][i]\n",
    "    return x\n",
    "back_substitution(M, b_)"
   ]
  },
  {
   "cell_type": "code",
   "execution_count": null,
   "id": "a67cbd05",
   "metadata": {},
   "outputs": [],
   "source": []
  }
 ],
 "metadata": {
  "kernelspec": {
   "display_name": "Python 3",
   "language": "python",
   "name": "python3"
  },
  "language_info": {
   "codemirror_mode": {
    "name": "ipython",
    "version": 3
   },
   "file_extension": ".py",
   "mimetype": "text/x-python",
   "name": "python",
   "nbconvert_exporter": "python",
   "pygments_lexer": "ipython3",
   "version": "3.8.8"
  }
 },
 "nbformat": 4,
 "nbformat_minor": 5
}
