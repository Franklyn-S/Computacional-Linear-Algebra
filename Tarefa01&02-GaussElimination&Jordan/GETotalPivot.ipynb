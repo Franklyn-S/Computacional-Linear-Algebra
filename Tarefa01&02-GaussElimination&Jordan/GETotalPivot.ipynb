{
 "cells": [
  {
   "cell_type": "code",
   "execution_count": 1,
   "id": "dc99dc65",
   "metadata": {},
   "outputs": [],
   "source": [
    "import numpy as np"
   ]
  },
  {
   "cell_type": "code",
   "execution_count": 2,
   "id": "a9c934b5",
   "metadata": {},
   "outputs": [],
   "source": [
    "%run ../utils.ipynb"
   ]
  },
  {
   "cell_type": "code",
   "execution_count": 3,
   "id": "163036a6",
   "metadata": {},
   "outputs": [],
   "source": [
    "matrix = np.array([\n",
    "  np.array([20, 7, 9], dtype=float),\n",
    "  np.array([7, 30, 8], dtype=float),\n",
    "  np.array([9, 8, 30], dtype=float),\n",
    "])"
   ]
  },
  {
   "cell_type": "code",
   "execution_count": 4,
   "id": "7be15057",
   "metadata": {},
   "outputs": [],
   "source": [
    "matrix2 = np.array([\n",
    "  np.array([5, 8, 9], dtype=float),\n",
    "  np.array([4, 3, 2], dtype=float),\n",
    "  np.array([6, 7, 5], dtype=float),\n",
    "])"
   ]
  },
  {
   "cell_type": "code",
   "execution_count": 5,
   "id": "f4293158",
   "metadata": {},
   "outputs": [],
   "source": [
    "matrix3 = np.array([ \n",
    "  np.array([1, 3, 2], dtype=float),\n",
    "  np.array([2, 7, 7], dtype=float),\n",
    "  np.array([2, 5, 2], dtype=float),\n",
    "])"
   ]
  },
  {
   "cell_type": "code",
   "execution_count": 6,
   "id": "6c725f98",
   "metadata": {},
   "outputs": [],
   "source": [
    "b = np.array([\n",
    "  np.array([16], dtype=float),\n",
    "  np.array([38], dtype=float),\n",
    "  np.array([38], dtype=float),\n",
    "])"
   ]
  },
  {
   "cell_type": "code",
   "execution_count": 7,
   "id": "b93348af",
   "metadata": {},
   "outputs": [],
   "source": [
    "b3 = np.array([\n",
    "  np.array([2], dtype=float),\n",
    "  np.array([-1], dtype=float),\n",
    "  np.array([7], dtype=float),\n",
    "])"
   ]
  },
  {
   "cell_type": "code",
   "execution_count": 8,
   "id": "3a508106",
   "metadata": {},
   "outputs": [
    {
     "name": "stdout",
     "output_type": "stream",
     "text": [
      "[[20.          7.          9.        ]\n",
      " [ 0.         27.55        4.85      ]\n",
      " [ 0.          0.         25.09618875]]\n",
      "[[16.        ]\n",
      " [32.4       ]\n",
      " [25.09618875]]\n",
      "[0 1 2]\n"
     ]
    }
   ],
   "source": [
    "def elimination_with_total_pivot(Matrix, b):\n",
    "    M = Matrix.copy()\n",
    "    b_ = b.copy()\n",
    "    lines_size = len(M)\n",
    "    col_size = M[0].size\n",
    "    \n",
    "    # build the permutation vector\n",
    "    perm = np.arange(col_size);\n",
    "    \n",
    "    for c in range(col_size-1): # columns\n",
    "        # we find the absolute maximum from A(c:n, c:n) to use it as a pivot\n",
    "        \n",
    "        if (abs(M[c][c]) < 0.0001):\n",
    "            pivot, idx_biggest_line, idx_biggest_col = find_biggest_pivot_value_id(M, c)     \n",
    "            if (idx_biggest_line != c and idx_biggest_col > c-1):\n",
    "                M = swap_lines(M, idx_biggest_line, c) \n",
    "            if (idx_biggest_col != c and idx_biggest_col > c-1):\n",
    "                M, perm = swap_columns(M, perm, idx_biggest_col, c)       \n",
    "        \n",
    "        for l in range(c+1, lines_size): # lines\n",
    "            \n",
    "            alfa = - M[l][c] / M[c][c] \n",
    "            \n",
    "            M[l] += alfa*M[c]\n",
    "            b_[l][0] += alfa*b_[c][0]\n",
    "        \n",
    "    return M, b_, perm\n",
    "M, b_, perm = elimination_with_total_pivot(matrix, b)\n",
    "\n",
    "print(M)\n",
    "print(b_)\n",
    "print(perm)"
   ]
  },
  {
   "cell_type": "code",
   "execution_count": 9,
   "id": "0444aafb",
   "metadata": {},
   "outputs": [
    {
     "data": {
      "text/plain": [
       "array([[0.],\n",
       "       [1.],\n",
       "       [1.]])"
      ]
     },
     "execution_count": 9,
     "metadata": {},
     "output_type": "execute_result"
    }
   ],
   "source": [
    "def back_substitution(M, b, perm):\n",
    "    M_ = M.copy()\n",
    "    b_ = b.copy()\n",
    "    b_size = b.size\n",
    "    lines_size = len(M)\n",
    "    col_size = M[0].size\n",
    "    x = np.zeros((b_size, 1))\n",
    "    \n",
    "    x[b_size-1][0] =  b[b_size-1][0] / M[lines_size-1][lines_size-1]\n",
    "    for i in range(lines_size-2, -1, -1):\n",
    "        values_sum = 0\n",
    "        for j in range(i+1, lines_size):\n",
    "            values_sum += M[i][j] * x[j][0]\n",
    "        x[i][0] = (b[i][0] - values_sum) / M[i][i]    \n",
    "    return x[perm]\n",
    "back_substitution(M, b_, perm)"
   ]
  },
  {
   "cell_type": "code",
   "execution_count": null,
   "id": "5995b189",
   "metadata": {},
   "outputs": [],
   "source": []
  }
 ],
 "metadata": {
  "kernelspec": {
   "display_name": "Python 3",
   "language": "python",
   "name": "python3"
  },
  "language_info": {
   "codemirror_mode": {
    "name": "ipython",
    "version": 3
   },
   "file_extension": ".py",
   "mimetype": "text/x-python",
   "name": "python",
   "nbconvert_exporter": "python",
   "pygments_lexer": "ipython3",
   "version": "3.8.8"
  }
 },
 "nbformat": 4,
 "nbformat_minor": 5
}
