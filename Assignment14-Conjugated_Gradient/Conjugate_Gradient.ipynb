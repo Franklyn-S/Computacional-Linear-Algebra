{
 "cells": [
  {
   "cell_type": "markdown",
   "id": "3e376f3d",
   "metadata": {},
   "source": [
    "## Conjugate Gradient \n",
    "is an **iterative method** used to solve systems of linear equations, whose matrix is positive-definite. Applied to sparse systems that are too large to be handled by a direct implementation or other methods such as the Cholesky decomposition."
   ]
  },
  {
   "cell_type": "code",
   "execution_count": 2,
   "id": "b480333b",
   "metadata": {},
   "outputs": [],
   "source": [
    "import numpy as np"
   ]
  },
  {
   "cell_type": "code",
   "execution_count": 3,
   "id": "80b880c2",
   "metadata": {},
   "outputs": [
    {
     "data": {
      "text/plain": [
       "array([[4, 1],\n",
       "       [1, 3]])"
      ]
     },
     "execution_count": 3,
     "metadata": {},
     "output_type": "execute_result"
    }
   ],
   "source": [
    "A = np.array([[4, 1 ],\n",
    "              [1, 3,]])\n",
    "A"
   ]
  },
  {
   "cell_type": "code",
   "execution_count": 4,
   "id": "38cd1353",
   "metadata": {},
   "outputs": [
    {
     "data": {
      "text/plain": [
       "array([1, 2])"
      ]
     },
     "execution_count": 4,
     "metadata": {},
     "output_type": "execute_result"
    }
   ],
   "source": [
    "b = np.array([1, 2])\n",
    "b"
   ]
  },
  {
   "cell_type": "code",
   "execution_count": 5,
   "id": "9f9784ee",
   "metadata": {},
   "outputs": [],
   "source": [
    "x = np.array([2, 1],  dtype=np.float64)"
   ]
  },
  {
   "cell_type": "code",
   "execution_count": 6,
   "id": "8a705a13",
   "metadata": {
    "scrolled": true
   },
   "outputs": [
    {
     "name": "stdout",
     "output_type": "stream",
     "text": [
      "Iteration: 1 \t x = [0.23564955 0.33836858] \t residual = 0.8002\n",
      "Iteration: 2 \t x = [0.09090909 0.63636364] \t residual = 0.0000\n",
      "\n",
      "Solution: \t x = [0.09090909 0.63636364]\n"
     ]
    }
   ],
   "source": [
    "def conjugateGradient(A, b, x0, eps=1e-5):\n",
    "    xk = x0.copy()\n",
    "    rk = np.dot(A, xk) - b\n",
    "    pk = -rk\n",
    "    rk_norm = np.linalg.norm(rk)\n",
    "    \n",
    "    num_iter = 0\n",
    "    curve_x = [xk]\n",
    "    while rk_norm > eps:\n",
    "        apk = np.dot(A, pk)\n",
    "        rktrk = np.dot(rk.T, rk)\n",
    "        alphak = rktrk / np.dot(pk.T, apk)\n",
    "        xk += alphak * pk\n",
    "        rk = np.dot(A, xk) - b\n",
    "        beta = np.dot(rk, rk) / rktrk\n",
    "        pk = -rk + beta * pk\n",
    "        \n",
    "        num_iter +=1\n",
    "        curve_x.append(x)\n",
    "        rk_norm = np.linalg.norm(rk)\n",
    "        print(\"Iteration: {} \\t x = {} \\t residual = {:.4f}\".format(num_iter, xk, rk_norm))\n",
    "    print(\"\\nSolution: \\t x = {}\".format(xk))\n",
    "    \n",
    "curve = conjugateGradient(A, b, x0=x)"
   ]
  },
  {
   "cell_type": "code",
   "execution_count": null,
   "id": "dbac6241",
   "metadata": {},
   "outputs": [],
   "source": []
  }
 ],
 "metadata": {
  "kernelspec": {
   "display_name": "Python 3 (ipykernel)",
   "language": "python",
   "name": "python3"
  },
  "language_info": {
   "codemirror_mode": {
    "name": "ipython",
    "version": 3
   },
   "file_extension": ".py",
   "mimetype": "text/x-python",
   "name": "python",
   "nbconvert_exporter": "python",
   "pygments_lexer": "ipython3",
   "version": "3.9.5"
  }
 },
 "nbformat": 4,
 "nbformat_minor": 5
}
