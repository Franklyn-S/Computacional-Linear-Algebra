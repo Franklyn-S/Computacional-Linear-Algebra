{
 "cells": [
  {
   "cell_type": "code",
   "execution_count": 11,
   "id": "7a253cec",
   "metadata": {},
   "outputs": [],
   "source": [
    "import numpy as np\n",
    "%run \"../utils.ipynb\""
   ]
  },
  {
   "cell_type": "code",
   "execution_count": 12,
   "id": "3ba52a50",
   "metadata": {},
   "outputs": [],
   "source": [
    "echelon_M = np.array([\n",
    "  np.array([1, 2, 2, 2], dtype=float),\n",
    "  np.array([2, 4, 6, 8], dtype=float),\n",
    "  np.array([3, 6, 8, 10], dtype=float),\n",
    "])"
   ]
  },
  {
   "cell_type": "code",
   "execution_count": 13,
   "id": "9ea75d4d",
   "metadata": {},
   "outputs": [
    {
     "data": {
      "text/plain": [
       "array([[ 1.,  2.,  2.,  2.],\n",
       "       [ 2.,  4.,  6.,  8.],\n",
       "       [ 3.,  6.,  8., 10.]])"
      ]
     },
     "execution_count": 13,
     "metadata": {},
     "output_type": "execute_result"
    }
   ],
   "source": [
    "M = echelon_M\n",
    "M"
   ]
  },
  {
   "cell_type": "code",
   "execution_count": 14,
   "id": "b134f26d",
   "metadata": {},
   "outputs": [
    {
     "data": {
      "text/plain": [
       "array([[1., 2., 2., 2.],\n",
       "       [0., 0., 1., 2.],\n",
       "       [0., 0., 0., 0.]])"
      ]
     },
     "execution_count": 14,
     "metadata": {},
     "output_type": "execute_result"
    }
   ],
   "source": [
    "# Row Reduced Echelon Form\n",
    "def RowEchelonForm(Matrix):\n",
    "    M = Matrix.copy()\n",
    "    n, m = M.shape\n",
    "    if n == 0 or m == 0:\n",
    "        return M\n",
    "    # Determine the leftmost non-zero column.\n",
    "    for i in range(len(M)):\n",
    "        if M[i,0] != 0:\n",
    "            break\n",
    "    else:\n",
    "        B = RowEchelonForm(M[:, 1:])\n",
    "        return np.hstack([M[:,:1], B])\n",
    "    # switch rows if non-zero element is not in first row\n",
    "    if (i > 0):\n",
    "        M = swap_lines(M, i, 0)\n",
    "    # Use elementary row operations to put a 1 in the topmost position\n",
    "    M[0] = M[0] / M[0,0]\n",
    "    # Use elementary row operations to put zeros (strictly) below the pivot position.\n",
    "    M[1:] -= M[0] * M[1:, 0:1]\n",
    "    # Apply steps to submatrix\n",
    "    B = RowEchelonForm(M[1:, 1:])\n",
    "    # Add first row and first (zero) column and return\n",
    "    return np.vstack([M[:1], np.hstack([M[1:,:1], B])])\n",
    "RowEchelonForm(echelon_M)"
   ]
  },
  {
   "cell_type": "code",
   "execution_count": 15,
   "id": "bc16d80e",
   "metadata": {},
   "outputs": [],
   "source": [
    "def reduce(M_echelon):\n",
    "    A = M_echelon.copy()\n",
    "    n, m = M_echelon.shape\n",
    "    # Determine all the leading ones\n",
    "    pivot_positions = []\n",
    "    for c in range(m-1):\n",
    "        if A[c][c] == 1:\n",
    "            pivot_positions.append([c,c])\n",
    "        else:\n",
    "            for c_ in range(c+1, m-1):\n",
    "                if A[c][c_] == 1:\n",
    "                    pivot_positions.append([c, c_])\n",
    "                    break\n",
    "            continue\n",
    "    for pivot_p in list(reversed(pivot_positions)):\n",
    "        r, c = pivot_p\n",
    "        for l in range(r-1, -1, -1):\n",
    "            alfa = - A[l][c] / A[r][c]\n",
    "            A[l] += alfa*A[r]\n",
    "    return A, pivot_positions\n",
    "# reduce(M)"
   ]
  },
  {
   "cell_type": "code",
   "execution_count": 16,
   "id": "f6014546",
   "metadata": {},
   "outputs": [
    {
     "name": "stdout",
     "output_type": "stream",
     "text": [
      "[[ 1.  2.  0. -2.]\n",
      " [ 0.  0.  1.  2.]\n",
      " [ 0.  0.  0.  0.]]\n",
      "[[0, 0], [1, 2]]\n"
     ]
    }
   ],
   "source": [
    "# Row Reduced Echelon Form\n",
    "def RREF(Matrix):\n",
    "    M = RowEchelonForm(Matrix)\n",
    "    return reduce(M)\n",
    "M_RREF, pivot_positions = RREF(echelon_M)\n",
    "\n",
    "print(M_RREF)\n",
    "print(pivot_positions)"
   ]
  },
  {
   "cell_type": "code",
   "execution_count": 17,
   "id": "56bc4b96",
   "metadata": {},
   "outputs": [
    {
     "data": {
      "text/plain": [
       "1"
      ]
     },
     "execution_count": 17,
     "metadata": {},
     "output_type": "execute_result"
    }
   ],
   "source": [
    "# 2- Receives a matrix in RREF and return its rank\n",
    "def getRank(M_RREF):\n",
    "    rank = 0\n",
    "    M_lenght = M_RREF.shape[1]\n",
    "    for idx, line in enumerate(M_RREF):\n",
    "        if (idx < M_lenght):\n",
    "            if(line[idx] > 0):\n",
    "                rank += 1\n",
    "    return rank\n",
    "getRank(M_RREF)"
   ]
  },
  {
   "cell_type": "code",
   "execution_count": 18,
   "id": "da874429",
   "metadata": {},
   "outputs": [
    {
     "data": {
      "text/plain": [
       "3"
      ]
     },
     "execution_count": 18,
     "metadata": {},
     "output_type": "execute_result"
    }
   ],
   "source": [
    "# 3 Receives a matrix in RREF and return the dimension of the null space\n",
    "def getNullSpaceDim(M_RREF):\n",
    "    n = M_lenght = M_RREF.shape[1]\n",
    "    rank = getRank(M_RREF)\n",
    "    return n - rank\n",
    "getNullSpaceDim(M_RREF)"
   ]
  }
 ],
 "metadata": {
  "kernelspec": {
   "display_name": "Python 3 (ipykernel)",
   "language": "python",
   "name": "python3"
  },
  "language_info": {
   "codemirror_mode": {
    "name": "ipython",
    "version": 3
   },
   "file_extension": ".py",
   "mimetype": "text/x-python",
   "name": "python",
   "nbconvert_exporter": "python",
   "pygments_lexer": "ipython3",
   "version": "3.9.5"
  }
 },
 "nbformat": 4,
 "nbformat_minor": 5
}
