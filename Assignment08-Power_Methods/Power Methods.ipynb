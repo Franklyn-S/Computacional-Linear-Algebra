{
 "cells": [
  {
   "cell_type": "code",
   "execution_count": 2,
   "id": "1b7ce483",
   "metadata": {},
   "outputs": [],
   "source": [
    "%%capture\n",
    "%run ../Assignment03-LU/LU.ipynb"
   ]
  },
  {
   "cell_type": "code",
   "execution_count": 3,
   "id": "30917f01",
   "metadata": {},
   "outputs": [],
   "source": [
    "import numpy as np"
   ]
  },
  {
   "cell_type": "code",
   "execution_count": 4,
   "id": "ca11603f",
   "metadata": {},
   "outputs": [],
   "source": [
    "A2 =  np.array([\n",
    "  np.array([7, 9], dtype=float),\n",
    "  np.array([9, 7], dtype=float),\n",
    "])"
   ]
  },
  {
   "cell_type": "code",
   "execution_count": 5,
   "id": "9c5a1779",
   "metadata": {},
   "outputs": [],
   "source": [
    "x2 = np.array([\n",
    "  np.array([-1], dtype=float),\n",
    "  np.array([0.5], dtype=float),\n",
    "])"
   ]
  },
  {
   "cell_type": "code",
   "execution_count": 6,
   "id": "e89ecd1e",
   "metadata": {},
   "outputs": [
    {
     "data": {
      "text/plain": [
       "array([[40.,  3.,  9.,  7.,  8.],\n",
       "       [ 3., 23.,  4.,  7., 12.],\n",
       "       [ 9.,  4., 65., 16., 15.],\n",
       "       [ 7.,  7., 16., 37., 12.],\n",
       "       [ 8., 12., 15., 12., 51.]])"
      ]
     },
     "execution_count": 6,
     "metadata": {},
     "output_type": "execute_result"
    }
   ],
   "source": [
    "A =  np.array([\n",
    "  np.array([40, 3, 9, 7, 8], dtype=float),\n",
    "  np.array([3, 23, 4, 7, 12], dtype=float),\n",
    "  np.array([9, 4, 65, 16, 15], dtype=float),\n",
    "  np.array([7, 7, 16, 37, 12], dtype=float),\n",
    "  np.array([8, 12, 15, 12, 51], dtype=float),\n",
    "])\n",
    "A"
   ]
  },
  {
   "cell_type": "code",
   "execution_count": 7,
   "id": "783f8cd7",
   "metadata": {},
   "outputs": [
    {
     "data": {
      "text/plain": [
       "array([[1.],\n",
       "       [1.],\n",
       "       [1.],\n",
       "       [1.],\n",
       "       [1.]])"
      ]
     },
     "execution_count": 7,
     "metadata": {},
     "output_type": "execute_result"
    }
   ],
   "source": [
    "x = np.array([\n",
    "  np.array([1], dtype=float),\n",
    "  np.array([1], dtype=float),\n",
    "  np.array([1], dtype=float),\n",
    "  np.array([1], dtype=float),\n",
    "  np.array([1], dtype=float),\n",
    "])\n",
    "x"
   ]
  },
  {
   "cell_type": "code",
   "execution_count": 8,
   "id": "e9469d71",
   "metadata": {},
   "outputs": [],
   "source": [
    "error = 0.0001"
   ]
  },
  {
   "cell_type": "code",
   "execution_count": 9,
   "id": "925b6b51",
   "metadata": {},
   "outputs": [
    {
     "data": {
      "text/plain": [
       "(15.999990344052728, array([-0.70704204, -0.70717152]))"
      ]
     },
     "execution_count": 9,
     "metadata": {},
     "output_type": "execute_result"
    }
   ],
   "source": [
    "def PowerMethod(A, x, error):\n",
    "    xc = x.copy()\n",
    "    v = xc / np.linalg.norm(xc)\n",
    "    lambdaN = 0\n",
    "    while True:\n",
    "        lambdai = lambdaN\n",
    "        xc = np.array(A @ v).flatten()\n",
    "        lambdaN = (v.T @ xc).flatten()[0]\n",
    "        v = xc / np.linalg.norm(xc)\n",
    "        test = np.abs((lambdaN - lambdai) / lambdaN)\n",
    "        if (test < error):\n",
    "            break\n",
    "    return lambdaN, v\n",
    "pr, xr = PowerMethod(A2,x2, error)\n",
    "pr, xr"
   ]
  },
  {
   "cell_type": "code",
   "execution_count": 10,
   "id": "70207039",
   "metadata": {},
   "outputs": [
    {
     "data": {
      "text/plain": [
       "(7.777475296882046e-05,\n",
       " array([[-7.77747530e-05],\n",
       "        [ 9.99999997e-01]]))"
      ]
     },
     "execution_count": 10,
     "metadata": {},
     "output_type": "execute_result"
    }
   ],
   "source": [
    "def InvertedPowerMethod(A, x, error):\n",
    "    xc = x.copy();\n",
    "    lambdaN = 0\n",
    "    v = xc / np.linalg.norm(xc)\n",
    "    while True: \n",
    "        lambdai = lambdaN\n",
    "        L, U, xc, perm = LU(A, xc)\n",
    "        lambdaN = np.array(v.T @ xc).flatten()[0]\n",
    "        v = xc / np.linalg.norm(xc)\n",
    "        test = np.abs((lambdaN - lambdai) / lambdaN)\n",
    "        if (test < error):\n",
    "            break\n",
    "    lambdaN = 1 / lambdaN\n",
    "    return lambdaN, v\n",
    "pi, xi = InvertedPowerMethod(A2, x2, error)\n",
    "pi, xi"
   ]
  },
  {
   "cell_type": "code",
   "execution_count": 11,
   "id": "7407bdb2",
   "metadata": {},
   "outputs": [
    {
     "data": {
      "text/plain": [
       "(-2.000000953674367, array([-0.70716432,  0.70704923]))"
      ]
     },
     "execution_count": 11,
     "metadata": {},
     "output_type": "execute_result"
    }
   ],
   "source": [
    "def PI(A, x, E):\n",
    "    Ai = np.linalg.inv(A)\n",
    "    lambdai, v = PowerMethod(Ai, x, E)\n",
    "    lambdai = 1/lambdai\n",
    "    return lambdai, v\n",
    "PI(A2, x2, error)"
   ]
  },
  {
   "cell_type": "code",
   "execution_count": 12,
   "id": "e3aec3d6",
   "metadata": {},
   "outputs": [
    {
     "data": {
      "text/plain": [
       "(9.00005628002834,\n",
       " array([[-2.22206255e-05],\n",
       "        [-1.00000000e+00]]))"
      ]
     },
     "execution_count": 12,
     "metadata": {},
     "output_type": "execute_result"
    }
   ],
   "source": [
    "def DislocatedPowerMethod(A, x, error, mu):\n",
    "    I = np.eye(A.shape[0])\n",
    "    A_ = A - (mu)*I\n",
    "    \n",
    "    lambdan, xn = InvertedPowerMethod(A_,x,error)\n",
    "    lambdai = lambdan + mu\n",
    "    xi = xn\n",
    "    \n",
    "    return lambdai, xi\n",
    "mu = ((pr + pi)/2)+1\n",
    "pd, xd = DislocatedPowerMethod(A2, x2, error, mu)\n",
    "pd, xd"
   ]
  },
  {
   "cell_type": "code",
   "execution_count": null,
   "id": "c8bd42e9",
   "metadata": {},
   "outputs": [],
   "source": []
  }
 ],
 "metadata": {
  "kernelspec": {
   "display_name": "Python 3 (ipykernel)",
   "language": "python",
   "name": "python3"
  },
  "language_info": {
   "codemirror_mode": {
    "name": "ipython",
    "version": 3
   },
   "file_extension": ".py",
   "mimetype": "text/x-python",
   "name": "python",
   "nbconvert_exporter": "python",
   "pygments_lexer": "ipython3",
   "version": "3.9.5"
  }
 },
 "nbformat": 4,
 "nbformat_minor": 5
}
