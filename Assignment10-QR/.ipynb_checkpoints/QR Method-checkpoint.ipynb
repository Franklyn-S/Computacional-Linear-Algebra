{
 "cells": [
  {
   "cell_type": "code",
   "execution_count": 2,
   "id": "e1820ab9",
   "metadata": {},
   "outputs": [],
   "source": [
    "import numpy as np\n",
    "import math"
   ]
  },
  {
   "cell_type": "code",
   "execution_count": 3,
   "id": "59a8e019",
   "metadata": {},
   "outputs": [],
   "source": [
    "A = np.array([\n",
    "    [12, -51, 4],\n",
    "    [6, 167, -68],\n",
    "    [-4, -24, -41]\n",
    "])"
   ]
  },
  {
   "cell_type": "code",
   "execution_count": 4,
   "id": "b02c0b55",
   "metadata": {},
   "outputs": [],
   "source": [
    "ERROR = 0.000001"
   ]
  },
  {
   "cell_type": "code",
   "execution_count": 5,
   "id": "59f2e8db",
   "metadata": {},
   "outputs": [],
   "source": [
    "# Build the QR's Identity Matrix (Pij)\n",
    "def buildPijMatrix(A, i, j):\n",
    "    rows, cols = A.shape\n",
    "    Pij = np.identity(rows)\n",
    "    t_aux = np.arctan(A[i,j] / A[j,j])\n",
    "    teta = (np.pi/4) if (np.abs(A[j,j]) < ERROR) else t_aux\n",
    "    Pij[i,i] = np.cos(teta)\n",
    "    Pij[j,j] = np.cos(teta)\n",
    "    Pij[i,j] = - np.sin(teta)\n",
    "    Pij[j,i] = np.sin(teta)\n",
    "    \n",
    "    return Pij"
   ]
  },
  {
   "cell_type": "code",
   "execution_count": 6,
   "id": "6b6e3cb3",
   "metadata": {},
   "outputs": [
    {
     "name": "stdout",
     "output_type": "stream",
     "text": [
      "[[ 0.84852814 -0.48290039  0.21634974]\n",
      " [ 0.42426407  0.86521406  0.26721644]\n",
      " [-0.31622777 -0.13495125  0.93903576]]\n",
      "[[ 1.39928331e+01  3.51666309e+01 -1.24905057e+01]\n",
      " [-6.37153359e-02  1.72357498e+02 -5.52331566e+01]\n",
      " [ 4.43352546e-01  1.10544506e+01 -5.58057853e+01]]\n"
     ]
    }
   ],
   "source": [
    "def QR_Decomposition(A):\n",
    "    H = A.copy()\n",
    "    rows, cols = H.shape\n",
    "    Qt = np.identity(rows)\n",
    "    for j in range(cols-1):\n",
    "        for i in range(j+1, rows):\n",
    "            Pt = buildPijMatrix(A, i, j)\n",
    "            H = Pt@H\n",
    "            Qt = Pt@Qt\n",
    "    return Qt.T, H\n",
    "Q, R = QR_Decomposition(A)\n",
    "print(Q)\n",
    "print(R)"
   ]
  },
  {
   "cell_type": "markdown",
   "id": "268f2bcd",
   "metadata": {},
   "source": [
    "## QR Decomposition"
   ]
  },
  {
   "cell_type": "code",
   "execution_count": 7,
   "id": "30d1e405",
   "metadata": {},
   "outputs": [],
   "source": [
    "def QR_decomposition2(A):\n",
    "    rows, cols = A.shape\n",
    "    Q = np.empty((rows, rows))\n",
    "    u = np.empty((rows, rows))\n",
    "    \n",
    "    u[:, 0] = A[:, 0]\n",
    "    Q[:, 0] = u[:, 0] / np.linalg.norm(u[:, 0])\n",
    "    \n",
    "    for i in range(1, rows):\n",
    "        u[:, i] = A[:, i]\n",
    "        for j in range(i):\n",
    "            u[:, i] -= (A[:, i] @ Q[:, j]) * Q[:, j] #get each u vector\n",
    "        Q[:, i] = u[:, i] / np.linalg.norm(u[:, i])\n",
    "    R = np.zeros((rows, cols))\n",
    "    for i in range(rows):\n",
    "        for j in range(i, cols):\n",
    "            R[i, j] = A[:, j] @ Q[:, i]\n",
    "    return Q, R"
   ]
  },
  {
   "cell_type": "markdown",
   "id": "7e6da736",
   "metadata": {},
   "source": [
    "Adjust the signs of the columns in Q and the rows in R"
   ]
  },
  {
   "cell_type": "code",
   "execution_count": 8,
   "id": "5c698070",
   "metadata": {},
   "outputs": [],
   "source": [
    "def diag_sign(A):\n",
    "    return np.diag(np.sign(np.diag(A)))\n",
    "def adjust_sign(Q, R):\n",
    "    D = diag_sign(Q)\n",
    "    Q[:, :] = Q @ D\n",
    "    R[:, :] = D @ R\n",
    "    return Q, R"
   ]
  },
  {
   "cell_type": "code",
   "execution_count": 9,
   "id": "0a1a4b91",
   "metadata": {},
   "outputs": [],
   "source": [
    "Q, R = adjust_sign(*QR_decomposition2(A))"
   ]
  },
  {
   "cell_type": "code",
   "execution_count": 10,
   "id": "e84f0f67",
   "metadata": {},
   "outputs": [
    {
     "name": "stdout",
     "output_type": "stream",
     "text": [
      "[[ 0.85714286 -0.46732433  0.21659662]\n",
      " [ 0.42857143  0.88032235  0.20336934]\n",
      " [-0.28571429 -0.08148946  0.95484387]]\n",
      "[[ 14.          34.71428571 -14.        ]\n",
      " [  0.         172.80312025 -58.39014935]\n",
      " [  0.           0.         -52.11132754]]\n"
     ]
    }
   ],
   "source": [
    "print(Q)\n",
    "print(R)"
   ]
  },
  {
   "cell_type": "code",
   "execution_count": 11,
   "id": "a5d9dda0",
   "metadata": {},
   "outputs": [
    {
     "data": {
      "text/plain": [
       "array([[ 12., -51.,   4.],\n",
       "       [  6., 167., -68.],\n",
       "       [ -4., -24., -41.]])"
      ]
     },
     "execution_count": 11,
     "metadata": {},
     "output_type": "execute_result"
    }
   ],
   "source": [
    "Q @ R"
   ]
  },
  {
   "cell_type": "code",
   "execution_count": 12,
   "id": "654baf40",
   "metadata": {},
   "outputs": [
    {
     "data": {
      "text/plain": [
       "array([[ 12, -51,   4],\n",
       "       [  6, 167, -68],\n",
       "       [ -4, -24, -41]])"
      ]
     },
     "execution_count": 12,
     "metadata": {},
     "output_type": "execute_result"
    }
   ],
   "source": [
    "A"
   ]
  },
  {
   "cell_type": "markdown",
   "id": "0634bd4d",
   "metadata": {},
   "source": [
    "## QR method for eigenvalues and eigenvectors"
   ]
  },
  {
   "cell_type": "code",
   "execution_count": 14,
   "id": "9cde5471",
   "metadata": {},
   "outputs": [],
   "source": [
    "def calc_error(A):\n",
    "    soma = 0\n",
    "    for i in range(1, A.shape[0]):\n",
    "        for j in range(1, A.shape[1]):\n",
    "            if(i!=j):\n",
    "                soma += A[i,j]**2\n",
    "    return math.sqrt(soma)"
   ]
  },
  {
   "cell_type": "code",
   "execution_count": 18,
   "id": "1f2398d6",
   "metadata": {},
   "outputs": [],
   "source": [
    "def QR(A, e, H):\n",
    "    M = A.copy()\n",
    "    rows, cols = M.shape\n",
    "    Q = np.zeros((rows, 1))\n",
    "    R = np.zeros((rows, 1))\n",
    "    \n",
    "    P = H\n",
    "    MAX_INTERATION = 2000\n",
    "    i = 0\n",
    "    error = calc_error(M)\n",
    "    while(error > e and i < MAX_INTERATION):\n",
    "        Q, R = QR_Decomposition(M)\n",
    "        M = R@Q\n",
    "        P = P@Q\n",
    "        error = calc_error(M)\n",
    "        i += 1\n",
    "    return M, P\n",
    "eigen_values, eigen_vectors = QR(Q, ERROR, R)"
   ]
  },
  {
   "cell_type": "code",
   "execution_count": 19,
   "id": "bda59316",
   "metadata": {},
   "outputs": [
    {
     "name": "stdout",
     "output_type": "stream",
     "text": [
      "[[ 0.86461598 -0.29056123 -0.40989434]\n",
      " [ 0.20364059  0.94846502 -0.24278513]\n",
      " [ 0.45931439  0.12644478  0.87922807]]\n"
     ]
    }
   ],
   "source": [
    "print(eigen_values)"
   ]
  },
  {
   "cell_type": "code",
   "execution_count": 20,
   "id": "e2cfe9a9",
   "metadata": {},
   "outputs": [
    {
     "name": "stdout",
     "output_type": "stream",
     "text": [
      "[[ -34.93407421   -5.26094751   18.68193039]\n",
      " [-157.15145303  -78.66748513   48.83825859]\n",
      " [ -38.72655663   21.77747971  -27.2320702 ]]\n"
     ]
    }
   ],
   "source": [
    "print(eigen_vectors)"
   ]
  },
  {
   "cell_type": "code",
   "execution_count": null,
   "id": "bcaf948d",
   "metadata": {},
   "outputs": [],
   "source": []
  }
 ],
 "metadata": {
  "kernelspec": {
   "display_name": "Python 3 (ipykernel)",
   "language": "python",
   "name": "python3"
  },
  "language_info": {
   "codemirror_mode": {
    "name": "ipython",
    "version": 3
   },
   "file_extension": ".py",
   "mimetype": "text/x-python",
   "name": "python",
   "nbconvert_exporter": "python",
   "pygments_lexer": "ipython3",
   "version": "3.9.5"
  }
 },
 "nbformat": 4,
 "nbformat_minor": 5
}
