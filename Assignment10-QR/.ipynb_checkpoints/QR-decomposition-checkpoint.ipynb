{
 "cells": [
  {
   "cell_type": "code",
   "execution_count": 29,
   "id": "7388bb0b",
   "metadata": {},
   "outputs": [],
   "source": [
    "import numpy as np\n",
    "import math"
   ]
  },
  {
   "cell_type": "code",
   "execution_count": 30,
   "id": "f2879a15",
   "metadata": {},
   "outputs": [],
   "source": [
    "A = np.array([\n",
    "    [12, -51, 4],\n",
    "    [6, 167, -68],\n",
    "    [-4, -24, -41]\n",
    "])"
   ]
  },
  {
   "cell_type": "code",
   "execution_count": 31,
   "id": "646988b5",
   "metadata": {},
   "outputs": [],
   "source": [
    "ERROR = 0.000001"
   ]
  },
  {
   "cell_type": "code",
   "execution_count": 43,
   "id": "95bca8e9",
   "metadata": {},
   "outputs": [],
   "source": [
    "def calc_error(A):\n",
    "    soma = 0\n",
    "    for i in range(1, A.shape[0]):\n",
    "        for j in range(1, A.shape[1]):\n",
    "            if(i!=j):\n",
    "                soma += A[i,j]**2\n",
    "    return math.sqrt(soma)"
   ]
  },
  {
   "cell_type": "code",
   "execution_count": 33,
   "id": "5c694b7e",
   "metadata": {},
   "outputs": [],
   "source": [
    "# Build the QR's Identity Matrix (Pij)\n",
    "def buildPijMatrix(A, i, j):\n",
    "    rows, cols = A.shape\n",
    "    Pij = np.identity(rows)\n",
    "    t_aux = np.arctan(A[i,j]) / A[j,j]\n",
    "    teta = np.pi/4 if np.abs(A[j,j]) < ERROR else t_aux\n",
    "    Pij[i,i] = np.cos(teta)\n",
    "    Pij[j,j] = np.cos(teta)\n",
    "    Pij[i,j] = - np.sin(teta)\n",
    "    Pij[j,i] = np.sin(teta)\n",
    "    \n",
    "    return Pij"
   ]
  },
  {
   "cell_type": "code",
   "execution_count": 34,
   "id": "b0891238",
   "metadata": {},
   "outputs": [],
   "source": [
    "def decomposition(A):\n",
    "    H = A.copy()\n",
    "    rows, cols = H.shape\n",
    "    Q = np.identity(rows)\n",
    "    for j in range(cols-1):\n",
    "        for i in range(j+1, rows):\n",
    "            Pt = buildPijMatrix(A, i, j)\n",
    "            H = Pt@H\n",
    "            Q = Pt@Q\n",
    "    return Q.T, H\n",
    "Qt, H = decomposition(A)"
   ]
  },
  {
   "cell_type": "code",
   "execution_count": 45,
   "id": "2b628dcd",
   "metadata": {},
   "outputs": [
    {
     "data": {
      "text/plain": [
       "(array([[ 0.9904607 , -0.00323377,  0.13775755],\n",
       "        [-0.00830485,  0.99650634,  0.08310325],\n",
       "        [-0.13754501, -0.08345456,  0.98697351]]),\n",
       " array([[  6.09537076, -20.19335429, -22.90617897],\n",
       "        [-83.60464932,  31.08052898, 161.9940262 ],\n",
       "        [ 28.31859139, -38.3236034 ,  12.03908114]]))"
      ]
     },
     "execution_count": 45,
     "metadata": {},
     "output_type": "execute_result"
    }
   ],
   "source": [
    "def QR(A, e, H):\n",
    "    M = A.copy()\n",
    "    rows, cols = M.shape\n",
    "    Q = np.zeros(rows)\n",
    "    R = np.zeros(rows)\n",
    "    \n",
    "    P = H\n",
    "    MAX_INTERATION = 2000\n",
    "    i = 0\n",
    "    error = calc_error(M)\n",
    "    while(error > e and i < MAX_INTERATION):\n",
    "        Q, R = decomposition(M)\n",
    "        M = R@Q\n",
    "        P = P@Q\n",
    "        error = calc_error(M)\n",
    "        i += 1\n",
    "    return M, P\n",
    "QR(Qt, ERROR, H)"
   ]
  },
  {
   "cell_type": "code",
   "execution_count": null,
   "id": "3895628a",
   "metadata": {},
   "outputs": [],
   "source": []
  }
 ],
 "metadata": {
  "kernelspec": {
   "display_name": "Python 3 (ipykernel)",
   "language": "python",
   "name": "python3"
  },
  "language_info": {
   "codemirror_mode": {
    "name": "ipython",
    "version": 3
   },
   "file_extension": ".py",
   "mimetype": "text/x-python",
   "name": "python",
   "nbconvert_exporter": "python",
   "pygments_lexer": "ipython3",
   "version": "3.9.5"
  }
 },
 "nbformat": 4,
 "nbformat_minor": 5
}
