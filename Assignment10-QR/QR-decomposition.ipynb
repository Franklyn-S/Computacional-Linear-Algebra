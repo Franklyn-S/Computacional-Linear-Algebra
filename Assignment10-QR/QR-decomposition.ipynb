{
 "cells": [
  {
   "cell_type": "code",
   "execution_count": 29,
   "id": "e1820ab9",
   "metadata": {},
   "outputs": [],
   "source": [
    "import numpy as np\n",
    "import math"
   ]
  },
  {
   "cell_type": "code",
   "execution_count": 30,
   "id": "59a8e019",
   "metadata": {},
   "outputs": [],
   "source": [
    "A = np.array([\n",
    "    [12, -51, 4],\n",
    "    [6, 167, -68],\n",
    "    [-4, -24, -41]\n",
    "])"
   ]
  },
  {
   "cell_type": "code",
   "execution_count": 31,
   "id": "b02c0b55",
   "metadata": {},
   "outputs": [],
   "source": [
    "ERROR = 0.000001"
   ]
  },
  {
   "cell_type": "code",
   "execution_count": 68,
   "id": "59f2e8db",
   "metadata": {},
   "outputs": [],
   "source": [
    "# Build the QR's Identity Matrix (Pij)\n",
    "def buildPijMatrix(A, i, j):\n",
    "    rows, cols = A.shape\n",
    "    Pij = np.identity(rows)\n",
    "    t_aux = np.arctan(A[i,j] / A[j,j])\n",
    "    teta = (np.pi/4) if (np.abs(A[j,j]) < ERROR) else t_aux\n",
    "    Pij[i,i] = np.cos(teta)\n",
    "    Pij[j,j] = np.cos(teta)\n",
    "    Pij[i,j] = - np.sin(teta)\n",
    "    Pij[j,i] = np.sin(teta)\n",
    "    \n",
    "    return Pij"
   ]
  },
  {
   "cell_type": "code",
   "execution_count": 73,
   "id": "6b6e3cb3",
   "metadata": {},
   "outputs": [
    {
     "name": "stdout",
     "output_type": "stream",
     "text": [
      "[[ 0.84852814 -0.48290039  0.21634974]\n",
      " [ 0.42426407  0.86521406  0.26721644]\n",
      " [-0.31622777 -0.13495125  0.93903576]]\n",
      "[[ 1.39928331e+01  3.51666309e+01 -1.24905057e+01]\n",
      " [-6.37153359e-02  1.72357498e+02 -5.52331566e+01]\n",
      " [ 4.43352546e-01  1.10544506e+01 -5.58057853e+01]]\n"
     ]
    }
   ],
   "source": [
    "def QR_Decomposition(A):\n",
    "    H = A.copy()\n",
    "    rows, cols = H.shape\n",
    "    Qt = np.identity(rows)\n",
    "    for j in range(cols-1):\n",
    "        for i in range(j+1, rows):\n",
    "            Pt = buildPijMatrix(A, i, j)\n",
    "            H = Pt@H\n",
    "            Qt = Pt@Qt\n",
    "    return Qt.T, H\n",
    "Q, R = decomposition(A)\n",
    "print(Q)\n",
    "print(R)"
   ]
  },
  {
   "cell_type": "code",
   "execution_count": 43,
   "id": "9cde5471",
   "metadata": {},
   "outputs": [],
   "source": [
    "def calc_error(A):\n",
    "    soma = 0\n",
    "    for i in range(1, A.shape[0]):\n",
    "        for j in range(1, A.shape[1]):\n",
    "            if(i!=j):\n",
    "                soma += A[i,j]**2\n",
    "    return math.sqrt(soma)"
   ]
  },
  {
   "cell_type": "code",
   "execution_count": 66,
   "id": "1f2398d6",
   "metadata": {},
   "outputs": [],
   "source": [
    "def QR(A, e, H):\n",
    "    M = A.copy()\n",
    "    rows, cols = M.shape\n",
    "    Q = np.zeros((rows, 1))\n",
    "    R = np.zeros((rows, 1))\n",
    "    \n",
    "    P = H\n",
    "    MAX_INTERATION = 2000\n",
    "    i = 0\n",
    "    error = calc_error(M)\n",
    "    while(error > e and i < MAX_INTERATION):\n",
    "        Q, R = QR_Decomposition(M)\n",
    "        M = R@Q\n",
    "        P = P@Q\n",
    "        error = calc_error(M)\n",
    "        i += 1\n",
    "    return M, P\n",
    "M, P = QR(Qt, ERROR, H)"
   ]
  },
  {
   "cell_type": "code",
   "execution_count": 48,
   "id": "bda59316",
   "metadata": {},
   "outputs": [
    {
     "data": {
      "text/plain": [
       "array([[ 0.9904607 , -0.00323377,  0.13775755],\n",
       "       [-0.00830485,  0.99650634,  0.08310325],\n",
       "       [-0.13754501, -0.08345456,  0.98697351]])"
      ]
     },
     "execution_count": 48,
     "metadata": {},
     "output_type": "execute_result"
    }
   ],
   "source": [
    "M"
   ]
  },
  {
   "cell_type": "code",
   "execution_count": 49,
   "id": "e2cfe9a9",
   "metadata": {},
   "outputs": [
    {
     "data": {
      "text/plain": [
       "array([[  6.09537076, -20.19335429, -22.90617897],\n",
       "       [-83.60464932,  31.08052898, 161.9940262 ],\n",
       "       [ 28.31859139, -38.3236034 ,  12.03908114]])"
      ]
     },
     "execution_count": 49,
     "metadata": {},
     "output_type": "execute_result"
    }
   ],
   "source": [
    "P"
   ]
  },
  {
   "cell_type": "code",
   "execution_count": null,
   "id": "bcaf948d",
   "metadata": {},
   "outputs": [],
   "source": []
  }
 ],
 "metadata": {
  "kernelspec": {
   "display_name": "Python 3 (ipykernel)",
   "language": "python",
   "name": "python3"
  },
  "language_info": {
   "codemirror_mode": {
    "name": "ipython",
    "version": 3
   },
   "file_extension": ".py",
   "mimetype": "text/x-python",
   "name": "python",
   "nbconvert_exporter": "python",
   "pygments_lexer": "ipython3",
   "version": "3.9.5"
  }
 },
 "nbformat": 4,
 "nbformat_minor": 5
}
