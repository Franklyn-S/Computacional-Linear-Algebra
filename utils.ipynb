{
 "cells": [
  {
   "cell_type": "code",
   "execution_count": 1,
   "id": "fcafe69e",
   "metadata": {},
   "outputs": [],
   "source": [
    "import numpy as np"
   ]
  },
  {
   "cell_type": "code",
   "execution_count": 2,
   "id": "d4f6fd6e",
   "metadata": {},
   "outputs": [],
   "source": [
    "matrix = np.array([\n",
    "  np.array([20, 7, 9], dtype=float),\n",
    "  np.array([7, 30, 8], dtype=float),\n",
    "  np.array([9, 8, 30], dtype=float),\n",
    "])"
   ]
  },
  {
   "cell_type": "code",
   "execution_count": 3,
   "id": "2dbc042c",
   "metadata": {},
   "outputs": [],
   "source": [
    "b = np.array([\n",
    "  np.array([16], dtype=float),\n",
    "  np.array([38], dtype=float),\n",
    "  np.array([38], dtype=float),\n",
    "])"
   ]
  },
  {
   "cell_type": "code",
   "execution_count": 4,
   "id": "632d4b32",
   "metadata": {},
   "outputs": [
    {
     "data": {
      "text/plain": [
       "(30.0, 2, 2)"
      ]
     },
     "execution_count": 4,
     "metadata": {},
     "output_type": "execute_result"
    }
   ],
   "source": [
    "# Find the absolute maximum from M(p:n, p:n) to use it as a pivot\n",
    "# Parameters:\n",
    "#    M - Matrix\n",
    "# Return\n",
    "#   - The row and column index of the biggest value in the matrix\n",
    "def find_biggest_pivot_value_id(M, p):\n",
    "    pivot = 0\n",
    "    row_idx = 0\n",
    "    col_idx = 0\n",
    "    n = M[0].size\n",
    "    M_ = abs(M[p:n].T[p:n].T)\n",
    "    if np.max(M_) > abs(np.min(M_)):\n",
    "        pivot = np.max(M_)\n",
    "        row_idx = np.amax(M_, axis=1).argmax()\n",
    "        col_idx = np.amax(M_, axis=0).argmax()\n",
    "    else:\n",
    "        pivot = abs(np.min(M_))\n",
    "        row_idx = np.amin(M_, axis=1).argmin()\n",
    "        col_idx = np.amin(M_, axis=0).argmin()\n",
    "                \n",
    "    return pivot, row_idx + p, col_idx + p\n",
    "find_biggest_pivot_value_id(matrix, 2)"
   ]
  },
  {
   "cell_type": "code",
   "execution_count": 5,
   "id": "d50f7f14",
   "metadata": {},
   "outputs": [],
   "source": [
    "# Swap Lines in matrix\n",
    "def swap_lines(M, line1, line2):\n",
    "    M_copy = M.copy()\n",
    "    M_copy[[line1, line2]] = M_copy[[line2, line1]]\n",
    "    return M_copy"
   ]
  },
  {
   "cell_type": "code",
   "execution_count": 6,
   "id": "0aa27fbb",
   "metadata": {},
   "outputs": [],
   "source": [
    "# Swap columns in a matrix and result\n",
    "def swap_columns(M, b, col1, col2):\n",
    "    M_copy = M.copy()\n",
    "    b_ = b.copy()    \n",
    "    M_copy[:, [col1, col2]] = M_copy[:, [col2, col1]]\n",
    "    b_[[col1, col2]] = b_[[col2, col1]]\n",
    "    return M_copy, b_\n",
    "# swap_columns(matrix, b, 0, 1)"
   ]
  },
  {
   "cell_type": "code",
   "execution_count": null,
   "id": "b365dc2a",
   "metadata": {},
   "outputs": [],
   "source": []
  }
 ],
 "metadata": {
  "kernelspec": {
   "display_name": "Python 3",
   "language": "python",
   "name": "python3"
  },
  "language_info": {
   "codemirror_mode": {
    "name": "ipython",
    "version": 3
   },
   "file_extension": ".py",
   "mimetype": "text/x-python",
   "name": "python",
   "nbconvert_exporter": "python",
   "pygments_lexer": "ipython3",
   "version": "3.9.2"
  }
 },
 "nbformat": 4,
 "nbformat_minor": 5
}
