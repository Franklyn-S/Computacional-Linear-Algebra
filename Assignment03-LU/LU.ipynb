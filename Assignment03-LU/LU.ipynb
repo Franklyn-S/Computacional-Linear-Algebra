{
 "cells": [
  {
   "cell_type": "code",
   "execution_count": 1,
   "id": "e47a1861",
   "metadata": {},
   "outputs": [],
   "source": [
    "import numpy as np"
   ]
  },
  {
   "cell_type": "code",
   "execution_count": 2,
   "id": "44410f55",
   "metadata": {},
   "outputs": [],
   "source": [
    "matrix = np.array([\n",
    "  np.array([20, 7, 9], dtype=float),\n",
    "  np.array([7, 30, 8], dtype=float),\n",
    "  np.array([9, 8, 30], dtype=float),\n",
    "])"
   ]
  },
  {
   "cell_type": "code",
   "execution_count": 3,
   "id": "4ec73f7a",
   "metadata": {},
   "outputs": [],
   "source": [
    "b = np.array([\n",
    "  np.array([16], dtype=float),\n",
    "  np.array([38], dtype=float),\n",
    "  np.array([38], dtype=float),\n",
    "])"
   ]
  },
  {
   "cell_type": "code",
   "execution_count": 4,
   "id": "d310b023",
   "metadata": {},
   "outputs": [
    {
     "data": {
      "text/plain": [
       "(30.0, 2, 2)"
      ]
     },
     "execution_count": 4,
     "metadata": {},
     "output_type": "execute_result"
    }
   ],
   "source": [
    "# Find the absolute maximum from M(p:n, p:n) to use it as a pivot\n",
    "# Parameters:\n",
    "#    M - Matrix\n",
    "# Return\n",
    "#   - The row and column index of the biggest value in the matrix\n",
    "def find_biggest_pivot_value_id(M, p):\n",
    "    pivot = 0\n",
    "    row_idx = 0\n",
    "    col_idx = 0\n",
    "    n = M[0].size\n",
    "    M_ = abs(M[p:n].T[p:n].T)\n",
    "    if np.max(M_) > abs(np.min(M_)):\n",
    "        pivot = np.max(M_)\n",
    "        row_idx = np.amax(M_, axis=1).argmax()\n",
    "        col_idx = np.amax(M_, axis=0).argmax()\n",
    "    else:\n",
    "        pivot = abs(np.min(M_))\n",
    "        row_idx = np.amin(M_, axis=1).argmin()\n",
    "        col_idx = np.amin(M_, axis=0).argmin()\n",
    "                \n",
    "    return pivot, row_idx + p, col_idx + p\n",
    "find_biggest_pivot_value_id(matrix, 2)"
   ]
  },
  {
   "cell_type": "code",
   "execution_count": 5,
   "id": "6b39b0cf",
   "metadata": {},
   "outputs": [],
   "source": [
    "# Swap Lines in matrix\n",
    "def swap_lines(M, line1, line2):\n",
    "    M_copy = M.copy()\n",
    "    M_copy[[line1, line2]] = M_copy[[line2, line1]]\n",
    "    return M_copy"
   ]
  },
  {
   "cell_type": "code",
   "execution_count": 6,
   "id": "1c9e954b",
   "metadata": {},
   "outputs": [],
   "source": [
    "# Swap columns in a matrix and result\n",
    "def swap_columns(M, b, col1, col2):\n",
    "    M_copy = M.copy()\n",
    "    b_ = b.copy()    \n",
    "    M_copy[:, [col1, col2]] = M_copy[:, [col2, col1]]\n",
    "    b_[[col1, col2]] = b_[[col2, col1]]\n",
    "    return M_copy, b_\n",
    "# swap_columns(matrix, b, 0, 1)"
   ]
  },
  {
   "cell_type": "code",
   "execution_count": 7,
   "id": "bf98e14a",
   "metadata": {},
   "outputs": [],
   "source": [
    "A =  np.array([\n",
    "  np.array([40, 3, 9, 7, 8], dtype=float),\n",
    "  np.array([3, 23, 4, 7, 12], dtype=float),\n",
    "  np.array([9, 4, 65, 16, 15], dtype=float),\n",
    "  np.array([7, 7, 16, 37, 12], dtype=float),\n",
    "  np.array([8, 12, 15, 12, 51], dtype=float),\n",
    "])\n",
    "x = np.array([\n",
    "  np.array([1], dtype=float),\n",
    "  np.array([1], dtype=float),\n",
    "  np.array([1], dtype=float),\n",
    "  np.array([1], dtype=float),\n",
    "  np.array([1], dtype=float),\n",
    "])"
   ]
  },
  {
   "cell_type": "code",
   "execution_count": 8,
   "id": "76d7aea7",
   "metadata": {},
   "outputs": [
    {
     "name": "stdout",
     "output_type": "stream",
     "text": [
      "[[1.         0.         0.         0.         0.        ]\n",
      " [0.075      1.         0.         0.         0.        ]\n",
      " [0.225      0.14599341 1.         0.         0.        ]\n",
      " [0.175      0.28430296 0.21571107 1.         0.        ]\n",
      " [0.2        0.50054885 0.1846016  0.15698148 1.        ]]\n",
      "[[40.          3.          9.          7.          8.        ]\n",
      " [ 0.         22.775       3.325       6.475      11.4       ]\n",
      " [ 0.          0.         62.4895719  13.47969265 11.53567508]\n",
      " [ 0.          0.          0.         31.02641934  4.87057336]\n",
      " [ 0.          0.          0.          0.         40.7996492 ]]\n",
      "[[1.        ]\n",
      " [0.925     ]\n",
      " [0.63995609]\n",
      " [0.42397414]\n",
      " [0.15229931]]\n",
      "[0 1 2 3 4]\n"
     ]
    }
   ],
   "source": [
    "def LU(Matrix, b):\n",
    "    b_ = b.copy()\n",
    "    lines_size = len(Matrix)\n",
    "    col_size = Matrix[0].size\n",
    "    L = np.identity(lines_size)\n",
    "    U = Matrix.copy()\n",
    "    \n",
    "    # build the permutation vector\n",
    "    perm = np.arange(col_size);\n",
    "    \n",
    "    for c in range(col_size-1): # columns         \n",
    "        for l in range(c+1, lines_size): # lines            \n",
    "            alfa = - U[l][c] / U[c][c]\n",
    "            L[l][c] = - alfa         \n",
    "            U[l] += alfa*U[c]\n",
    "            U[l][c] = 0\n",
    "            b_[l][0] += alfa*b_[c][0]\n",
    "        \n",
    "    return L, U, b_, perm\n",
    "L, U, b_, perm = LU(A, x)\n",
    "\n",
    "print(L)\n",
    "print(U)\n",
    "print(b_)\n",
    "print(perm)"
   ]
  },
  {
   "cell_type": "code",
   "execution_count": 9,
   "id": "70813d8f",
   "metadata": {},
   "outputs": [
    {
     "name": "stdout",
     "output_type": "stream",
     "text": [
      "[[1.         0.         0.        ]\n",
      " [0.35       1.         0.        ]\n",
      " [0.45       0.17604356 1.        ]]\n",
      "[[20.          7.          9.        ]\n",
      " [ 0.         27.55        4.85      ]\n",
      " [ 0.          0.         25.09618875]]\n",
      "[[16.        ]\n",
      " [32.4       ]\n",
      " [25.09618875]]\n",
      "[0 1 2]\n"
     ]
    }
   ],
   "source": [
    "def LU_with_total_pivot(Matrix, b):\n",
    "    b_ = b.copy()\n",
    "    lines_size = len(Matrix)\n",
    "    col_size = Matrix[0].size\n",
    "    L = np.identity(lines_size)\n",
    "    U = Matrix.copy()\n",
    "    \n",
    "    # build the permutation vector\n",
    "    perm = np.arange(col_size);\n",
    "    \n",
    "    for c in range(col_size-1): # columns\n",
    "        # we find the absolute maximum from A(c:n, c:n) to use it as a pivot\n",
    "        \n",
    "        if (abs(U[c][c]) < 0.0001):\n",
    "            pivot, idx_biggest_line, idx_biggest_col = find_biggest_pivot_value_id(U, c)     \n",
    "            if (idx_biggest_line != c and idx_biggest_col > c-1):\n",
    "                U = swap_lines(U, idx_biggest_line, c) \n",
    "            if (idx_biggest_col != c and idx_biggest_col > c-1):\n",
    "                U, perm = swap_columns(U, perm, idx_biggest_col, c)       \n",
    "        \n",
    "        for l in range(c+1, lines_size): # lines\n",
    "            \n",
    "            alfa = - U[l][c] / U[c][c]             \n",
    "            L[l][c] = - alfa         \n",
    "            U[l] += alfa*U[c]\n",
    "            U[l][c] = 0\n",
    "            b_[l][0] += alfa*b_[c][0]\n",
    "        \n",
    "    return L, U, b_, perm\n",
    "L, U, b_, perm = LU_with_total_pivot(matrix, b)\n",
    "\n",
    "print(L)\n",
    "print(U)\n",
    "print(b_)\n",
    "print(perm)"
   ]
  },
  {
   "cell_type": "code",
   "execution_count": 10,
   "id": "0a9b080b",
   "metadata": {},
   "outputs": [
    {
     "data": {
      "text/plain": [
       "array([[16.        ],\n",
       "       [32.4       ],\n",
       "       [25.09618875]])"
      ]
     },
     "execution_count": 10,
     "metadata": {},
     "output_type": "execute_result"
    }
   ],
   "source": [
    "b_"
   ]
  },
  {
   "cell_type": "markdown",
   "id": "f26f9209",
   "metadata": {},
   "source": [
    "## Ly = b"
   ]
  },
  {
   "cell_type": "code",
   "execution_count": 11,
   "id": "ea0848ab",
   "metadata": {},
   "outputs": [
    {
     "data": {
      "text/plain": [
       "array([16.        , 32.4       , 25.09618875])"
      ]
     },
     "execution_count": 11,
     "metadata": {},
     "output_type": "execute_result"
    }
   ],
   "source": [
    "n = b_.size\n",
    "y = np.zeros(n)\n",
    "\n",
    "for k in range(n):\n",
    "    s = 0\n",
    "    for j in range (k+1, n):\n",
    "        s += L[k][j]*y[j]\n",
    "    y[k] = (b_[k] - s) / L[k][k]\n",
    "y"
   ]
  },
  {
   "cell_type": "markdown",
   "id": "44261d87",
   "metadata": {},
   "source": [
    "## Ux = y"
   ]
  },
  {
   "cell_type": "code",
   "execution_count": 12,
   "id": "fb29d416",
   "metadata": {},
   "outputs": [
    {
     "data": {
      "text/plain": [
       "array([0., 1., 1.])"
      ]
     },
     "execution_count": 12,
     "metadata": {},
     "output_type": "execute_result"
    }
   ],
   "source": [
    "last_index = n-1\n",
    "x = np.zeros(n)\n",
    "x[last_index] = y[last_index]/U[last_index][last_index]\n",
    "for k in range(last_index-1, 0, -1 ):\n",
    "    s = 0\n",
    "    for j in range(k+1, n):\n",
    "        s += U[k][j]*x[j]\n",
    "    x[k] = (y[k] - s) / U[k][k]\n",
    "x"
   ]
  },
  {
   "cell_type": "code",
   "execution_count": null,
   "id": "e871b0c3",
   "metadata": {},
   "outputs": [],
   "source": []
  }
 ],
 "metadata": {
  "kernelspec": {
   "display_name": "Python 3",
   "language": "python",
   "name": "python3"
  },
  "language_info": {
   "codemirror_mode": {
    "name": "ipython",
    "version": 3
   },
   "file_extension": ".py",
   "mimetype": "text/x-python",
   "name": "python",
   "nbconvert_exporter": "python",
   "pygments_lexer": "ipython3",
   "version": "3.8.8"
  }
 },
 "nbformat": 4,
 "nbformat_minor": 5
}
